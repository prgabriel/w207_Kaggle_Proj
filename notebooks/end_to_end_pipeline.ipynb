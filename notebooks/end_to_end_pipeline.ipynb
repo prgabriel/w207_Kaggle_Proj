{
 "cells": [
  {
   "cell_type": "markdown",
   "metadata": {},
   "source": [
    "# Backpack Kaggle Competition\n",
    "### W207 Final Project - Spring 2025\n",
    "\n",
    "Team: Perry Gabriel, Aurelia Yang\n",
    "\n",
    "University of California, Berkeley\n",
    "\n",
    "## Description\n",
    "\n",
    "In this competition, participants are challenged to develop machine learning models to predict the price of a backpack based on various features. This is a great opportunity to test your skills, learn new techniques, and compete with others in the data science community.\n",
    "\n",
    "## Evaluation\n",
    "\n",
    "Submissions are evaluated on the root mean squared error between the predicted and actual price of the backpack.\n",
    "\n",
    "RMSE is defined as:\n",
    "$$ \\text{RMSE} = \\sqrt{\\frac{1}{n} \\sum_{i=1}^{n} (y_i - \\hat{y}_i)^2} $$\n",
    "\n",
    "where $y_i$ is the actual price of the backpack and $\\hat{y}_i$ is the predicted price of the backpack.\n",
    "\n",
    "## Data Description\n",
    "\n",
    "The data consists of the following columns:\n",
    "\n",
    "- `id`: A unique identifier for the backpack.\n",
    "- `Brand`: The brand of the backpack.\n",
    "- `Material`: The material of the backpack.\n",
    "- `Size`: The size of the backpack.\n",
    "- `Compartments`: The number of compartments in the backpack.\n",
    "- `Laptop Compartment`: Whether the backpack has a laptop compartment.\n",
    "- `Waterproof`: Whether the backpack is waterproof.\n",
    "- `Style`: The style of the backpack.\n",
    "- `Color`: The color of the backpack.\n",
    "- `Weight Capacity (kg)`: The weight capacity of the backpack in kilograms.\n",
    "- `Price`: The price of the backpack.\n",
    "\n",
    "## Data Splits\n",
    "The dataset is split into three parts:\n",
    "- **Train**: The training set contains 80% of the data and is used to train the model.\n",
    "- **Validation**: The validation set contains 10% of the data and is used to tune the model.\n",
    "- **Test**: The test set contains 10% of the data and is used to evaluate the model's performance.\n",
    "\n",
    "## Important Notes about the Dataset\n",
    "- There are (4) different datasets: train, train_extra, test, and sample_submission.\n",
    "- The `train` dataset contains the training data with the target variable `Price`.\n",
    "- The `train_extra` dataset contains additional training data that can be used to improve the model's performance.\n",
    "- The `test` dataset contains the test data without the target variable `Price`.\n",
    "- The `sample_submission` dataset contains a sample submission file with the correct format.\n",
    "- The `train` and `train_extra` datasets are combined to create a larger training set.\n",
    "- The `train_extra` dataset was provided by the competition organizers and is not part of the original dataset.\n",
    "\n",
    "## Submission File\n",
    "\n",
    "For each `id` in the test set, you must predict the price of the backpack. The file should contain a header and have the following format:\n",
    "\n",
    "```python\n",
    "id,Price\n",
    "1,100\n",
    "2,200\n",
    "3,300\n",
    "```\n",
    "\n",
    "## Timeline\n",
    "\n",
    "- **Start Date** - February 1, 2025\n",
    "- **Entry Deadline** - Same as the Final Submission Deadline\n",
    "- **Team Merger Deadline** - Same as the Final Submission Deadline\n",
    "- **Final Submission Deadline** - February 28, 2025\n",
    "\n",
    "All deadlines are at 11:59 PM UTC on the corresponding day unless otherwise noted. The competition organizers reserve the right to update the contest timeline if they deem it necessary.\n",
    "\n",
    "## Acknowledgements\n",
    "\n",
    "This dataset was created by [Kaggle](https://www.kaggle.com/datasets/souradippal/student-bag-price-prediction-dataset) for the purpose of hosting a competition.\n",
    "\n",
    "## Team Members\n",
    "\n",
    "- [Perry Gabriel](https://www.kaggle.com/prgabriel)\n",
    "- [Aurelia Yang](https://www.kaggle.com/aureliayang)\n",
    "\n",
    "## Sections\n",
    "\n",
    "1. [Exploratory Data Analysis](#1.-Exploratory-Data-Analysis)\n",
    "2. [Data Preprocessing](#2.-Data-Preprocessing)\n",
    "3. [Modeling](#3.-Modeling)\n",
    "4. [Evaluation](#4.-Evaluation)\n",
    "5. [Optimization](#5.-Optimization)\n",
    "6. [Final Submission](#6.-Final-Submission)\n",
    "7. [Conclusion](#7.-Conclusion)\n",
    "\n",
    "## References\n",
    "[Backpack Kaggle Competition Link](https://www.kaggle.com/competitions/playground-series-s5e2)\n",
    "\n",
    "[Backpack Kaggle Competition Dataset](https://www.kaggle.com/datasets/souradippal/student-bag-price-prediction-dataset)\n"
   ]
  },
  {
   "cell_type": "markdown",
   "metadata": {},
   "source": [
    "## 0. Setup\n",
    "Install the required libraries\n",
    "Uncomment to download the data from Kaggle. This assumes you have the Kaggle API installed and configured."
   ]
  },
  {
   "cell_type": "code",
   "execution_count": 1,
   "metadata": {},
   "outputs": [],
   "source": [
    "# !kaggle competitions download -c playground-series-s5e2\n",
    "# !unzip playground-series-s5e2 -d ../data/raw/\n",
    "# !pip install -r ../requirements.txt\n",
    "# !rm -rf playground-series-s5e2.zip"
   ]
  },
  {
   "cell_type": "code",
   "execution_count": null,
   "metadata": {},
   "outputs": [],
   "source": [
    "import os\n",
    "import mlflow\n",
    "import pandas as pd\n",
    "import numpy as np\n",
    "import matplotlib.pyplot as plt\n",
    "import seaborn as sns\n",
    "from sklearn.model_selection import KFold\n",
    "from sklearn.preprocessing import StandardScaler, LabelEncoder\n",
    "from category_encoders import OneHotEncoder\n",
    "from sklearn.linear_model import LinearRegression\n",
    "from sklearn.model_selection import train_test_split\n",
    "from sklearn.metrics import root_mean_squared_error\n",
    "import warnings\n",
    "warnings.filterwarnings(\"ignore\", category=UserWarning) #used to supress the tf version warning. "
   ]
  },
  {
   "cell_type": "code",
   "execution_count": 5,
   "metadata": {},
   "outputs": [
    {
     "name": "stderr",
     "output_type": "stream",
     "text": [
      "2025/03/30 21:59:52 INFO mlflow.tracking.fluent: Experiment with name 'E2E_Kaggle_Backpack_Project' does not exist. Creating a new experiment.\n",
      "2025/03/30 21:59:52 INFO mlflow.tracking.fluent: Autologging successfully enabled for sklearn.\n",
      "2025/03/30 21:59:52 INFO mlflow.tracking.fluent: Autologging successfully enabled for statsmodels.\n"
     ]
    }
   ],
   "source": [
    "mlflow.set_experiment(experiment_name='E2E_Kaggle_Backpack_Project')\n",
    "# mlflow.set_tracking_uri(\"colab\")\n",
    "mlflow.autolog()"
   ]
  },
  {
   "cell_type": "code",
   "execution_count": 7,
   "metadata": {},
   "outputs": [],
   "source": [
    "raw_data_path = '../data/raw/'"
   ]
  },
  {
   "cell_type": "code",
   "execution_count": 8,
   "metadata": {},
   "outputs": [
    {
     "name": "stdout",
     "output_type": "stream",
     "text": [
      "\u001b[31mERROR: Could not find a version that satisfies the requirement google.colab (from versions: none)\u001b[0m\u001b[31m\n",
      "\u001b[0m\u001b[31mERROR: No matching distribution found for google.colab\u001b[0m\u001b[31m\n",
      "\u001b[0mNote: you may need to restart the kernel to use updated packages.\n",
      "Not running on Google Colab\n",
      "Created 'raw_data_path' directory for non-Colab Environment.\n"
     ]
    }
   ],
   "source": [
    "%pip install google.colab\n",
    "\n",
    "def check_and_import_colab():\n",
    "    global raw_data_path\n",
    "    global processed_path\n",
    "    try:\n",
    "        from google.colab import drive  \n",
    "        import google.colab\n",
    "        print(\"Running on Google Colab\")\n",
    "        # Import necessary libraries for Google Colab\n",
    "        drive.mount('/content/drive')\n",
    "\n",
    "        # define paths\n",
    "        raw_data_path = \"/content/drive/MyDrive/Kaggle_Backpack/data/raw/\"\n",
    "        processed_path = \"/content/drive/MyDrive/Kaggle_Backpack/data/processed/\"\n",
    "        return True\n",
    "\n",
    "    except ImportError:\n",
    "        print(\"Not running on Google Colab\")\n",
    "        os.makedirs(raw_data_path, exist_ok=True)\n",
    "        print(\"Created 'raw_data_path' directory for non-Colab Environment.\")\n",
    "        return False\n",
    "\n",
    "on_colab = check_and_import_colab()"
   ]
  },
  {
   "cell_type": "markdown",
   "metadata": {},
   "source": [
    "## 1. Exploratory Data Analysis\n",
    "\n",
    "In this section, we will explore the data to understand its structure and identify any patterns or trends that may be present.\n"
   ]
  },
  {
   "cell_type": "markdown",
   "metadata": {},
   "source": [
    "### 1.1 Load the Data\n",
    "\n",
    "Let's start by loading the data and taking a look at the first few rows."
   ]
  },
  {
   "cell_type": "code",
   "execution_count": 9,
   "metadata": {},
   "outputs": [
    {
     "data": {
      "application/vnd.microsoft.datawrangler.viewer.v0+json": {
       "columns": [
        {
         "name": "id",
         "rawType": "int64",
         "type": "integer"
        },
        {
         "name": "Brand",
         "rawType": "object",
         "type": "string"
        },
        {
         "name": "Material",
         "rawType": "object",
         "type": "string"
        },
        {
         "name": "Size",
         "rawType": "object",
         "type": "string"
        },
        {
         "name": "Compartments",
         "rawType": "float64",
         "type": "float"
        },
        {
         "name": "Laptop Compartment",
         "rawType": "object",
         "type": "string"
        },
        {
         "name": "Waterproof",
         "rawType": "object",
         "type": "string"
        },
        {
         "name": "Style",
         "rawType": "object",
         "type": "string"
        },
        {
         "name": "Color",
         "rawType": "object",
         "type": "string"
        },
        {
         "name": "Weight Capacity (kg)",
         "rawType": "float64",
         "type": "float"
        },
        {
         "name": "Price",
         "rawType": "float64",
         "type": "float"
        }
       ],
       "conversionMethod": "pd.DataFrame",
       "ref": "36adbd13-9f30-4183-99b7-7591fcfd005f",
       "rows": [
        [
         "0",
         "Jansport",
         "Leather",
         "Medium",
         "7.0",
         "Yes",
         "No",
         "Tote",
         "Black",
         "11.611722805222309",
         "112.15875"
        ],
        [
         "1",
         "Jansport",
         "Canvas",
         "Small",
         "10.0",
         "Yes",
         "Yes",
         "Messenger",
         "Green",
         "27.07853658053123",
         "68.88056"
        ],
        [
         "2",
         "Under Armour",
         "Leather",
         "Small",
         "2.0",
         "Yes",
         "No",
         "Messenger",
         "Red",
         "16.643759949103497",
         "39.1732"
        ],
        [
         "3",
         "Nike",
         "Nylon",
         "Small",
         "8.0",
         "Yes",
         "No",
         "Messenger",
         "Green",
         "12.937220306632067",
         "80.60793"
        ],
        [
         "4",
         "Adidas",
         "Canvas",
         "Medium",
         "1.0",
         "Yes",
         "Yes",
         "Messenger",
         "Green",
         "17.749338465908988",
         "86.02312"
        ]
       ],
       "shape": {
        "columns": 10,
        "rows": 5
       }
      },
      "text/html": [
       "<div>\n",
       "<style scoped>\n",
       "    .dataframe tbody tr th:only-of-type {\n",
       "        vertical-align: middle;\n",
       "    }\n",
       "\n",
       "    .dataframe tbody tr th {\n",
       "        vertical-align: top;\n",
       "    }\n",
       "\n",
       "    .dataframe thead th {\n",
       "        text-align: right;\n",
       "    }\n",
       "</style>\n",
       "<table border=\"1\" class=\"dataframe\">\n",
       "  <thead>\n",
       "    <tr style=\"text-align: right;\">\n",
       "      <th></th>\n",
       "      <th>Brand</th>\n",
       "      <th>Material</th>\n",
       "      <th>Size</th>\n",
       "      <th>Compartments</th>\n",
       "      <th>Laptop Compartment</th>\n",
       "      <th>Waterproof</th>\n",
       "      <th>Style</th>\n",
       "      <th>Color</th>\n",
       "      <th>Weight Capacity (kg)</th>\n",
       "      <th>Price</th>\n",
       "    </tr>\n",
       "    <tr>\n",
       "      <th>id</th>\n",
       "      <th></th>\n",
       "      <th></th>\n",
       "      <th></th>\n",
       "      <th></th>\n",
       "      <th></th>\n",
       "      <th></th>\n",
       "      <th></th>\n",
       "      <th></th>\n",
       "      <th></th>\n",
       "      <th></th>\n",
       "    </tr>\n",
       "  </thead>\n",
       "  <tbody>\n",
       "    <tr>\n",
       "      <th>0</th>\n",
       "      <td>Jansport</td>\n",
       "      <td>Leather</td>\n",
       "      <td>Medium</td>\n",
       "      <td>7.0</td>\n",
       "      <td>Yes</td>\n",
       "      <td>No</td>\n",
       "      <td>Tote</td>\n",
       "      <td>Black</td>\n",
       "      <td>11.611723</td>\n",
       "      <td>112.15875</td>\n",
       "    </tr>\n",
       "    <tr>\n",
       "      <th>1</th>\n",
       "      <td>Jansport</td>\n",
       "      <td>Canvas</td>\n",
       "      <td>Small</td>\n",
       "      <td>10.0</td>\n",
       "      <td>Yes</td>\n",
       "      <td>Yes</td>\n",
       "      <td>Messenger</td>\n",
       "      <td>Green</td>\n",
       "      <td>27.078537</td>\n",
       "      <td>68.88056</td>\n",
       "    </tr>\n",
       "    <tr>\n",
       "      <th>2</th>\n",
       "      <td>Under Armour</td>\n",
       "      <td>Leather</td>\n",
       "      <td>Small</td>\n",
       "      <td>2.0</td>\n",
       "      <td>Yes</td>\n",
       "      <td>No</td>\n",
       "      <td>Messenger</td>\n",
       "      <td>Red</td>\n",
       "      <td>16.643760</td>\n",
       "      <td>39.17320</td>\n",
       "    </tr>\n",
       "    <tr>\n",
       "      <th>3</th>\n",
       "      <td>Nike</td>\n",
       "      <td>Nylon</td>\n",
       "      <td>Small</td>\n",
       "      <td>8.0</td>\n",
       "      <td>Yes</td>\n",
       "      <td>No</td>\n",
       "      <td>Messenger</td>\n",
       "      <td>Green</td>\n",
       "      <td>12.937220</td>\n",
       "      <td>80.60793</td>\n",
       "    </tr>\n",
       "    <tr>\n",
       "      <th>4</th>\n",
       "      <td>Adidas</td>\n",
       "      <td>Canvas</td>\n",
       "      <td>Medium</td>\n",
       "      <td>1.0</td>\n",
       "      <td>Yes</td>\n",
       "      <td>Yes</td>\n",
       "      <td>Messenger</td>\n",
       "      <td>Green</td>\n",
       "      <td>17.749338</td>\n",
       "      <td>86.02312</td>\n",
       "    </tr>\n",
       "  </tbody>\n",
       "</table>\n",
       "</div>"
      ],
      "text/plain": [
       "           Brand Material    Size  Compartments Laptop Compartment Waterproof  \\\n",
       "id                                                                              \n",
       "0       Jansport  Leather  Medium           7.0                Yes         No   \n",
       "1       Jansport   Canvas   Small          10.0                Yes        Yes   \n",
       "2   Under Armour  Leather   Small           2.0                Yes         No   \n",
       "3           Nike    Nylon   Small           8.0                Yes         No   \n",
       "4         Adidas   Canvas  Medium           1.0                Yes        Yes   \n",
       "\n",
       "        Style  Color  Weight Capacity (kg)      Price  \n",
       "id                                                     \n",
       "0        Tote  Black             11.611723  112.15875  \n",
       "1   Messenger  Green             27.078537   68.88056  \n",
       "2   Messenger    Red             16.643760   39.17320  \n",
       "3   Messenger  Green             12.937220   80.60793  \n",
       "4   Messenger  Green             17.749338   86.02312  "
      ]
     },
     "execution_count": 9,
     "metadata": {},
     "output_type": "execute_result"
    }
   ],
   "source": [
    "train_df = pd.read_csv(filepath_or_buffer=os.path.join(raw_data_path, 'train.csv'), index_col=0, header=0, sep=',')\n",
    "test_df = pd.read_csv(filepath_or_buffer=os.path.join(raw_data_path, 'test.csv'), index_col=0, header=0, sep=',')\n",
    "train_extra_df = pd.read_csv(filepath_or_buffer=os.path.join(raw_data_path, 'training_extra.csv'), index_col=0, header=0, sep=',')\n",
    "\n",
    "train_df.head()"
   ]
  },
  {
   "cell_type": "code",
   "execution_count": 10,
   "metadata": {},
   "outputs": [
    {
     "data": {
      "application/vnd.microsoft.datawrangler.viewer.v0+json": {
       "columns": [
        {
         "name": "id",
         "rawType": "int64",
         "type": "integer"
        },
        {
         "name": "Brand",
         "rawType": "object",
         "type": "unknown"
        },
        {
         "name": "Material",
         "rawType": "object",
         "type": "string"
        },
        {
         "name": "Size",
         "rawType": "object",
         "type": "string"
        },
        {
         "name": "Compartments",
         "rawType": "float64",
         "type": "float"
        },
        {
         "name": "Laptop Compartment",
         "rawType": "object",
         "type": "string"
        },
        {
         "name": "Waterproof",
         "rawType": "object",
         "type": "string"
        },
        {
         "name": "Style",
         "rawType": "object",
         "type": "string"
        },
        {
         "name": "Color",
         "rawType": "object",
         "type": "string"
        },
        {
         "name": "Weight Capacity (kg)",
         "rawType": "float64",
         "type": "float"
        }
       ],
       "conversionMethod": "pd.DataFrame",
       "ref": "488f66e0-7df9-4be8-b317-bad8df67a951",
       "rows": [
        [
         "300000",
         "Puma",
         "Leather",
         "Small",
         "2.0",
         "No",
         "No",
         "Tote",
         "Green",
         "20.671146610744945"
        ],
        [
         "300001",
         "Nike",
         "Canvas",
         "Medium",
         "7.0",
         "No",
         "Yes",
         "Backpack",
         "Green",
         "13.564104570506816"
        ],
        [
         "300002",
         "Adidas",
         "Canvas",
         "Large",
         "9.0",
         "No",
         "Yes",
         "Messenger",
         "Blue",
         "11.80979907832244"
        ],
        [
         "300003",
         "Adidas",
         "Nylon",
         "Large",
         "1.0",
         "Yes",
         "No",
         "Messenger",
         "Green",
         "18.47703608562426"
        ],
        [
         "300004",
         null,
         "Nylon",
         "Large",
         "2.0",
         "Yes",
         "Yes",
         "Tote",
         "Black",
         "9.90795303354249"
        ]
       ],
       "shape": {
        "columns": 9,
        "rows": 5
       }
      },
      "text/html": [
       "<div>\n",
       "<style scoped>\n",
       "    .dataframe tbody tr th:only-of-type {\n",
       "        vertical-align: middle;\n",
       "    }\n",
       "\n",
       "    .dataframe tbody tr th {\n",
       "        vertical-align: top;\n",
       "    }\n",
       "\n",
       "    .dataframe thead th {\n",
       "        text-align: right;\n",
       "    }\n",
       "</style>\n",
       "<table border=\"1\" class=\"dataframe\">\n",
       "  <thead>\n",
       "    <tr style=\"text-align: right;\">\n",
       "      <th></th>\n",
       "      <th>Brand</th>\n",
       "      <th>Material</th>\n",
       "      <th>Size</th>\n",
       "      <th>Compartments</th>\n",
       "      <th>Laptop Compartment</th>\n",
       "      <th>Waterproof</th>\n",
       "      <th>Style</th>\n",
       "      <th>Color</th>\n",
       "      <th>Weight Capacity (kg)</th>\n",
       "    </tr>\n",
       "    <tr>\n",
       "      <th>id</th>\n",
       "      <th></th>\n",
       "      <th></th>\n",
       "      <th></th>\n",
       "      <th></th>\n",
       "      <th></th>\n",
       "      <th></th>\n",
       "      <th></th>\n",
       "      <th></th>\n",
       "      <th></th>\n",
       "    </tr>\n",
       "  </thead>\n",
       "  <tbody>\n",
       "    <tr>\n",
       "      <th>300000</th>\n",
       "      <td>Puma</td>\n",
       "      <td>Leather</td>\n",
       "      <td>Small</td>\n",
       "      <td>2.0</td>\n",
       "      <td>No</td>\n",
       "      <td>No</td>\n",
       "      <td>Tote</td>\n",
       "      <td>Green</td>\n",
       "      <td>20.671147</td>\n",
       "    </tr>\n",
       "    <tr>\n",
       "      <th>300001</th>\n",
       "      <td>Nike</td>\n",
       "      <td>Canvas</td>\n",
       "      <td>Medium</td>\n",
       "      <td>7.0</td>\n",
       "      <td>No</td>\n",
       "      <td>Yes</td>\n",
       "      <td>Backpack</td>\n",
       "      <td>Green</td>\n",
       "      <td>13.564105</td>\n",
       "    </tr>\n",
       "    <tr>\n",
       "      <th>300002</th>\n",
       "      <td>Adidas</td>\n",
       "      <td>Canvas</td>\n",
       "      <td>Large</td>\n",
       "      <td>9.0</td>\n",
       "      <td>No</td>\n",
       "      <td>Yes</td>\n",
       "      <td>Messenger</td>\n",
       "      <td>Blue</td>\n",
       "      <td>11.809799</td>\n",
       "    </tr>\n",
       "    <tr>\n",
       "      <th>300003</th>\n",
       "      <td>Adidas</td>\n",
       "      <td>Nylon</td>\n",
       "      <td>Large</td>\n",
       "      <td>1.0</td>\n",
       "      <td>Yes</td>\n",
       "      <td>No</td>\n",
       "      <td>Messenger</td>\n",
       "      <td>Green</td>\n",
       "      <td>18.477036</td>\n",
       "    </tr>\n",
       "    <tr>\n",
       "      <th>300004</th>\n",
       "      <td>NaN</td>\n",
       "      <td>Nylon</td>\n",
       "      <td>Large</td>\n",
       "      <td>2.0</td>\n",
       "      <td>Yes</td>\n",
       "      <td>Yes</td>\n",
       "      <td>Tote</td>\n",
       "      <td>Black</td>\n",
       "      <td>9.907953</td>\n",
       "    </tr>\n",
       "  </tbody>\n",
       "</table>\n",
       "</div>"
      ],
      "text/plain": [
       "         Brand Material    Size  Compartments Laptop Compartment Waterproof  \\\n",
       "id                                                                            \n",
       "300000    Puma  Leather   Small           2.0                 No         No   \n",
       "300001    Nike   Canvas  Medium           7.0                 No        Yes   \n",
       "300002  Adidas   Canvas   Large           9.0                 No        Yes   \n",
       "300003  Adidas    Nylon   Large           1.0                Yes         No   \n",
       "300004     NaN    Nylon   Large           2.0                Yes        Yes   \n",
       "\n",
       "            Style  Color  Weight Capacity (kg)  \n",
       "id                                              \n",
       "300000       Tote  Green             20.671147  \n",
       "300001   Backpack  Green             13.564105  \n",
       "300002  Messenger   Blue             11.809799  \n",
       "300003  Messenger  Green             18.477036  \n",
       "300004       Tote  Black              9.907953  "
      ]
     },
     "execution_count": 10,
     "metadata": {},
     "output_type": "execute_result"
    }
   ],
   "source": [
    "test_df.head()"
   ]
  },
  {
   "cell_type": "code",
   "execution_count": 11,
   "metadata": {},
   "outputs": [
    {
     "data": {
      "application/vnd.microsoft.datawrangler.viewer.v0+json": {
       "columns": [
        {
         "name": "id",
         "rawType": "int64",
         "type": "integer"
        },
        {
         "name": "Brand",
         "rawType": "object",
         "type": "string"
        },
        {
         "name": "Material",
         "rawType": "object",
         "type": "string"
        },
        {
         "name": "Size",
         "rawType": "object",
         "type": "string"
        },
        {
         "name": "Compartments",
         "rawType": "float64",
         "type": "float"
        },
        {
         "name": "Laptop Compartment",
         "rawType": "object",
         "type": "string"
        },
        {
         "name": "Waterproof",
         "rawType": "object",
         "type": "string"
        },
        {
         "name": "Style",
         "rawType": "object",
         "type": "string"
        },
        {
         "name": "Color",
         "rawType": "object",
         "type": "string"
        },
        {
         "name": "Weight Capacity (kg)",
         "rawType": "float64",
         "type": "float"
        },
        {
         "name": "Price",
         "rawType": "float64",
         "type": "float"
        }
       ],
       "conversionMethod": "pd.DataFrame",
       "ref": "203a0ed5-8ad1-42f2-8c14-c40177063fa7",
       "rows": [
        [
         "500000",
         "Under Armour",
         "Canvas",
         "Small",
         "10.0",
         "Yes",
         "Yes",
         "Tote",
         "Blue",
         "23.882052195806214",
         "114.11068"
        ],
        [
         "500001",
         "Puma",
         "Polyester",
         "Small",
         "4.0",
         "No",
         "Yes",
         "Backpack",
         "Green",
         "11.869095352089928",
         "129.74972"
        ],
        [
         "500002",
         "Jansport",
         "Polyester",
         "Small",
         "8.0",
         "Yes",
         "Yes",
         "Tote",
         "Red",
         "8.0923022079504",
         "21.3737"
        ],
        [
         "500003",
         "Nike",
         "Nylon",
         "Large",
         "7.0",
         "No",
         "No",
         "Messenger",
         "Pink",
         "7.719581111844035",
         "48.09209"
        ],
        [
         "500004",
         "Nike",
         "Leather",
         "Large",
         "9.0",
         "No",
         "Yes",
         "Tote",
         "Green",
         "22.741826316262863",
         "77.32461"
        ]
       ],
       "shape": {
        "columns": 10,
        "rows": 5
       }
      },
      "text/html": [
       "<div>\n",
       "<style scoped>\n",
       "    .dataframe tbody tr th:only-of-type {\n",
       "        vertical-align: middle;\n",
       "    }\n",
       "\n",
       "    .dataframe tbody tr th {\n",
       "        vertical-align: top;\n",
       "    }\n",
       "\n",
       "    .dataframe thead th {\n",
       "        text-align: right;\n",
       "    }\n",
       "</style>\n",
       "<table border=\"1\" class=\"dataframe\">\n",
       "  <thead>\n",
       "    <tr style=\"text-align: right;\">\n",
       "      <th></th>\n",
       "      <th>Brand</th>\n",
       "      <th>Material</th>\n",
       "      <th>Size</th>\n",
       "      <th>Compartments</th>\n",
       "      <th>Laptop Compartment</th>\n",
       "      <th>Waterproof</th>\n",
       "      <th>Style</th>\n",
       "      <th>Color</th>\n",
       "      <th>Weight Capacity (kg)</th>\n",
       "      <th>Price</th>\n",
       "    </tr>\n",
       "    <tr>\n",
       "      <th>id</th>\n",
       "      <th></th>\n",
       "      <th></th>\n",
       "      <th></th>\n",
       "      <th></th>\n",
       "      <th></th>\n",
       "      <th></th>\n",
       "      <th></th>\n",
       "      <th></th>\n",
       "      <th></th>\n",
       "      <th></th>\n",
       "    </tr>\n",
       "  </thead>\n",
       "  <tbody>\n",
       "    <tr>\n",
       "      <th>500000</th>\n",
       "      <td>Under Armour</td>\n",
       "      <td>Canvas</td>\n",
       "      <td>Small</td>\n",
       "      <td>10.0</td>\n",
       "      <td>Yes</td>\n",
       "      <td>Yes</td>\n",
       "      <td>Tote</td>\n",
       "      <td>Blue</td>\n",
       "      <td>23.882052</td>\n",
       "      <td>114.11068</td>\n",
       "    </tr>\n",
       "    <tr>\n",
       "      <th>500001</th>\n",
       "      <td>Puma</td>\n",
       "      <td>Polyester</td>\n",
       "      <td>Small</td>\n",
       "      <td>4.0</td>\n",
       "      <td>No</td>\n",
       "      <td>Yes</td>\n",
       "      <td>Backpack</td>\n",
       "      <td>Green</td>\n",
       "      <td>11.869095</td>\n",
       "      <td>129.74972</td>\n",
       "    </tr>\n",
       "    <tr>\n",
       "      <th>500002</th>\n",
       "      <td>Jansport</td>\n",
       "      <td>Polyester</td>\n",
       "      <td>Small</td>\n",
       "      <td>8.0</td>\n",
       "      <td>Yes</td>\n",
       "      <td>Yes</td>\n",
       "      <td>Tote</td>\n",
       "      <td>Red</td>\n",
       "      <td>8.092302</td>\n",
       "      <td>21.37370</td>\n",
       "    </tr>\n",
       "    <tr>\n",
       "      <th>500003</th>\n",
       "      <td>Nike</td>\n",
       "      <td>Nylon</td>\n",
       "      <td>Large</td>\n",
       "      <td>7.0</td>\n",
       "      <td>No</td>\n",
       "      <td>No</td>\n",
       "      <td>Messenger</td>\n",
       "      <td>Pink</td>\n",
       "      <td>7.719581</td>\n",
       "      <td>48.09209</td>\n",
       "    </tr>\n",
       "    <tr>\n",
       "      <th>500004</th>\n",
       "      <td>Nike</td>\n",
       "      <td>Leather</td>\n",
       "      <td>Large</td>\n",
       "      <td>9.0</td>\n",
       "      <td>No</td>\n",
       "      <td>Yes</td>\n",
       "      <td>Tote</td>\n",
       "      <td>Green</td>\n",
       "      <td>22.741826</td>\n",
       "      <td>77.32461</td>\n",
       "    </tr>\n",
       "  </tbody>\n",
       "</table>\n",
       "</div>"
      ],
      "text/plain": [
       "               Brand   Material   Size  Compartments Laptop Compartment  \\\n",
       "id                                                                        \n",
       "500000  Under Armour     Canvas  Small          10.0                Yes   \n",
       "500001          Puma  Polyester  Small           4.0                 No   \n",
       "500002      Jansport  Polyester  Small           8.0                Yes   \n",
       "500003          Nike      Nylon  Large           7.0                 No   \n",
       "500004          Nike    Leather  Large           9.0                 No   \n",
       "\n",
       "       Waterproof      Style  Color  Weight Capacity (kg)      Price  \n",
       "id                                                                    \n",
       "500000        Yes       Tote   Blue             23.882052  114.11068  \n",
       "500001        Yes   Backpack  Green             11.869095  129.74972  \n",
       "500002        Yes       Tote    Red              8.092302   21.37370  \n",
       "500003         No  Messenger   Pink              7.719581   48.09209  \n",
       "500004        Yes       Tote  Green             22.741826   77.32461  "
      ]
     },
     "execution_count": 11,
     "metadata": {},
     "output_type": "execute_result"
    }
   ],
   "source": [
    "train_extra_df.head()"
   ]
  },
  {
   "cell_type": "markdown",
   "metadata": {},
   "source": [
    "### 1.2 Data Summary\n",
    "\n",
    "Next, let's take a look at the summary statistics of the data.\n"
   ]
  },
  {
   "cell_type": "code",
   "execution_count": 12,
   "metadata": {},
   "outputs": [
    {
     "data": {
      "application/vnd.microsoft.datawrangler.viewer.v0+json": {
       "columns": [
        {
         "name": "index",
         "rawType": "object",
         "type": "string"
        },
        {
         "name": "Compartments",
         "rawType": "float64",
         "type": "float"
        },
        {
         "name": "Weight Capacity (kg)",
         "rawType": "float64",
         "type": "float"
        },
        {
         "name": "Price",
         "rawType": "float64",
         "type": "float"
        }
       ],
       "conversionMethod": "pd.DataFrame",
       "ref": "f5fe35bb-d4d8-4081-ab82-18e9a829085d",
       "rows": [
        [
         "count",
         "300000.0",
         "299862.0",
         "300000.0"
        ],
        [
         "mean",
         "5.44359",
         "18.029993961322983",
         "81.41110683033334"
        ],
        [
         "std",
         "2.890765602221302",
         "6.966914127262591",
         "39.039340377126834"
        ],
        [
         "min",
         "1.0",
         "5.0",
         "15.0"
        ],
        [
         "25%",
         "3.0",
         "12.097866893747888",
         "47.38462"
        ],
        [
         "50%",
         "5.0",
         "18.068613590691783",
         "80.95612"
        ],
        [
         "75%",
         "8.0",
         "24.002375328501792",
         "115.01816"
        ],
        [
         "max",
         "10.0",
         "30.0",
         "150.0"
        ]
       ],
       "shape": {
        "columns": 3,
        "rows": 8
       }
      },
      "text/html": [
       "<div>\n",
       "<style scoped>\n",
       "    .dataframe tbody tr th:only-of-type {\n",
       "        vertical-align: middle;\n",
       "    }\n",
       "\n",
       "    .dataframe tbody tr th {\n",
       "        vertical-align: top;\n",
       "    }\n",
       "\n",
       "    .dataframe thead th {\n",
       "        text-align: right;\n",
       "    }\n",
       "</style>\n",
       "<table border=\"1\" class=\"dataframe\">\n",
       "  <thead>\n",
       "    <tr style=\"text-align: right;\">\n",
       "      <th></th>\n",
       "      <th>Compartments</th>\n",
       "      <th>Weight Capacity (kg)</th>\n",
       "      <th>Price</th>\n",
       "    </tr>\n",
       "  </thead>\n",
       "  <tbody>\n",
       "    <tr>\n",
       "      <th>count</th>\n",
       "      <td>300000.000000</td>\n",
       "      <td>299862.000000</td>\n",
       "      <td>300000.000000</td>\n",
       "    </tr>\n",
       "    <tr>\n",
       "      <th>mean</th>\n",
       "      <td>5.443590</td>\n",
       "      <td>18.029994</td>\n",
       "      <td>81.411107</td>\n",
       "    </tr>\n",
       "    <tr>\n",
       "      <th>std</th>\n",
       "      <td>2.890766</td>\n",
       "      <td>6.966914</td>\n",
       "      <td>39.039340</td>\n",
       "    </tr>\n",
       "    <tr>\n",
       "      <th>min</th>\n",
       "      <td>1.000000</td>\n",
       "      <td>5.000000</td>\n",
       "      <td>15.000000</td>\n",
       "    </tr>\n",
       "    <tr>\n",
       "      <th>25%</th>\n",
       "      <td>3.000000</td>\n",
       "      <td>12.097867</td>\n",
       "      <td>47.384620</td>\n",
       "    </tr>\n",
       "    <tr>\n",
       "      <th>50%</th>\n",
       "      <td>5.000000</td>\n",
       "      <td>18.068614</td>\n",
       "      <td>80.956120</td>\n",
       "    </tr>\n",
       "    <tr>\n",
       "      <th>75%</th>\n",
       "      <td>8.000000</td>\n",
       "      <td>24.002375</td>\n",
       "      <td>115.018160</td>\n",
       "    </tr>\n",
       "    <tr>\n",
       "      <th>max</th>\n",
       "      <td>10.000000</td>\n",
       "      <td>30.000000</td>\n",
       "      <td>150.000000</td>\n",
       "    </tr>\n",
       "  </tbody>\n",
       "</table>\n",
       "</div>"
      ],
      "text/plain": [
       "        Compartments  Weight Capacity (kg)          Price\n",
       "count  300000.000000         299862.000000  300000.000000\n",
       "mean        5.443590             18.029994      81.411107\n",
       "std         2.890766              6.966914      39.039340\n",
       "min         1.000000              5.000000      15.000000\n",
       "25%         3.000000             12.097867      47.384620\n",
       "50%         5.000000             18.068614      80.956120\n",
       "75%         8.000000             24.002375     115.018160\n",
       "max        10.000000             30.000000     150.000000"
      ]
     },
     "execution_count": 12,
     "metadata": {},
     "output_type": "execute_result"
    }
   ],
   "source": [
    "# Display the summary statistics of the training data\n",
    "train_df.describe()"
   ]
  },
  {
   "cell_type": "code",
   "execution_count": 13,
   "metadata": {},
   "outputs": [
    {
     "data": {
      "application/vnd.microsoft.datawrangler.viewer.v0+json": {
       "columns": [
        {
         "name": "index",
         "rawType": "object",
         "type": "string"
        },
        {
         "name": "Compartments",
         "rawType": "float64",
         "type": "float"
        },
        {
         "name": "Weight Capacity (kg)",
         "rawType": "float64",
         "type": "float"
        }
       ],
       "conversionMethod": "pd.DataFrame",
       "ref": "cc58bf96-88f4-4fda-a408-6f78403f9756",
       "rows": [
        [
         "count",
         "200000.0",
         "199923.0"
        ],
        [
         "mean",
         "5.442855",
         "17.993033231213683"
        ],
        [
         "std",
         "2.888739547459387",
         "6.972079190220874"
        ],
        [
         "min",
         "1.0",
         "5.0"
        ],
        [
         "25%",
         "3.0",
         "12.068874533082408"
        ],
        [
         "50%",
         "5.0",
         "18.05474967089252"
        ],
        [
         "75%",
         "8.0",
         "23.96570039616602"
        ],
        [
         "max",
         "10.0",
         "30.0"
        ]
       ],
       "shape": {
        "columns": 2,
        "rows": 8
       }
      },
      "text/html": [
       "<div>\n",
       "<style scoped>\n",
       "    .dataframe tbody tr th:only-of-type {\n",
       "        vertical-align: middle;\n",
       "    }\n",
       "\n",
       "    .dataframe tbody tr th {\n",
       "        vertical-align: top;\n",
       "    }\n",
       "\n",
       "    .dataframe thead th {\n",
       "        text-align: right;\n",
       "    }\n",
       "</style>\n",
       "<table border=\"1\" class=\"dataframe\">\n",
       "  <thead>\n",
       "    <tr style=\"text-align: right;\">\n",
       "      <th></th>\n",
       "      <th>Compartments</th>\n",
       "      <th>Weight Capacity (kg)</th>\n",
       "    </tr>\n",
       "  </thead>\n",
       "  <tbody>\n",
       "    <tr>\n",
       "      <th>count</th>\n",
       "      <td>200000.000000</td>\n",
       "      <td>199923.000000</td>\n",
       "    </tr>\n",
       "    <tr>\n",
       "      <th>mean</th>\n",
       "      <td>5.442855</td>\n",
       "      <td>17.993033</td>\n",
       "    </tr>\n",
       "    <tr>\n",
       "      <th>std</th>\n",
       "      <td>2.888740</td>\n",
       "      <td>6.972079</td>\n",
       "    </tr>\n",
       "    <tr>\n",
       "      <th>min</th>\n",
       "      <td>1.000000</td>\n",
       "      <td>5.000000</td>\n",
       "    </tr>\n",
       "    <tr>\n",
       "      <th>25%</th>\n",
       "      <td>3.000000</td>\n",
       "      <td>12.068875</td>\n",
       "    </tr>\n",
       "    <tr>\n",
       "      <th>50%</th>\n",
       "      <td>5.000000</td>\n",
       "      <td>18.054750</td>\n",
       "    </tr>\n",
       "    <tr>\n",
       "      <th>75%</th>\n",
       "      <td>8.000000</td>\n",
       "      <td>23.965700</td>\n",
       "    </tr>\n",
       "    <tr>\n",
       "      <th>max</th>\n",
       "      <td>10.000000</td>\n",
       "      <td>30.000000</td>\n",
       "    </tr>\n",
       "  </tbody>\n",
       "</table>\n",
       "</div>"
      ],
      "text/plain": [
       "        Compartments  Weight Capacity (kg)\n",
       "count  200000.000000         199923.000000\n",
       "mean        5.442855             17.993033\n",
       "std         2.888740              6.972079\n",
       "min         1.000000              5.000000\n",
       "25%         3.000000             12.068875\n",
       "50%         5.000000             18.054750\n",
       "75%         8.000000             23.965700\n",
       "max        10.000000             30.000000"
      ]
     },
     "execution_count": 13,
     "metadata": {},
     "output_type": "execute_result"
    }
   ],
   "source": [
    "test_df.describe()"
   ]
  },
  {
   "cell_type": "code",
   "execution_count": 14,
   "metadata": {},
   "outputs": [
    {
     "data": {
      "application/vnd.microsoft.datawrangler.viewer.v0+json": {
       "columns": [
        {
         "name": "index",
         "rawType": "object",
         "type": "string"
        },
        {
         "name": "Compartments",
         "rawType": "float64",
         "type": "float"
        },
        {
         "name": "Weight Capacity (kg)",
         "rawType": "float64",
         "type": "float"
        },
        {
         "name": "Price",
         "rawType": "float64",
         "type": "float"
        }
       ],
       "conversionMethod": "pd.DataFrame",
       "ref": "8b1291ed-2cf2-4739-b5f1-aa727d6a82cc",
       "rows": [
        [
         "count",
         "3694318.0",
         "3692648.0",
         "3694318.0"
        ],
        [
         "mean",
         "5.434021651628258",
         "18.008827050065847",
         "81.3582010118999"
        ],
        [
         "std",
         "2.8932267894257735",
         "6.974540537586853",
         "38.930501407520566"
        ],
        [
         "min",
         "1.0",
         "5.0",
         "15.0"
        ],
        [
         "25%",
         "3.0",
         "12.068540696883236",
         "47.47778"
        ],
        [
         "50%",
         "5.0",
         "18.05242875372074",
         "80.98592"
        ],
        [
         "75%",
         "8.0",
         "23.985804160575704",
         "114.84343"
        ],
        [
         "max",
         "10.0",
         "30.0",
         "150.0"
        ]
       ],
       "shape": {
        "columns": 3,
        "rows": 8
       }
      },
      "text/html": [
       "<div>\n",
       "<style scoped>\n",
       "    .dataframe tbody tr th:only-of-type {\n",
       "        vertical-align: middle;\n",
       "    }\n",
       "\n",
       "    .dataframe tbody tr th {\n",
       "        vertical-align: top;\n",
       "    }\n",
       "\n",
       "    .dataframe thead th {\n",
       "        text-align: right;\n",
       "    }\n",
       "</style>\n",
       "<table border=\"1\" class=\"dataframe\">\n",
       "  <thead>\n",
       "    <tr style=\"text-align: right;\">\n",
       "      <th></th>\n",
       "      <th>Compartments</th>\n",
       "      <th>Weight Capacity (kg)</th>\n",
       "      <th>Price</th>\n",
       "    </tr>\n",
       "  </thead>\n",
       "  <tbody>\n",
       "    <tr>\n",
       "      <th>count</th>\n",
       "      <td>3.694318e+06</td>\n",
       "      <td>3.692648e+06</td>\n",
       "      <td>3.694318e+06</td>\n",
       "    </tr>\n",
       "    <tr>\n",
       "      <th>mean</th>\n",
       "      <td>5.434022e+00</td>\n",
       "      <td>1.800883e+01</td>\n",
       "      <td>8.135820e+01</td>\n",
       "    </tr>\n",
       "    <tr>\n",
       "      <th>std</th>\n",
       "      <td>2.893227e+00</td>\n",
       "      <td>6.974541e+00</td>\n",
       "      <td>3.893050e+01</td>\n",
       "    </tr>\n",
       "    <tr>\n",
       "      <th>min</th>\n",
       "      <td>1.000000e+00</td>\n",
       "      <td>5.000000e+00</td>\n",
       "      <td>1.500000e+01</td>\n",
       "    </tr>\n",
       "    <tr>\n",
       "      <th>25%</th>\n",
       "      <td>3.000000e+00</td>\n",
       "      <td>1.206854e+01</td>\n",
       "      <td>4.747778e+01</td>\n",
       "    </tr>\n",
       "    <tr>\n",
       "      <th>50%</th>\n",
       "      <td>5.000000e+00</td>\n",
       "      <td>1.805243e+01</td>\n",
       "      <td>8.098592e+01</td>\n",
       "    </tr>\n",
       "    <tr>\n",
       "      <th>75%</th>\n",
       "      <td>8.000000e+00</td>\n",
       "      <td>2.398580e+01</td>\n",
       "      <td>1.148434e+02</td>\n",
       "    </tr>\n",
       "    <tr>\n",
       "      <th>max</th>\n",
       "      <td>1.000000e+01</td>\n",
       "      <td>3.000000e+01</td>\n",
       "      <td>1.500000e+02</td>\n",
       "    </tr>\n",
       "  </tbody>\n",
       "</table>\n",
       "</div>"
      ],
      "text/plain": [
       "       Compartments  Weight Capacity (kg)         Price\n",
       "count  3.694318e+06          3.692648e+06  3.694318e+06\n",
       "mean   5.434022e+00          1.800883e+01  8.135820e+01\n",
       "std    2.893227e+00          6.974541e+00  3.893050e+01\n",
       "min    1.000000e+00          5.000000e+00  1.500000e+01\n",
       "25%    3.000000e+00          1.206854e+01  4.747778e+01\n",
       "50%    5.000000e+00          1.805243e+01  8.098592e+01\n",
       "75%    8.000000e+00          2.398580e+01  1.148434e+02\n",
       "max    1.000000e+01          3.000000e+01  1.500000e+02"
      ]
     },
     "execution_count": 14,
     "metadata": {},
     "output_type": "execute_result"
    }
   ],
   "source": [
    "train_extra_df.describe()"
   ]
  },
  {
   "cell_type": "markdown",
   "metadata": {},
   "source": [
    "Let's see the data types of each column."
   ]
  },
  {
   "cell_type": "code",
   "execution_count": 15,
   "metadata": {},
   "outputs": [
    {
     "name": "stdout",
     "output_type": "stream",
     "text": [
      "Data types of columns in training dataset\n",
      "Brand                    object\n",
      "Material                 object\n",
      "Size                     object\n",
      "Compartments            float64\n",
      "Laptop Compartment       object\n",
      "Waterproof               object\n",
      "Style                    object\n",
      "Color                    object\n",
      "Weight Capacity (kg)    float64\n",
      "Price                   float64\n",
      "dtype: object\n",
      "\n",
      "Data types of columns in training extra dataset\n",
      "Brand                    object\n",
      "Material                 object\n",
      "Size                     object\n",
      "Compartments            float64\n",
      "Laptop Compartment       object\n",
      "Waterproof               object\n",
      "Style                    object\n",
      "Color                    object\n",
      "Weight Capacity (kg)    float64\n",
      "Price                   float64\n",
      "dtype: object\n",
      "\n",
      "Data types of columns in testing dataset\n",
      "Brand                    object\n",
      "Material                 object\n",
      "Size                     object\n",
      "Compartments            float64\n",
      "Laptop Compartment       object\n",
      "Waterproof               object\n",
      "Style                    object\n",
      "Color                    object\n",
      "Weight Capacity (kg)    float64\n",
      "dtype: object\n",
      "\n"
     ]
    }
   ],
   "source": [
    "print(f\"Data types of columns in training dataset\\n{train_df.dtypes}\\n\")\n",
    "print(f\"Data types of columns in training extra dataset\\n{train_extra_df.dtypes}\\n\")\n",
    "print(f\"Data types of columns in testing dataset\\n{test_df.dtypes}\\n\")"
   ]
  },
  {
   "cell_type": "markdown",
   "metadata": {},
   "source": [
    "Let's get the shape of the data."
   ]
  },
  {
   "cell_type": "code",
   "execution_count": 16,
   "metadata": {},
   "outputs": [
    {
     "name": "stdout",
     "output_type": "stream",
     "text": [
      "Shape of training data: (300000, 10)\n",
      "Shape of training extra data: (3694318, 10)\n",
      "Shape of testing data: (200000, 9)\n"
     ]
    }
   ],
   "source": [
    "# Display the shape of the dataset.\n",
    "print(f\"Shape of training data: {train_df.shape}\")\n",
    "print(f\"Shape of training extra data: {train_extra_df.shape}\")\n",
    "print(f\"Shape of testing data: {test_df.shape}\")"
   ]
  },
  {
   "cell_type": "markdown",
   "metadata": {},
   "source": [
    "Now, let's combine the train and train_extra datasets to create a larger training set."
   ]
  },
  {
   "cell_type": "code",
   "execution_count": 27,
   "metadata": {},
   "outputs": [
    {
     "name": "stdout",
     "output_type": "stream",
     "text": [
      "Shape of combined training data: (3994318, 10)\n"
     ]
    },
    {
     "data": {
      "application/vnd.microsoft.datawrangler.viewer.v0+json": {
       "columns": [
        {
         "name": "index",
         "rawType": "int64",
         "type": "integer"
        },
        {
         "name": "Brand",
         "rawType": "object",
         "type": "string"
        },
        {
         "name": "Material",
         "rawType": "object",
         "type": "string"
        },
        {
         "name": "Size",
         "rawType": "object",
         "type": "string"
        },
        {
         "name": "Compartments",
         "rawType": "float64",
         "type": "float"
        },
        {
         "name": "Laptop Compartment",
         "rawType": "object",
         "type": "string"
        },
        {
         "name": "Waterproof",
         "rawType": "object",
         "type": "string"
        },
        {
         "name": "Style",
         "rawType": "object",
         "type": "string"
        },
        {
         "name": "Color",
         "rawType": "object",
         "type": "string"
        },
        {
         "name": "Weight Capacity (kg)",
         "rawType": "float64",
         "type": "float"
        },
        {
         "name": "Price",
         "rawType": "float64",
         "type": "float"
        }
       ],
       "conversionMethod": "pd.DataFrame",
       "ref": "fbd9ef6f-2c58-4b23-8694-68b7213e104b",
       "rows": [
        [
         "0",
         "Jansport",
         "Leather",
         "Medium",
         "7.0",
         "Yes",
         "No",
         "Tote",
         "Black",
         "11.611722805222309",
         "112.15875"
        ],
        [
         "1",
         "Jansport",
         "Canvas",
         "Small",
         "10.0",
         "Yes",
         "Yes",
         "Messenger",
         "Green",
         "27.07853658053123",
         "68.88056"
        ],
        [
         "2",
         "Under Armour",
         "Leather",
         "Small",
         "2.0",
         "Yes",
         "No",
         "Messenger",
         "Red",
         "16.643759949103497",
         "39.1732"
        ],
        [
         "3",
         "Nike",
         "Nylon",
         "Small",
         "8.0",
         "Yes",
         "No",
         "Messenger",
         "Green",
         "12.937220306632067",
         "80.60793"
        ],
        [
         "4",
         "Adidas",
         "Canvas",
         "Medium",
         "1.0",
         "Yes",
         "Yes",
         "Messenger",
         "Green",
         "17.749338465908988",
         "86.02312"
        ]
       ],
       "shape": {
        "columns": 10,
        "rows": 5
       }
      },
      "text/html": [
       "<div>\n",
       "<style scoped>\n",
       "    .dataframe tbody tr th:only-of-type {\n",
       "        vertical-align: middle;\n",
       "    }\n",
       "\n",
       "    .dataframe tbody tr th {\n",
       "        vertical-align: top;\n",
       "    }\n",
       "\n",
       "    .dataframe thead th {\n",
       "        text-align: right;\n",
       "    }\n",
       "</style>\n",
       "<table border=\"1\" class=\"dataframe\">\n",
       "  <thead>\n",
       "    <tr style=\"text-align: right;\">\n",
       "      <th></th>\n",
       "      <th>Brand</th>\n",
       "      <th>Material</th>\n",
       "      <th>Size</th>\n",
       "      <th>Compartments</th>\n",
       "      <th>Laptop Compartment</th>\n",
       "      <th>Waterproof</th>\n",
       "      <th>Style</th>\n",
       "      <th>Color</th>\n",
       "      <th>Weight Capacity (kg)</th>\n",
       "      <th>Price</th>\n",
       "    </tr>\n",
       "  </thead>\n",
       "  <tbody>\n",
       "    <tr>\n",
       "      <th>0</th>\n",
       "      <td>Jansport</td>\n",
       "      <td>Leather</td>\n",
       "      <td>Medium</td>\n",
       "      <td>7.0</td>\n",
       "      <td>Yes</td>\n",
       "      <td>No</td>\n",
       "      <td>Tote</td>\n",
       "      <td>Black</td>\n",
       "      <td>11.611723</td>\n",
       "      <td>112.15875</td>\n",
       "    </tr>\n",
       "    <tr>\n",
       "      <th>1</th>\n",
       "      <td>Jansport</td>\n",
       "      <td>Canvas</td>\n",
       "      <td>Small</td>\n",
       "      <td>10.0</td>\n",
       "      <td>Yes</td>\n",
       "      <td>Yes</td>\n",
       "      <td>Messenger</td>\n",
       "      <td>Green</td>\n",
       "      <td>27.078537</td>\n",
       "      <td>68.88056</td>\n",
       "    </tr>\n",
       "    <tr>\n",
       "      <th>2</th>\n",
       "      <td>Under Armour</td>\n",
       "      <td>Leather</td>\n",
       "      <td>Small</td>\n",
       "      <td>2.0</td>\n",
       "      <td>Yes</td>\n",
       "      <td>No</td>\n",
       "      <td>Messenger</td>\n",
       "      <td>Red</td>\n",
       "      <td>16.643760</td>\n",
       "      <td>39.17320</td>\n",
       "    </tr>\n",
       "    <tr>\n",
       "      <th>3</th>\n",
       "      <td>Nike</td>\n",
       "      <td>Nylon</td>\n",
       "      <td>Small</td>\n",
       "      <td>8.0</td>\n",
       "      <td>Yes</td>\n",
       "      <td>No</td>\n",
       "      <td>Messenger</td>\n",
       "      <td>Green</td>\n",
       "      <td>12.937220</td>\n",
       "      <td>80.60793</td>\n",
       "    </tr>\n",
       "    <tr>\n",
       "      <th>4</th>\n",
       "      <td>Adidas</td>\n",
       "      <td>Canvas</td>\n",
       "      <td>Medium</td>\n",
       "      <td>1.0</td>\n",
       "      <td>Yes</td>\n",
       "      <td>Yes</td>\n",
       "      <td>Messenger</td>\n",
       "      <td>Green</td>\n",
       "      <td>17.749338</td>\n",
       "      <td>86.02312</td>\n",
       "    </tr>\n",
       "  </tbody>\n",
       "</table>\n",
       "</div>"
      ],
      "text/plain": [
       "          Brand Material    Size  Compartments Laptop Compartment Waterproof  \\\n",
       "0      Jansport  Leather  Medium           7.0                Yes         No   \n",
       "1      Jansport   Canvas   Small          10.0                Yes        Yes   \n",
       "2  Under Armour  Leather   Small           2.0                Yes         No   \n",
       "3          Nike    Nylon   Small           8.0                Yes         No   \n",
       "4        Adidas   Canvas  Medium           1.0                Yes        Yes   \n",
       "\n",
       "       Style  Color  Weight Capacity (kg)      Price  \n",
       "0       Tote  Black             11.611723  112.15875  \n",
       "1  Messenger  Green             27.078537   68.88056  \n",
       "2  Messenger    Red             16.643760   39.17320  \n",
       "3  Messenger  Green             12.937220   80.60793  \n",
       "4  Messenger  Green             17.749338   86.02312  "
      ]
     },
     "execution_count": 27,
     "metadata": {},
     "output_type": "execute_result"
    }
   ],
   "source": [
    "# Combine train and train_extra datasets\n",
    "train_df = pd.concat([train_df, train_extra_df], axis=0).reset_index(drop=True)\n",
    "\n",
    "# Display the shape of the combined dataset\n",
    "print(f\"Shape of combined training data: {train_df.shape}\")\n",
    "\n",
    "# Display the shape of the combined dataset\n",
    "train_df.shape\n",
    "\n",
    "# Display the first few rows of the combined dataset\n",
    "train_df.head()\n"
   ]
  },
  {
   "cell_type": "markdown",
   "metadata": {},
   "source": [
    "Let's capture the categories of the categorical variables."
   ]
  },
  {
   "cell_type": "code",
   "execution_count": 28,
   "metadata": {},
   "outputs": [
    {
     "name": "stdout",
     "output_type": "stream",
     "text": [
      "There are 8 categorical columns:\n",
      "['Brand', 'Material', 'Size', 'Compartments', 'Laptop Compartment', 'Waterproof', 'Style', 'Color']\n",
      "There are 1 numerical column:\n",
      "['Weight Capacity (kg)']\n"
     ]
    }
   ],
   "source": [
    "cat_columns = train_df.columns[:-2].tolist()  # Dropped the last two columns since we know that these are numerical columns\n",
    "print(f'There are {len(cat_columns)} categorical columns:')\n",
    "print(cat_columns)\n",
    "\n",
    "num_columns = [train_df.columns[-2]]\n",
    "print(f'There are {len(num_columns)} numerical column:')\n",
    "print(num_columns)"
   ]
  },
  {
   "cell_type": "markdown",
   "metadata": {},
   "source": [
    "### 1.3 Data Visualization\n",
    "\n",
    "We created visualizations to better understand the data.\n"
   ]
  },
  {
   "cell_type": "code",
   "execution_count": 29,
   "metadata": {},
   "outputs": [
    {
     "data": {
      "image/png": "[encoded data removed]",
      "text/plain": [
       "<Figure size 640x480 with 1 Axes>"
      ]
     },
     "metadata": {},
     "output_type": "display_data"
    }
   ],
   "source": [
    "# For example, plot a histogram of the price column\n",
    "plt.hist(train_df['Price'], bins=20, edgecolor='black', color='skyblue', rwidth=0.8)\n",
    "plt.xlabel('Price')\n",
    "plt.ylabel('Frequency')\n",
    "plt.title('Histogram of Price (train_df)')\n",
    "plt.grid(axis='y', linestyle='--', alpha=0.9)\n",
    "plt.show()"
   ]
  },
  {
   "cell_type": "markdown",
   "metadata": {},
   "source": [
    "### 1.4 Correlation Matrix\n",
    "\n",
    "Finally, let's create a correlation matrix to see how the features are related to each other.\n"
   ]
  },
  {
   "cell_type": "code",
   "execution_count": 30,
   "metadata": {},
   "outputs": [
    {
     "data": {
      "image/png": "[encoded data removed]",
      "text/plain": [
       "<Figure size 640x480 with 2 Axes>"
      ]
     },
     "metadata": {},
     "output_type": "display_data"
    }
   ],
   "source": [
    "# Select only the numeric columns\n",
    "numeric_cols = train_df.select_dtypes(include=['float64', 'int64'])\n",
    "\n",
    "# Create a correlation matrix\n",
    "corr = numeric_cols.corr()\n",
    "\n",
    "# Display the correlation matrix\n",
    "sns.heatmap(corr, annot=True, cmap='coolwarm')\n",
    "plt.title('Correlation Matrix')\n",
    "plt.show()"
   ]
  },
  {
   "cell_type": "markdown",
   "metadata": {},
   "source": [
    "### Observations so far: \n",
    "\n",
    "- `training_extra` has significantly more records (3.69M) than `training` (300k), which will be useful in improving model training.\n",
    "- Some categorical columns have substantial missing values:\n",
    "    - `Brand`: 9705 missing in `train`, 117,000 missing in `train_extra`\n",
    "    - `Material`, `Style`, `Color`\n",
    "- `train_extra` has a higher proportion of missing values.\n",
    "- Considering:\n",
    "    - Mode imputation for categorical columns\n",
    "    - Mean/median imputation for numerical columns\n"
   ]
  },
  {
   "cell_type": "markdown",
   "metadata": {},
   "source": [
    "### 1.5 Feature Distribution\n",
    "\n",
    "Let's take a look at the distribution of the features."
   ]
  },
  {
   "cell_type": "code",
   "execution_count": null,
   "metadata": {},
   "outputs": [
    {
     "data": {
      "image/png": "[encoded data removed]",
      "text/plain": [
       "<Figure size 1000x500 with 1 Axes>"
      ]
     },
     "metadata": {},
     "output_type": "display_data"
    },
    {
     "data": {
      "image/png": "[encoded data removed]",
      "text/plain": [
       "<Figure size 1000x400 with 1 Axes>"
      ]
     },
     "metadata": {},
     "output_type": "display_data"
    },
    {
     "data": {
      "image/png": "[encoded data removed]",
      "text/plain": [
       "<Figure size 1000x400 with 1 Axes>"
      ]
     },
     "metadata": {},
     "output_type": "display_data"
    },
    {
     "data": {
      "image/png": "[encoded data removed]",
      "text/plain": [
       "<Figure size 1000x400 with 1 Axes>"
      ]
     },
     "metadata": {},
     "output_type": "display_data"
    },
    {
     "data": {
      "image/png": "[encoded data removed]",
      "text/plain": [
       "<Figure size 1000x400 with 1 Axes>"
      ]
     },
     "metadata": {},
     "output_type": "display_data"
    },
    {
     "data": {
      "image/png": "[encoded data removed]",
      "text/plain": [
       "<Figure size 1000x400 with 1 Axes>"
      ]
     },
     "metadata": {},
     "output_type": "display_data"
    },
    {
     "data": {
      "image/png": "[encoded data removed]",
      "text/plain": [
       "<Figure size 1000x400 with 1 Axes>"
      ]
     },
     "metadata": {},
     "output_type": "display_data"
    },
    {
     "data": {
      "image/png": "[encoded data removed]",
      "text/plain": [
       "<Figure size 1000x400 with 1 Axes>"
      ]
     },
     "metadata": {},
     "output_type": "display_data"
    }
   ],
   "source": [
    "# # define numerical and categorical cols\n",
    "# num_cols = train_df.select_dtypes(include=['float64', 'int64']).columns.tolist()\n",
    "# cat_cols = train_df.select_dtypes(include=['object', 'category']).columns.tolist()\n",
    "\n",
    "# # remove price\n",
    "# num_cols.remove('Price')\n",
    "\n",
    "# # feature distribution comparison train.csv vs train_extra.csv\n",
    "# plt.figure(figsize=(12, 5))\n",
    "# sns.kdeplot(train_df['Price'], label='Train', fill=True)\n",
    "# sns.kdeplot(train_extra_df['Price'], label='Train Extra', fill=True)\n",
    "# plt.legend()\n",
    "# plt.title(\"Price Distribution Comparison (Train vs Train Extra)\")\n",
    "# plt.xlabel(\"Price\")\n",
    "# plt.ylabel(\"Density\")\n",
    "# plt.show()\n"
   ]
  },
  {
   "cell_type": "code",
   "execution_count": 33,
   "metadata": {},
   "outputs": [
    {
     "data": {
      "image/png": "[encoded data removed]",
      "text/plain": [
       "<Figure size 1000x500 with 1 Axes>"
      ]
     },
     "metadata": {},
     "output_type": "display_data"
    }
   ],
   "source": [
    "# outlier boxplots\n",
    "plt.figure(figsize=(10, 5))\n",
    "sns.boxplot(x=train_df[\"Price\"])\n",
    "plt.title(\"Boxplot of Backpack Prices\")\n",
    "plt.show()"
   ]
  },
  {
   "cell_type": "code",
   "execution_count": null,
   "metadata": {},
   "outputs": [
    {
     "data": {
      "image/png": "[encoded data removed]",
      "text/plain": [
       "<Figure size 1000x400 with 1 Axes>"
      ]
     },
     "metadata": {},
     "output_type": "display_data"
    },
    {
     "data": {
      "image/png": "[encoded data removed]",
      "text/plain": [
       "<Figure size 1000x400 with 1 Axes>"
      ]
     },
     "metadata": {},
     "output_type": "display_data"
    },
    {
     "data": {
      "image/png": "[encoded data removed]",
      "text/plain": [
       "<Figure size 1000x400 with 1 Axes>"
      ]
     },
     "metadata": {},
     "output_type": "display_data"
    },
    {
     "data": {
      "image/png": "[encoded data removed]",
      "text/plain": [
       "<Figure size 1000x400 with 1 Axes>"
      ]
     },
     "metadata": {},
     "output_type": "display_data"
    },
    {
     "data": {
      "image/png": "[encoded data removed]",
      "text/plain": [
       "<Figure size 1000x400 with 1 Axes>"
      ]
     },
     "metadata": {},
     "output_type": "display_data"
    },
    {
     "data": {
      "image/png": "[encoded data removed]",
      "text/plain": [
       "<Figure size 1000x400 with 1 Axes>"
      ]
     },
     "metadata": {},
     "output_type": "display_data"
    },
    {
     "data": {
      "image/png": "[encoded data removed]",
      "text/plain": [
       "<Figure size 1000x400 with 1 Axes>"
      ]
     },
     "metadata": {},
     "output_type": "display_data"
    },
    {
     "data": {
      "image/png": "[encoded data removed]",
      "text/plain": [
       "<Figure size 1000x400 with 1 Axes>"
      ]
     },
     "metadata": {},
     "output_type": "display_data"
    }
   ],
   "source": [
    "# categorical feature distribution\n",
    "for col in cat_columns:\n",
    "    plt.figure(figsize=(10, 4))\n",
    "    sns.countplot(y=train_df[col], order=train_df[col].value_counts().index, hue=train_df[col], palette=\"coolwarm\", legend=False)\n",
    "    plt.title(f\"Count Plot of {col}\")\n",
    "    plt.show()\n"
   ]
  },
  {
   "cell_type": "markdown",
   "metadata": {},
   "source": [
    "### Observations: Data Loading and Preprocessing\n",
    "\n",
    "#### Outlier Analysis\n",
    "- Slightly right-skewed distribution.\n",
    "- Consider removing outliers?\n",
    "\n",
    "#### Correlation Matrix\n",
    "- Weight capacity is slightly positively correlated with price (0.2).\n",
    "- Categorical feature impact on price needs boxplots by category -> build this out.\n",
    "\n",
    "#### Categorical Feature Distribution\n",
    "- No glaring abnormalities."
   ]
  },
  {
   "cell_type": "markdown",
   "metadata": {},
   "source": [
    "## 2. Data Preprocessing\n",
    "\n",
    "In this section, we will preprocess the data to prepare it for modeling.\n",
    "\n",
    "### 2.1 Missing Values\n",
    "\n",
    "First, let's check for missing values in the data and decide how to handle them."
   ]
  },
  {
   "cell_type": "code",
   "execution_count": null,
   "metadata": {},
   "outputs": [],
   "source": [
    "# train_df.isnull().sum()"
   ]
  },
  {
   "cell_type": "code",
   "execution_count": null,
   "metadata": {},
   "outputs": [],
   "source": [
    "# train_extra_df.isnull().sum()"
   ]
  },
  {
   "cell_type": "code",
   "execution_count": null,
   "metadata": {},
   "outputs": [],
   "source": [
    "# test_df.isnull().sum()"
   ]
  },
  {
   "cell_type": "markdown",
   "metadata": {},
   "source": [
    "Let's fill in missing values categorical values with mode and numerical values with forward fill for both training datasets and test data."
   ]
  },
  {
   "cell_type": "code",
   "execution_count": null,
   "metadata": {},
   "outputs": [],
   "source": [
    "# # combine train and train_extra\n",
    "# train_combined = pd.concat([train_df, train_extra_df], axis=0).reset_index(drop=True)\n",
    "\n",
    "# # fill categorical with mode, others forward fill\n",
    "# for col in cat_cols:\n",
    "#     train_combined[col] = train_combined[col].fillna(train_combined[col].mode()[0])\n",
    "# test_df = test_df.ffill()\n",
    "\n",
    "# for col in num_cols:\n",
    "#     train_combined[col] = train_combined[col].fillna(train_combined[col].median())\n",
    "# test_df[num_cols] = test_df[num_cols].fillna(test_df[num_cols].median())\n",
    "\n",
    "# # one-hot encode (nominal categorical features)\n",
    "# ohe_cols = ['Brand', 'Color', 'Style']\n",
    "# train_encoded_df = pd.get_dummies(train_combined, columns=ohe_cols, drop_first=True)\n",
    "# test_encoded_df = pd.get_dummies(test_df, columns=ohe_cols, drop_first=True)\n",
    "\n",
    "# # ensure test set has same features as train\n",
    "# train_cols = train_encoded_df.columns\n",
    "# test_encoded_df = test_encoded_df.reindex(columns=train_cols, fill_value=0)\n",
    "\n",
    "# # ordinal feature label encoding\n",
    "# le_cols = ['Material', 'Size']\n",
    "# le = LabelEncoder()\n",
    "# for col in le_cols:\n",
    "#     train_encoded_df[col] = le.fit_transform(train_combined[col])\n",
    "#     test_encoded_df[col] = le.transform(test_df[col])\n"
   ]
  },
  {
   "cell_type": "markdown",
   "metadata": {},
   "source": [
    "### 2.2 Feature Engineering\n",
    "\n",
    "In this section, we will create new features that may help improve the performance of our models.\n"
   ]
  },
  {
   "cell_type": "markdown",
   "metadata": {},
   "source": [
    "Creation of Combined (Combined_list) Features\n",
    "\n",
    "For each original categorical column, a new feature is generated by combining it with Weight Capacity.\n",
    "\n",
    "This is done to create a new feature that captures the interaction between the original categorical feature and the weight capacity of the backpack. The new feature is created by multiplying the weight capacity by 100 and adding it to the original categorical feature. This allows us to create a new feature that captures the interaction between the original categorical feature and the weight capacity of the backpack."
   ]
  },
  {
   "cell_type": "code",
   "execution_count": null,
   "metadata": {},
   "outputs": [
    {
     "name": "stdout",
     "output_type": "stream",
     "text": [
      "We now have 8 new columns\n",
      "['Brand_Weight_Capacity_Combined', 'Material_Weight_Capacity_Combined', 'Size_Weight_Capacity_Combined', 'Compartments_Weight_Capacity_Combined', 'Laptop Compartment_Weight_Capacity_Combined', 'Waterproof_Weight_Capacity_Combined', 'Style_Weight_Capacity_Combined', 'Color_Weight_Capacity_Combined']\n"
     ]
    }
   ],
   "source": [
    "combined_list = []\n",
    "label_encoders = {}\n",
    "\n",
    "for c in cat_columns:  # Use 'cat_columns' as defined earlier in the notebook\n",
    "    # Initialize and fit a LabelEncoder for the current column\n",
    "    le = LabelEncoder()\n",
    "    combined = pd.concat([train_df[c], test_df[c]], axis=0)\n",
    "    le.fit(combined)\n",
    "    label_encoders[c] = le  # Store the encoder for potential future use\n",
    "\n",
    "    # Transform the train and test data\n",
    "    train_df[c] = le.transform(train_df[c])\n",
    "    test_df[c] = le.transform(test_df[c])\n",
    "\n",
    "    # Create a new column combining the encoded value and weight capacity\n",
    "    new_col = f\"{c}_Weight_Capacity_Combined\"\n",
    "    train_df[new_col] = train_df[c] * 100 + train_df[\"Weight Capacity (kg)\"]\n",
    "    test_df[new_col] = test_df[c] * 100 + test_df[\"Weight Capacity (kg)\"]\n",
    "\n",
    "    # Append the new column name to the combined_list list\n",
    "    combined_list.append(new_col)\n",
    "\n",
    "print(f\"We now have {len(combined_list)} new columns\")\n",
    "print(combined_list)"
   ]
  },
  {
   "cell_type": "code",
   "execution_count": 50,
   "metadata": {},
   "outputs": [
    {
     "name": "stdout",
     "output_type": "stream",
     "text": [
      "We now have 17 columns:\n",
      "['Brand', 'Material', 'Size', 'Compartments', 'Laptop Compartment', 'Waterproof', 'Style', 'Color', 'Weight Capacity (kg)', 'Brand_Weight_Capacity_Combined', 'Material_Weight_Capacity_Combined', 'Size_Weight_Capacity_Combined', 'Compartments_Weight_Capacity_Combined', 'Laptop Compartment_Weight_Capacity_Combined', 'Waterproof_Weight_Capacity_Combined', 'Style_Weight_Capacity_Combined', 'Color_Weight_Capacity_Combined']\n"
     ]
    }
   ],
   "source": [
    "input_variables = cat_columns + num_columns + combined_list\n",
    "print(f\"We now have {len(input_variables)} columns:\")\n",
    "print(input_variables)"
   ]
  },
  {
   "cell_type": "markdown",
   "metadata": {},
   "source": [
    "### Distance Features (feture_distance)\n",
    "- `feature_Distance` is a new feature that captures the distance between the backpack and the user.\n",
    "- It is created by taking the absolute difference between the weight capacity and the average weight capacity of the backpacks in the dataset.\n",
    "- This feature is useful because it captures the distance between the backpack and the user, which can be important for predicting the price of the backpack.\n"
   ]
  },
  {
   "cell_type": "code",
   "execution_count": null,
   "metadata": {},
   "outputs": [
    {
     "name": "stdout",
     "output_type": "stream",
     "text": [
      "Distance features added: ['Brand_Material_Distance', 'Brand_Size_Distance', 'Brand_Style_Distance', 'Brand_Color_Distance', 'Material_Size_Distance', 'Material_Style_Distance', 'Material_Color_Distance', 'Size_Style_Distance', 'Size_Color_Distance', 'Style_Color_Distance']\n"
     ]
    }
   ],
   "source": [
    "# Define the columns to be used for distance calculations\n",
    "distance_columns = ['Brand', 'Material', 'Size', 'Style', 'Color']\n",
    "\n",
    "# Ensure the columns are encoded numerically\n",
    "label_encoders = {}\n",
    "for col in distance_columns:\n",
    "    le = LabelEncoder()\n",
    "    combined = pd.concat([train_df[col], test_df[col]], axis=0)\n",
    "    le.fit(combined)\n",
    "    label_encoders[col] = le\n",
    "    train_df[col] = le.transform(train_df[col])\n",
    "    test_df[col] = le.transform(test_df[col])\n",
    "\n",
    "# Function to calculate distance features\n",
    "def calculate_distance_features(df, columns):\n",
    "    for i in range(len(columns)):\n",
    "        for j in range(i + 1, len(columns)):\n",
    "            col1, col2 = columns[i], columns[j]\n",
    "            new_col = f\"{col1}_{col2}_Distance\"\n",
    "            df[new_col] = np.sqrt((df[col1] - df[col2]) ** 2)\n",
    "    return df\n",
    "\n",
    "# Apply the function to train and test datasets\n",
    "train_df = calculate_distance_features(train_df, distance_columns)\n",
    "test_df = calculate_distance_features(test_df, distance_columns)\n",
    "\n",
    "# Display the new columns added\n",
    "distance_features = [col for col in train_df.columns if '_Distance' in col]\n",
    "print(f\"Distance features added: {distance_features}\")"
   ]
  },
  {
   "cell_type": "code",
   "execution_count": null,
   "metadata": {},
   "outputs": [],
   "source": [
    "# Group Aggregations\n",
    "agg_features = {}\n",
    "group_cols = ['Weight Capacity (kg)'] + combined_list  # Group by Weight Capacity and combo features\n",
    "agg_funcs = ['mean', 'std', 'min', 'max', 'median', 'count', 'skew']\n",
    "\n",
    "for col in group_cols:\n",
    "    agg = train_df.groupby(col)['Price'].agg(agg_funcs).reset_index()\n",
    "    agg.columns = [col] + [f\"{col}_Price_{func}\" for func in agg_funcs]\n",
    "    train_df = train_df.merge(agg, on=col, how='left')\n",
    "    test_df = test_df.merge(agg, on=col, how='left')\n",
    "    agg_features.update({col: agg.columns[1:]})\n"
   ]
  },
  {
   "cell_type": "markdown",
   "metadata": {},
   "source": [
    "\n",
    "Grouping operations were performed to compute statistical metrics such as mean, standard deviation, min, max, median, count, and skew across various feature combinations. Aggregations were applied based on `Weight Capacity (kg)` and the features in the combined_list, helping to uncover meaningful interactions in the data.\n",
    "\n",
    "Additionally, Target Encoding was applied to the columns in base_features. Each categorical value was replaced with the smoothed average Price within its category, enabling the model to better capture the relationship between categorical features and the target variable."
   ]
  },
  {
   "cell_type": "code",
   "execution_count": 58,
   "metadata": {},
   "outputs": [
    {
     "name": "stdout",
     "output_type": "stream",
     "text": [
      "Group Aggregations and Target Encoding completed.\n"
     ]
    }
   ],
   "source": [
    "# Target Encoding\n",
    "base_features = ['Brand', 'Material', 'Size', 'Style', 'Color']\n",
    "kf = KFold(n_splits=5, shuffle=True, random_state=42)\n",
    "\n",
    "for col in base_features:\n",
    "\n",
    "    # Initialize the column with a compatible data type (float64)\n",
    "    train_df[f\"{col}_TE\"] = 0.0  # Explicitly set to float64\n",
    "\n",
    "    for train_idx, val_idx in kf.split(train_df):\n",
    "        train_fold, val_fold = train_df.iloc[train_idx], train_df.iloc[val_idx]\n",
    "        means = train_fold.groupby(col)['Price'].mean()\n",
    "        train_df.loc[val_idx, f\"{col}_TE\"] = val_fold[col].map(means)\n",
    "        \n",
    "    test_df[f\"{col}_TE\"] = test_df[col].map(train_df.groupby(col)['Price'].mean())\n",
    "\n",
    "# Fill NaN values in test_df after mapping\n",
    "test_df.fillna(test_df.mean(), inplace=True)\n",
    "\n",
    "print(\"Group Aggregations and Target Encoding completed.\")"
   ]
  },
  {
   "cell_type": "code",
   "execution_count": null,
   "metadata": {},
   "outputs": [],
   "source": [
    "# # feature engineering - interaction terms\n",
    "# train_encoded_df[\"Price_per_Compartment\"] = train_encoded_df[\"Price\"] / (train_encoded_df[\"Compartments\"] + 1)\n",
    "# train_encoded_df[\"Has_Laptop_Compartment\"] = train_encoded_df[\"Laptop Compartment\"].apply(lambda x: 1 if x == \"Yes\" else 0)\n",
    "\n",
    "# # standardization (scale numerical features)\n",
    "# scaler = StandardScaler()\n",
    "# train_encoded_df[num_cols] = scaler.fit_transform(train_encoded_df[num_cols])\n",
    "# test_encoded_df[num_cols] = scaler.transform(test_encoded_df[num_cols])"
   ]
  },
  {
   "cell_type": "code",
   "execution_count": null,
   "metadata": {},
   "outputs": [],
   "source": [
    "# # Check to see the changes\n",
    "# train_encoded_df.isnull().sum()\n"
   ]
  },
  {
   "cell_type": "code",
   "execution_count": null,
   "metadata": {},
   "outputs": [],
   "source": [
    "# test_encoded_df.isnull().sum()"
   ]
  },
  {
   "cell_type": "markdown",
   "metadata": {},
   "source": [
    "Now, lets save the data to a new csv file under processed_data folder."
   ]
  },
  {
   "cell_type": "code",
   "execution_count": null,
   "metadata": {},
   "outputs": [],
   "source": [
    "# Save the processed data to the appropriate location\n",
    "if on_colab:\n",
    "    # Save processed data to Google Drive\n",
    "    train_fold.to_csv(os.path.join(processed_path, \"train_fold.csv\"), index=False)\n",
    "    val_fold.to_csv(os.path.join(processed_path, \"val_fold.csv\"), index=False)\n",
    "    print(\"Processed train and validation folds saved to Google Drive.\")\n",
    "else:\n",
    "    # Check if the directory exists, if not, create it\n",
    "    processed_file_path = '../data/processed'\n",
    "    if not os.path.exists(processed_file_path):\n",
    "        os.makedirs(processed_file_path)\n",
    "\n",
    "    # Save the processed train and validation data locally\n",
    "    train_fold.to_csv(os.path.join(processed_file_path, \"train_fold.csv\"), index=False)\n",
    "    val_fold.to_csv(os.path.join(processed_file_path, \"val_fold.csv\"), index=False)\n",
    "    print(\"Processed train and validation folds saved to local drive.\")"
   ]
  },
  {
   "cell_type": "code",
   "execution_count": null,
   "metadata": {},
   "outputs": [],
   "source": [
    "# # Checks to see if this notebook is running on Google Colab and save to the recommended locations. \n",
    "# if on_colab:\n",
    "#     # save processed data to drive\n",
    "#     train_encoded_df.to_csv(os.path.join(processed_path, \"train_final.csv\"), index=False)\n",
    "#     test_encoded_df.to_csv(os.path.join(processed_path, \"test_final.csv\"), index=False)\n",
    "#     print(\"Feature engineering completed - processed files saved on Google Drive.\")\n",
    "# else:\n",
    "#     # Check if the directory exists, if not, create it\n",
    "#     processed_file_path = '../data/processed'\n",
    "#     if not os.path.exists(processed_file_path):\n",
    "#         os.makedirs(processed_file_path)\n",
    "\n",
    "#     # Save the transformed training data\n",
    "#     train_encoded_df.to_csv(processed_file_path + '/train_processed.csv', index=True)\n",
    "#     processed_train_encoded_df = train_encoded_df.copy()\n",
    "\n",
    "#     # Save the transformed testing data\n",
    "#     test_encoded_df.to_csv(processed_file_path + '/test_processed.csv', index=True)\n",
    "#     processed_test_encoded_df = test_encoded_df.copy()\n",
    "#     print(\"Feature engineering completed - processed files saved to Non-Colab Environment Local Drive.\")"
   ]
  },
  {
   "cell_type": "markdown",
   "metadata": {},
   "source": [
    "### Observations so far ###\n",
    "- Merged train and train_extra datasets\n",
    "- Dropped id column\n",
    "- OHE for brand, color and style\n",
    "- Performed label encoding for material and size columns\n",
    "- Added feature interactions\n",
    "  - price_per_compartment, has_laptop_compartment\n",
    "- mode imputation for categorical columns missing vals\n",
    "- forward fill for numerical columns missing vals\n",
    "- saved processed data to processed_data folder"
   ]
  },
  {
   "cell_type": "markdown",
   "metadata": {},
   "source": [
    "## 3. Modeling\n",
    "\n",
    "In this section, we will select and train machine learning models to predict the price of the backpack.\n"
   ]
  },
  {
   "cell_type": "code",
   "execution_count": null,
   "metadata": {},
   "outputs": [],
   "source": [
    "if on_colab:\n",
    "    train_final_df = pd.read_csv(os.path.join(processed_path, \"train_final.csv\"))\n",
    "    test_final_df = pd.read_csv(os.path.join(processed_path, \"test_final.csv\"))\n",
    "\n",
    "    print(\"Train Final Shape:\", train_final_df.shape)\n",
    "    print(\"Test Final Shape:\", test_final_df.shape)\n",
    "\n",
    "    display(train_final_df.head(3))\n",
    "    display(test_final_df.head(3))\n",
    "else:\n",
    "    train_final_df = pd.read_csv(os.path.join(processed_file_path, \"train_processed.csv\"))\n",
    "    test_final_df = pd.read_csv(os.path.join(processed_file_path, \"test_processed.csv\"))\n",
    "\n",
    "    print(\"Train Final Shape:\", train_final_df.shape)\n",
    "    print(\"Test Final Shape:\", test_final_df.shape)\n",
    "\n",
    "    display(train_final_df.head())\n",
    "    display(test_final_df.head())"
   ]
  },
  {
   "cell_type": "code",
   "execution_count": null,
   "metadata": {},
   "outputs": [],
   "source": [
    "# Drop the 'id' and 'Unnamed: 0' columns from the datasets\n",
    "train_final_df.drop(columns=['Unnamed: 0'], inplace=True)\n",
    "test_final_df.drop(columns=['id'], inplace=True)\n",
    "\n",
    "# Verify the changes\n",
    "print(train_final_df.head())\n",
    "print(test_final_df.head())"
   ]
  },
  {
   "cell_type": "code",
   "execution_count": null,
   "metadata": {},
   "outputs": [],
   "source": [
    "train_final_df.columns"
   ]
  },
  {
   "cell_type": "code",
   "execution_count": null,
   "metadata": {},
   "outputs": [],
   "source": [
    "# Ensure 'Price' column is present before dropping\n",
    "if 'Price' in train_final_df.columns:\n",
    "\t# Select the target feature\n",
    "\ty = train_final_df['Price']\n",
    "\n",
    "\t# Drop the target feature from the training dataframe\n",
    "\tX = train_final_df.drop(columns=['Price'])\n",
    "\n",
    "\t# Verify the changes\n",
    "\tprint(X.head())\n",
    "\tprint(y.head())\n",
    "else:\n",
    "\tprint(\"'Price' column is not present in train_final_df\")"
   ]
  },
  {
   "cell_type": "code",
   "execution_count": null,
   "metadata": {},
   "outputs": [],
   "source": [
    "# Check the shape of X, and y\n",
    "print(f\"X Shape: {X.shape}\")\n",
    "print(f\"y Shape: {y.shape}\")"
   ]
  },
  {
   "cell_type": "code",
   "execution_count": null,
   "metadata": {},
   "outputs": [],
   "source": [
    "# leftover cat cols\n",
    "obj_cols = X.select_dtypes(include=['object']).columns\n",
    "print(\"Object columns:\", obj_cols)"
   ]
  },
  {
   "cell_type": "markdown",
   "metadata": {},
   "source": [
    "### 3.1 Train-Test Split\n",
    "\n",
    "First, let's split the data into training and testing sets."
   ]
  },
  {
   "cell_type": "code",
   "execution_count": null,
   "metadata": {},
   "outputs": [],
   "source": [
    "# split data\n",
    "X_train, X_val, y_train, y_val = train_test_split(X, y, test_size=0.2, random_state=42)\n",
    "\n",
    "# convert cat to numerical\n",
    "X_train[\"Laptop Compartment\"] = X_train[\"Laptop Compartment\"].map({\"Yes\": 1, \"No\": 0})\n",
    "X_train[\"Waterproof\"] = X_train[\"Waterproof\"].map({\"Yes\": 1, \"No\": 0})\n",
    "X_val[\"Laptop Compartment\"] = X_val[\"Laptop Compartment\"].map({\"Yes\": 1, \"No\": 0})\n",
    "X_val[\"Waterproof\"] = X_val[\"Waterproof\"].map({\"Yes\": 1, \"No\": 0})\n"
   ]
  },
  {
   "cell_type": "markdown",
   "metadata": {},
   "source": [
    "### 3.2 Model Selection\n",
    "\n",
    "Next, let's select a model to train on the data."
   ]
  },
  {
   "cell_type": "code",
   "execution_count": null,
   "metadata": {},
   "outputs": [],
   "source": [
    "# baseline model\n",
    "lr_model = LinearRegression().fit(X_train, y_train)\n",
    "lr_model"
   ]
  },
  {
   "cell_type": "markdown",
   "metadata": {},
   "source": [
    "## 4. Evaluation\n",
    "\n",
    "In this section, we will evaluate the performance of our models using various metrics.\n"
   ]
  },
  {
   "cell_type": "code",
   "execution_count": null,
   "metadata": {},
   "outputs": [],
   "source": [
    "# Generate our y_hat value with y_pred_lr variable.\n",
    "y_pred_lr = lr_model.predict(X_val)\n",
    "\n",
    "rmse_lr = root_mean_squared_error(y_val, y_pred_lr)\n",
    "print(\"Baseline Linear Regression RMSE:\", rmse_lr)"
   ]
  },
  {
   "cell_type": "code",
   "execution_count": null,
   "metadata": {},
   "outputs": [],
   "source": [
    "# Calculate residuals\n",
    "residuals = y_val - y_pred_lr\n",
    "\n",
    "# Plot baseline and residuals\n",
    "plt.figure(figsize=(12, 6))\n",
    "plt.scatter(y_val, y_pred_lr, alpha=0.3)\n",
    "plt.plot([y_val.min(), y_val.max()], [y_val.min(), y_val.max()], 'r--', lw=2)\n",
    "plt.xlabel('Actual Price')\n",
    "plt.ylabel('Predicted Price')\n",
    "plt.title('Baseline Model: Predicted vs Actual Price')\n",
    "plt.show()\n",
    "\n",
    "# Plot distribution of residuals\n",
    "plt.figure(figsize=(12, 6))\n",
    "sns.histplot(residuals, kde=True, bins=30)\n",
    "plt.axvline(0, color='red', linestyle='--')\n",
    "plt.xlabel('Residuals')\n",
    "plt.ylabel('Frequency')\n",
    "plt.title('Distribution of Residuals')\n",
    "plt.show()"
   ]
  },
  {
   "cell_type": "markdown",
   "metadata": {},
   "source": [
    "### Observations\n",
    "\n",
    "#### Residual Distribution\n",
    "- There is a large spike near residual = 0, indicating that, on average, the baseline model predictions are close to the actual price for many backpacks.\n",
    "- Wide spread, heavy tails: Residuals extend from about -60 to +60, suggesting that for some backpacks, the baseline model underpredicts by up to 60 units and overpredicts by up to 60 units. A high variance in residuals suggests significant differences in how well the linear baseline model captures the data across different price ranges/categories.\n",
    "- RMSE is very high: 25.03. While many predictions cluster around 0, there is still a lot of deviation.\n",
    "\n",
    "#### Predicted vs Actual Price\n",
    "- Points spread out well above and below the diagonal, meaning the baseline model error is not constant across the price range. The baseline model may overestimate some backpack prices (points above the red line) and underestimate others (points below the red line).\n",
    "- There are multiple lines in the predicted values, indicating that the linear baseline model is grouping certain types of backpacks (perhaps by brand, color, or other splits) and producing similar predictions for them. This effect is more pronounced in linear baseline models when strong interactions are not fully captured.\n",
    "\n",
    "#### Overall\n",
    "- The baseline captures some positive relationship, but there is significant variance in the predictions with clear clusters at certain price ranges. The high error spread suggests the relationship cannot be captured by a simple linear baseline model and certain features may be missing.\n",
    "- The multiple lines indicate that combining certain features leads to the same predicted price, so we may explore adding more interaction terms or exploring a non-linear baseline model next, such as a random forest."
   ]
  },
  {
   "cell_type": "markdown",
   "metadata": {},
   "source": [
    "\n",
    "\n",
    "## 5. Model Optimization\n",
    "\n",
    "In this section, we will optimize the hyperparameters of our models to improve their performance.\n",
    "\n",
    "\n",
    "## 6. Final Submission\n",
    "\n",
    "In this section, we will select the best model and make final predictions on the test set.\n",
    "\n",
    "\n",
    "## 7. Conclusion\n",
    "\n",
    "In this section, we will summarize our findings and discuss the implications of our results."
   ]
  },
  {
   "cell_type": "markdown",
   "metadata": {},
   "source": []
  }
 ],
 "metadata": {
  "kernelspec": {
   "display_name": "kaggle_env",
   "language": "python",
   "name": "python3"
  },
  "language_info": {
   "codemirror_mode": {
    "name": "ipython",
    "version": 3
   },
   "file_extension": ".py",
   "mimetype": "text/x-python",
   "name": "python",
   "nbconvert_exporter": "python",
   "pygments_lexer": "ipython3",
   "version": "3.12.9"
  }
 },
 "nbformat": 4,
 "nbformat_minor": 2
}
