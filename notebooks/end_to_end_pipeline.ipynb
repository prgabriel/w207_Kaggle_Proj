{
  "cells": [
    {
      "cell_type": "markdown",
      "metadata": {},
      "source": [
        "# Backpack Kaggle Competition\n",
        "### W207 Final Project - Spring 2025\n",
        "\n",
        "Team: Perry Gabriel, Aurelia Yang\n",
        "\n",
        "University of California, Berkeley\n",
        "\n",
        "## Description\n",
        "\n",
        "In this competition, participants are challenged to develop machine learning models to predict the price of a backpack based on various features. This is a great opportunity to test your skills, learn new techniques, and compete with others in the data science community.\n",
        "\n",
        "## Evaluation\n",
        "\n",
        "Submissions are evaluated on the root mean squared error between the predicted and actual price of the backpack.\n",
        "\n",
        "RMSE is defined as:\n",
        "$$ \\text{RMSE} = \\sqrt{\\frac{1}{n} \\sum_{i=1}^{n} (y_i - \\hat{y}_i)^2} $$\n",
        "\n",
        "where $y_i$ is the actual price of the backpack and $\\hat{y}_i$ is the predicted price of the backpack.\n",
        "\n",
        "## Data Description\n",
        "\n",
        "The data consists of the following columns:\n",
        "\n",
        "- `id`: A unique identifier for the backpack.\n",
        "- `Brand`: The brand of the backpack.\n",
        "- `Material`: The material of the backpack.\n",
        "- `Size`: The size of the backpack.\n",
        "- `Compartments`: The number of compartments in the backpack.\n",
        "- `Laptop Compartment`: Whether the backpack has a laptop compartment.\n",
        "- `Waterproof`: Whether the backpack is waterproof.\n",
        "- `Style`: The style of the backpack.\n",
        "- `Color`: The color of the backpack.\n",
        "- `Weight Capacity (kg)`: The weight capacity of the backpack in kilograms.\n",
        "- `Price`: The price of the backpack.\n",
        "\n",
        "## Data Splits\n",
        "The dataset is split into three parts:\n",
        "- **Train**: The training set contains 80% of the data and is used to train the model.\n",
        "- **Validation**: The validation set contains 10% of the data and is used to tune the model.\n",
        "- **Test**: The test set contains 10% of the data and is used to evaluate the model's performance.\n",
        "\n",
        "## Important Notes about the Dataset\n",
        "- There are (4) different datasets: train, train_extra, test, and sample_submission.\n",
        "- The `train` dataset contains the training data with the target variable `Price`.\n",
        "- The `train_extra` dataset contains additional training data that can be used to improve the model's performance.\n",
        "- The `test` dataset contains the test data without the target variable `Price`.\n",
        "- The `sample_submission` dataset contains a sample submission file with the correct format.\n",
        "- The `train` and `train_extra` datasets are combined to create a larger training set.\n",
        "- The `train_extra` dataset was provided by the competition organizers and is not part of the original dataset.\n",
        "\n",
        "## Submission File\n",
        "\n",
        "For each `id` in the test set, you must predict the price of the backpack. The file should contain a header and have the following format:\n",
        "\n",
        "```python\n",
        "id,Price\n",
        "1,100\n",
        "2,200\n",
        "3,300\n",
        "```\n",
        "\n",
        "## Timeline\n",
        "\n",
        "- **Start Date** - February 1, 2025\n",
        "- **Entry Deadline** - Same as the Final Submission Deadline\n",
        "- **Team Merger Deadline** - Same as the Final Submission Deadline\n",
        "- **Final Submission Deadline** - February 28, 2025\n",
        "\n",
        "All deadlines are at 11:59 PM UTC on the corresponding day unless otherwise noted. The competition organizers reserve the right to update the contest timeline if they deem it necessary.\n",
        "\n",
        "## Acknowledgements\n",
        "\n",
        "This dataset was created by [Kaggle](https://www.kaggle.com/datasets/souradippal/student-bag-price-prediction-dataset) for the purpose of hosting a competition.\n",
        "\n",
        "## Team Members\n",
        "\n",
        "- [Perry Gabriel](https://www.kaggle.com/prgabriel)\n",
        "- [Aurelia Yang](https://www.kaggle.com/aureliayang)\n",
        "\n",
        "## Sections\n",
        "\n",
        "1. [Exploratory Data Analysis](#1.-Exploratory-Data-Analysis)\n",
        "2. [Data Preprocessing](#2.-Data-Preprocessing)\n",
        "3. [Modeling](#3.-Modeling)\n",
        "4. [Evaluation](#4.-Evaluation)\n",
        "5. [Optimization](#5.-Optimization)\n",
        "6. [Final Submission](#6.-Final-Submission)\n",
        "7. [Conclusion](#7.-Conclusion)\n",
        "\n",
        "## References\n",
        "[Backpack Kaggle Competition Link](https://www.kaggle.com/competitions/playground-series-s5e2)\n",
        "\n",
        "[Backpack Kaggle Competition Dataset](https://www.kaggle.com/datasets/souradippal/student-bag-price-prediction-dataset)\n"
      ]
    },
    {
      "cell_type": "markdown",
      "metadata": {},
      "source": [
        "## 0. Setup\n",
        "Install the required libraries\n",
        "Uncomment to download the data from Kaggle. This assumes you have the Kaggle API installed and configured."
      ]
    },
    {
      "cell_type": "code",
      "execution_count": 4,
      "metadata": {
        "gather": {
          "logged": 1745080723531
        }
      },
      "outputs": [],
      "source": [
        "# !kaggle competitions download -c playground-series-s5e2\n",
        "# !unzip playground-series-s5e2 -d ../data/raw/\n",
        "# !pip install -r ../requirements.txt\n",
        "# !rm -rf playground-series-s5e2.zip"
      ]
    },
    {
      "cell_type": "code",
      "execution_count": 3,
      "metadata": {
        "gather": {
          "logged": 1745069573094
        }
      },
      "outputs": [],
      "source": [
        "import os\n",
        "import mlflow\n",
        "import numpy as np\n",
        "import pandas as pd\n",
        "import xgboost as xgb\n",
        "import mlflow.sklearn\n",
        "import mlflow.xgboost\n",
        "import seaborn as sns\n",
        "import matplotlib.pyplot as plt\n",
        "from xgboost import XGBRegressor\n",
        "from sklearn.model_selection import KFold\n",
        "from sklearn.preprocessing import StandardScaler, LabelEncoder\n",
        "from category_encoders import OneHotEncoder\n",
        "from sklearn.linear_model import LinearRegression\n",
        "from sklearn.model_selection import train_test_split\n",
        "from sklearn.metrics import mean_squared_error\n",
        "import warnings\n",
        "warnings.filterwarnings(\"ignore\", category=UserWarning) #used to supress the tf version warning. "
      ]
    },
    {
      "cell_type": "code",
      "execution_count": 4,
      "metadata": {
        "gather": {
          "logged": 1745069577972
        }
      },
      "outputs": [
        {
          "name": "stderr",
          "output_type": "stream",
          "text": [
            "2025/04/19 13:32:57 INFO mlflow.tracking.fluent: Experiment with name 'E2E_Kaggle_Backpack_Project_Final' does not exist. Creating a new experiment.\n",
            "2025/04/19 13:32:57 INFO mlflow.tracking.fluent: Autologging successfully enabled for sklearn.\n",
            "2025/04/19 13:32:58 INFO mlflow.tracking.fluent: Autologging successfully enabled for statsmodels.\n",
            "2025/04/19 13:32:58 INFO mlflow.tracking.fluent: Autologging successfully enabled for xgboost.\n"
          ]
        }
      ],
      "source": [
        "# mlflow.set_tracking_uri(\"http://127.0.0.1:5000\")\n",
        "mlflow.set_tracking_uri(\"azureml://eastus.api.azureml.ms/mlflow/v1.0/subscriptions/a4e67b88-5120-438c-876d-dd83e216f0f7/resourceGroups/rg-3_dayML-ws/providers/Microsoft.MachineLearningServices/workspaces/ws-azureml-mlw\")\n",
        "mlflow.set_experiment(experiment_name='E2E_Kaggle_Backpack_Project_Final')\n",
        "mlflow.autolog()"
      ]
    },
    {
      "cell_type": "code",
      "execution_count": 5,
      "metadata": {
        "gather": {
          "logged": 1745069581160
        }
      },
      "outputs": [],
      "source": [
        "raw_data_path = '../data/raw/'"
      ]
    },
    {
      "cell_type": "code",
      "execution_count": 6,
      "metadata": {
        "gather": {
          "logged": 1745069585723
        }
      },
      "outputs": [
        {
          "name": "stdout",
          "output_type": "stream",
          "text": [
            "Not running on Google Colab\n",
            "Created 'raw_data_path' directory for non-Colab Environment.\n",
            "Local environment detected. Paths have been set accordingly.\n"
          ]
        }
      ],
      "source": [
        "def check_and_import_colab():\n",
        "    global raw_data_path\n",
        "    global processed_path\n",
        "    try:\n",
        "        from google.colab import drive  \n",
        "        import google.colab\n",
        "        print(\"Running on Google Colab\")\n",
        "        # Import necessary libraries for Google Colab\n",
        "        drive.mount('/content/drive')\n",
        "\n",
        "        # define paths\n",
        "        raw_data_path = \"/content/drive/MyDrive/Kaggle_Backpack/data/raw/\"\n",
        "        processed_path = \"/content/drive/MyDrive/Kaggle_Backpack/data/processed/\"\n",
        "        return True\n",
        "\n",
        "    except ImportError:\n",
        "        print(\"Not running on Google Colab\")\n",
        "        os.makedirs(raw_data_path, exist_ok=True)\n",
        "        print(\"Created 'raw_data_path' directory for non-Colab Environment.\")\n",
        "        return False\n",
        "\n",
        "on_colab = check_and_import_colab()\n",
        "\n",
        "if on_colab:\n",
        "    print(\"Google Colab environment detected. Paths have been set accordingly.\")\n",
        "else:\n",
        "    print(\"Local environment detected. Paths have been set accordingly.\")"
      ]
    },
    {
      "cell_type": "markdown",
      "metadata": {},
      "source": [
        "## 1. Exploratory Data Analysis\n",
        "\n",
        "In this section, we will explore the data to understand its structure and identify any patterns or trends that may be present.\n"
      ]
    },
    {
      "cell_type": "markdown",
      "metadata": {},
      "source": [
        "### 1.1 Load the Data\n",
        "\n",
        "Let's start by loading the data and taking a look at the first few rows."
      ]
    },
    {
      "cell_type": "code",
      "execution_count": 7,
      "metadata": {
        "gather": {
          "logged": 1745069598980
        }
      },
      "outputs": [
        {
          "data": {
            "text/html": [
              "<div>\n",
              "<style scoped>\n",
              "    .dataframe tbody tr th:only-of-type {\n",
              "        vertical-align: middle;\n",
              "    }\n",
              "\n",
              "    .dataframe tbody tr th {\n",
              "        vertical-align: top;\n",
              "    }\n",
              "\n",
              "    .dataframe thead th {\n",
              "        text-align: right;\n",
              "    }\n",
              "</style>\n",
              "<table border=\"1\" class=\"dataframe\">\n",
              "  <thead>\n",
              "    <tr style=\"text-align: right;\">\n",
              "      <th></th>\n",
              "      <th>Brand</th>\n",
              "      <th>Material</th>\n",
              "      <th>Size</th>\n",
              "      <th>Compartments</th>\n",
              "      <th>Laptop Compartment</th>\n",
              "      <th>Waterproof</th>\n",
              "      <th>Style</th>\n",
              "      <th>Color</th>\n",
              "      <th>Weight Capacity (kg)</th>\n",
              "      <th>Price</th>\n",
              "    </tr>\n",
              "    <tr>\n",
              "      <th>id</th>\n",
              "      <th></th>\n",
              "      <th></th>\n",
              "      <th></th>\n",
              "      <th></th>\n",
              "      <th></th>\n",
              "      <th></th>\n",
              "      <th></th>\n",
              "      <th></th>\n",
              "      <th></th>\n",
              "      <th></th>\n",
              "    </tr>\n",
              "  </thead>\n",
              "  <tbody>\n",
              "    <tr>\n",
              "      <th>0</th>\n",
              "      <td>Jansport</td>\n",
              "      <td>Leather</td>\n",
              "      <td>Medium</td>\n",
              "      <td>7.0</td>\n",
              "      <td>Yes</td>\n",
              "      <td>No</td>\n",
              "      <td>Tote</td>\n",
              "      <td>Black</td>\n",
              "      <td>11.611723</td>\n",
              "      <td>112.15875</td>\n",
              "    </tr>\n",
              "    <tr>\n",
              "      <th>1</th>\n",
              "      <td>Jansport</td>\n",
              "      <td>Canvas</td>\n",
              "      <td>Small</td>\n",
              "      <td>10.0</td>\n",
              "      <td>Yes</td>\n",
              "      <td>Yes</td>\n",
              "      <td>Messenger</td>\n",
              "      <td>Green</td>\n",
              "      <td>27.078537</td>\n",
              "      <td>68.88056</td>\n",
              "    </tr>\n",
              "    <tr>\n",
              "      <th>2</th>\n",
              "      <td>Under Armour</td>\n",
              "      <td>Leather</td>\n",
              "      <td>Small</td>\n",
              "      <td>2.0</td>\n",
              "      <td>Yes</td>\n",
              "      <td>No</td>\n",
              "      <td>Messenger</td>\n",
              "      <td>Red</td>\n",
              "      <td>16.643760</td>\n",
              "      <td>39.17320</td>\n",
              "    </tr>\n",
              "    <tr>\n",
              "      <th>3</th>\n",
              "      <td>Nike</td>\n",
              "      <td>Nylon</td>\n",
              "      <td>Small</td>\n",
              "      <td>8.0</td>\n",
              "      <td>Yes</td>\n",
              "      <td>No</td>\n",
              "      <td>Messenger</td>\n",
              "      <td>Green</td>\n",
              "      <td>12.937220</td>\n",
              "      <td>80.60793</td>\n",
              "    </tr>\n",
              "    <tr>\n",
              "      <th>4</th>\n",
              "      <td>Adidas</td>\n",
              "      <td>Canvas</td>\n",
              "      <td>Medium</td>\n",
              "      <td>1.0</td>\n",
              "      <td>Yes</td>\n",
              "      <td>Yes</td>\n",
              "      <td>Messenger</td>\n",
              "      <td>Green</td>\n",
              "      <td>17.749338</td>\n",
              "      <td>86.02312</td>\n",
              "    </tr>\n",
              "  </tbody>\n",
              "</table>\n",
              "</div>"
            ],
            "text/plain": [
              "           Brand Material    Size  Compartments Laptop Compartment Waterproof  \\\n",
              "id                                                                              \n",
              "0       Jansport  Leather  Medium           7.0                Yes         No   \n",
              "1       Jansport   Canvas   Small          10.0                Yes        Yes   \n",
              "2   Under Armour  Leather   Small           2.0                Yes         No   \n",
              "3           Nike    Nylon   Small           8.0                Yes         No   \n",
              "4         Adidas   Canvas  Medium           1.0                Yes        Yes   \n",
              "\n",
              "        Style  Color  Weight Capacity (kg)      Price  \n",
              "id                                                     \n",
              "0        Tote  Black             11.611723  112.15875  \n",
              "1   Messenger  Green             27.078537   68.88056  \n",
              "2   Messenger    Red             16.643760   39.17320  \n",
              "3   Messenger  Green             12.937220   80.60793  \n",
              "4   Messenger  Green             17.749338   86.02312  "
            ]
          },
          "execution_count": 7,
          "metadata": {},
          "output_type": "execute_result"
        }
      ],
      "source": [
        "train_df = pd.read_csv(filepath_or_buffer=os.path.join(raw_data_path, 'train.csv'), index_col=0, header=0, sep=',')\n",
        "test_df = pd.read_csv(filepath_or_buffer=os.path.join(raw_data_path, 'test.csv'), index_col=0, header=0, sep=',')\n",
        "train_extra_df = pd.read_csv(filepath_or_buffer=os.path.join(raw_data_path, 'training_extra.csv'), index_col=0, header=0, sep=',')\n",
        "\n",
        "train_df.head()"
      ]
    },
    {
      "cell_type": "code",
      "execution_count": 8,
      "metadata": {
        "gather": {
          "logged": 1745069603331
        }
      },
      "outputs": [
        {
          "data": {
            "text/html": [
              "<div>\n",
              "<style scoped>\n",
              "    .dataframe tbody tr th:only-of-type {\n",
              "        vertical-align: middle;\n",
              "    }\n",
              "\n",
              "    .dataframe tbody tr th {\n",
              "        vertical-align: top;\n",
              "    }\n",
              "\n",
              "    .dataframe thead th {\n",
              "        text-align: right;\n",
              "    }\n",
              "</style>\n",
              "<table border=\"1\" class=\"dataframe\">\n",
              "  <thead>\n",
              "    <tr style=\"text-align: right;\">\n",
              "      <th></th>\n",
              "      <th>Brand</th>\n",
              "      <th>Material</th>\n",
              "      <th>Size</th>\n",
              "      <th>Compartments</th>\n",
              "      <th>Laptop Compartment</th>\n",
              "      <th>Waterproof</th>\n",
              "      <th>Style</th>\n",
              "      <th>Color</th>\n",
              "      <th>Weight Capacity (kg)</th>\n",
              "    </tr>\n",
              "    <tr>\n",
              "      <th>id</th>\n",
              "      <th></th>\n",
              "      <th></th>\n",
              "      <th></th>\n",
              "      <th></th>\n",
              "      <th></th>\n",
              "      <th></th>\n",
              "      <th></th>\n",
              "      <th></th>\n",
              "      <th></th>\n",
              "    </tr>\n",
              "  </thead>\n",
              "  <tbody>\n",
              "    <tr>\n",
              "      <th>300000</th>\n",
              "      <td>Puma</td>\n",
              "      <td>Leather</td>\n",
              "      <td>Small</td>\n",
              "      <td>2.0</td>\n",
              "      <td>No</td>\n",
              "      <td>No</td>\n",
              "      <td>Tote</td>\n",
              "      <td>Green</td>\n",
              "      <td>20.671147</td>\n",
              "    </tr>\n",
              "    <tr>\n",
              "      <th>300001</th>\n",
              "      <td>Nike</td>\n",
              "      <td>Canvas</td>\n",
              "      <td>Medium</td>\n",
              "      <td>7.0</td>\n",
              "      <td>No</td>\n",
              "      <td>Yes</td>\n",
              "      <td>Backpack</td>\n",
              "      <td>Green</td>\n",
              "      <td>13.564105</td>\n",
              "    </tr>\n",
              "    <tr>\n",
              "      <th>300002</th>\n",
              "      <td>Adidas</td>\n",
              "      <td>Canvas</td>\n",
              "      <td>Large</td>\n",
              "      <td>9.0</td>\n",
              "      <td>No</td>\n",
              "      <td>Yes</td>\n",
              "      <td>Messenger</td>\n",
              "      <td>Blue</td>\n",
              "      <td>11.809799</td>\n",
              "    </tr>\n",
              "    <tr>\n",
              "      <th>300003</th>\n",
              "      <td>Adidas</td>\n",
              "      <td>Nylon</td>\n",
              "      <td>Large</td>\n",
              "      <td>1.0</td>\n",
              "      <td>Yes</td>\n",
              "      <td>No</td>\n",
              "      <td>Messenger</td>\n",
              "      <td>Green</td>\n",
              "      <td>18.477036</td>\n",
              "    </tr>\n",
              "    <tr>\n",
              "      <th>300004</th>\n",
              "      <td>NaN</td>\n",
              "      <td>Nylon</td>\n",
              "      <td>Large</td>\n",
              "      <td>2.0</td>\n",
              "      <td>Yes</td>\n",
              "      <td>Yes</td>\n",
              "      <td>Tote</td>\n",
              "      <td>Black</td>\n",
              "      <td>9.907953</td>\n",
              "    </tr>\n",
              "  </tbody>\n",
              "</table>\n",
              "</div>"
            ],
            "text/plain": [
              "         Brand Material    Size  Compartments Laptop Compartment Waterproof  \\\n",
              "id                                                                            \n",
              "300000    Puma  Leather   Small           2.0                 No         No   \n",
              "300001    Nike   Canvas  Medium           7.0                 No        Yes   \n",
              "300002  Adidas   Canvas   Large           9.0                 No        Yes   \n",
              "300003  Adidas    Nylon   Large           1.0                Yes         No   \n",
              "300004     NaN    Nylon   Large           2.0                Yes        Yes   \n",
              "\n",
              "            Style  Color  Weight Capacity (kg)  \n",
              "id                                              \n",
              "300000       Tote  Green             20.671147  \n",
              "300001   Backpack  Green             13.564105  \n",
              "300002  Messenger   Blue             11.809799  \n",
              "300003  Messenger  Green             18.477036  \n",
              "300004       Tote  Black              9.907953  "
            ]
          },
          "execution_count": 8,
          "metadata": {},
          "output_type": "execute_result"
        }
      ],
      "source": [
        "test_df.head()"
      ]
    },
    {
      "cell_type": "code",
      "execution_count": 9,
      "metadata": {
        "gather": {
          "logged": 1745069605899
        }
      },
      "outputs": [
        {
          "data": {
            "text/html": [
              "<div>\n",
              "<style scoped>\n",
              "    .dataframe tbody tr th:only-of-type {\n",
              "        vertical-align: middle;\n",
              "    }\n",
              "\n",
              "    .dataframe tbody tr th {\n",
              "        vertical-align: top;\n",
              "    }\n",
              "\n",
              "    .dataframe thead th {\n",
              "        text-align: right;\n",
              "    }\n",
              "</style>\n",
              "<table border=\"1\" class=\"dataframe\">\n",
              "  <thead>\n",
              "    <tr style=\"text-align: right;\">\n",
              "      <th></th>\n",
              "      <th>Brand</th>\n",
              "      <th>Material</th>\n",
              "      <th>Size</th>\n",
              "      <th>Compartments</th>\n",
              "      <th>Laptop Compartment</th>\n",
              "      <th>Waterproof</th>\n",
              "      <th>Style</th>\n",
              "      <th>Color</th>\n",
              "      <th>Weight Capacity (kg)</th>\n",
              "      <th>Price</th>\n",
              "    </tr>\n",
              "    <tr>\n",
              "      <th>id</th>\n",
              "      <th></th>\n",
              "      <th></th>\n",
              "      <th></th>\n",
              "      <th></th>\n",
              "      <th></th>\n",
              "      <th></th>\n",
              "      <th></th>\n",
              "      <th></th>\n",
              "      <th></th>\n",
              "      <th></th>\n",
              "    </tr>\n",
              "  </thead>\n",
              "  <tbody>\n",
              "    <tr>\n",
              "      <th>500000</th>\n",
              "      <td>Under Armour</td>\n",
              "      <td>Canvas</td>\n",
              "      <td>Small</td>\n",
              "      <td>10.0</td>\n",
              "      <td>Yes</td>\n",
              "      <td>Yes</td>\n",
              "      <td>Tote</td>\n",
              "      <td>Blue</td>\n",
              "      <td>23.882052</td>\n",
              "      <td>114.11068</td>\n",
              "    </tr>\n",
              "    <tr>\n",
              "      <th>500001</th>\n",
              "      <td>Puma</td>\n",
              "      <td>Polyester</td>\n",
              "      <td>Small</td>\n",
              "      <td>4.0</td>\n",
              "      <td>No</td>\n",
              "      <td>Yes</td>\n",
              "      <td>Backpack</td>\n",
              "      <td>Green</td>\n",
              "      <td>11.869095</td>\n",
              "      <td>129.74972</td>\n",
              "    </tr>\n",
              "    <tr>\n",
              "      <th>500002</th>\n",
              "      <td>Jansport</td>\n",
              "      <td>Polyester</td>\n",
              "      <td>Small</td>\n",
              "      <td>8.0</td>\n",
              "      <td>Yes</td>\n",
              "      <td>Yes</td>\n",
              "      <td>Tote</td>\n",
              "      <td>Red</td>\n",
              "      <td>8.092302</td>\n",
              "      <td>21.37370</td>\n",
              "    </tr>\n",
              "    <tr>\n",
              "      <th>500003</th>\n",
              "      <td>Nike</td>\n",
              "      <td>Nylon</td>\n",
              "      <td>Large</td>\n",
              "      <td>7.0</td>\n",
              "      <td>No</td>\n",
              "      <td>No</td>\n",
              "      <td>Messenger</td>\n",
              "      <td>Pink</td>\n",
              "      <td>7.719581</td>\n",
              "      <td>48.09209</td>\n",
              "    </tr>\n",
              "    <tr>\n",
              "      <th>500004</th>\n",
              "      <td>Nike</td>\n",
              "      <td>Leather</td>\n",
              "      <td>Large</td>\n",
              "      <td>9.0</td>\n",
              "      <td>No</td>\n",
              "      <td>Yes</td>\n",
              "      <td>Tote</td>\n",
              "      <td>Green</td>\n",
              "      <td>22.741826</td>\n",
              "      <td>77.32461</td>\n",
              "    </tr>\n",
              "  </tbody>\n",
              "</table>\n",
              "</div>"
            ],
            "text/plain": [
              "               Brand   Material   Size  Compartments Laptop Compartment  \\\n",
              "id                                                                        \n",
              "500000  Under Armour     Canvas  Small          10.0                Yes   \n",
              "500001          Puma  Polyester  Small           4.0                 No   \n",
              "500002      Jansport  Polyester  Small           8.0                Yes   \n",
              "500003          Nike      Nylon  Large           7.0                 No   \n",
              "500004          Nike    Leather  Large           9.0                 No   \n",
              "\n",
              "       Waterproof      Style  Color  Weight Capacity (kg)      Price  \n",
              "id                                                                    \n",
              "500000        Yes       Tote   Blue             23.882052  114.11068  \n",
              "500001        Yes   Backpack  Green             11.869095  129.74972  \n",
              "500002        Yes       Tote    Red              8.092302   21.37370  \n",
              "500003         No  Messenger   Pink              7.719581   48.09209  \n",
              "500004        Yes       Tote  Green             22.741826   77.32461  "
            ]
          },
          "execution_count": 9,
          "metadata": {},
          "output_type": "execute_result"
        }
      ],
      "source": [
        "train_extra_df.head()"
      ]
    },
    {
      "cell_type": "markdown",
      "metadata": {},
      "source": [
        "### 1.2 Data Summary\n",
        "\n",
        "Next, let's take a look at the summary statistics of the data.\n"
      ]
    },
    {
      "cell_type": "code",
      "execution_count": 10,
      "metadata": {
        "gather": {
          "logged": 1745069611238
        }
      },
      "outputs": [
        {
          "data": {
            "text/html": [
              "<div>\n",
              "<style scoped>\n",
              "    .dataframe tbody tr th:only-of-type {\n",
              "        vertical-align: middle;\n",
              "    }\n",
              "\n",
              "    .dataframe tbody tr th {\n",
              "        vertical-align: top;\n",
              "    }\n",
              "\n",
              "    .dataframe thead th {\n",
              "        text-align: right;\n",
              "    }\n",
              "</style>\n",
              "<table border=\"1\" class=\"dataframe\">\n",
              "  <thead>\n",
              "    <tr style=\"text-align: right;\">\n",
              "      <th></th>\n",
              "      <th>Compartments</th>\n",
              "      <th>Weight Capacity (kg)</th>\n",
              "      <th>Price</th>\n",
              "    </tr>\n",
              "  </thead>\n",
              "  <tbody>\n",
              "    <tr>\n",
              "      <th>count</th>\n",
              "      <td>300000.000000</td>\n",
              "      <td>299862.000000</td>\n",
              "      <td>300000.000000</td>\n",
              "    </tr>\n",
              "    <tr>\n",
              "      <th>mean</th>\n",
              "      <td>5.443590</td>\n",
              "      <td>18.029994</td>\n",
              "      <td>81.411107</td>\n",
              "    </tr>\n",
              "    <tr>\n",
              "      <th>std</th>\n",
              "      <td>2.890766</td>\n",
              "      <td>6.966914</td>\n",
              "      <td>39.039340</td>\n",
              "    </tr>\n",
              "    <tr>\n",
              "      <th>min</th>\n",
              "      <td>1.000000</td>\n",
              "      <td>5.000000</td>\n",
              "      <td>15.000000</td>\n",
              "    </tr>\n",
              "    <tr>\n",
              "      <th>25%</th>\n",
              "      <td>3.000000</td>\n",
              "      <td>12.097867</td>\n",
              "      <td>47.384620</td>\n",
              "    </tr>\n",
              "    <tr>\n",
              "      <th>50%</th>\n",
              "      <td>5.000000</td>\n",
              "      <td>18.068614</td>\n",
              "      <td>80.956120</td>\n",
              "    </tr>\n",
              "    <tr>\n",
              "      <th>75%</th>\n",
              "      <td>8.000000</td>\n",
              "      <td>24.002375</td>\n",
              "      <td>115.018160</td>\n",
              "    </tr>\n",
              "    <tr>\n",
              "      <th>max</th>\n",
              "      <td>10.000000</td>\n",
              "      <td>30.000000</td>\n",
              "      <td>150.000000</td>\n",
              "    </tr>\n",
              "  </tbody>\n",
              "</table>\n",
              "</div>"
            ],
            "text/plain": [
              "        Compartments  Weight Capacity (kg)          Price\n",
              "count  300000.000000         299862.000000  300000.000000\n",
              "mean        5.443590             18.029994      81.411107\n",
              "std         2.890766              6.966914      39.039340\n",
              "min         1.000000              5.000000      15.000000\n",
              "25%         3.000000             12.097867      47.384620\n",
              "50%         5.000000             18.068614      80.956120\n",
              "75%         8.000000             24.002375     115.018160\n",
              "max        10.000000             30.000000     150.000000"
            ]
          },
          "execution_count": 10,
          "metadata": {},
          "output_type": "execute_result"
        }
      ],
      "source": [
        "# Display the summary statistics of the training data\n",
        "train_df.describe()"
      ]
    },
    {
      "cell_type": "code",
      "execution_count": 11,
      "metadata": {
        "gather": {
          "logged": 1745069614733
        }
      },
      "outputs": [
        {
          "data": {
            "text/html": [
              "<div>\n",
              "<style scoped>\n",
              "    .dataframe tbody tr th:only-of-type {\n",
              "        vertical-align: middle;\n",
              "    }\n",
              "\n",
              "    .dataframe tbody tr th {\n",
              "        vertical-align: top;\n",
              "    }\n",
              "\n",
              "    .dataframe thead th {\n",
              "        text-align: right;\n",
              "    }\n",
              "</style>\n",
              "<table border=\"1\" class=\"dataframe\">\n",
              "  <thead>\n",
              "    <tr style=\"text-align: right;\">\n",
              "      <th></th>\n",
              "      <th>Compartments</th>\n",
              "      <th>Weight Capacity (kg)</th>\n",
              "    </tr>\n",
              "  </thead>\n",
              "  <tbody>\n",
              "    <tr>\n",
              "      <th>count</th>\n",
              "      <td>200000.000000</td>\n",
              "      <td>199923.000000</td>\n",
              "    </tr>\n",
              "    <tr>\n",
              "      <th>mean</th>\n",
              "      <td>5.442855</td>\n",
              "      <td>17.993033</td>\n",
              "    </tr>\n",
              "    <tr>\n",
              "      <th>std</th>\n",
              "      <td>2.888740</td>\n",
              "      <td>6.972079</td>\n",
              "    </tr>\n",
              "    <tr>\n",
              "      <th>min</th>\n",
              "      <td>1.000000</td>\n",
              "      <td>5.000000</td>\n",
              "    </tr>\n",
              "    <tr>\n",
              "      <th>25%</th>\n",
              "      <td>3.000000</td>\n",
              "      <td>12.068875</td>\n",
              "    </tr>\n",
              "    <tr>\n",
              "      <th>50%</th>\n",
              "      <td>5.000000</td>\n",
              "      <td>18.054750</td>\n",
              "    </tr>\n",
              "    <tr>\n",
              "      <th>75%</th>\n",
              "      <td>8.000000</td>\n",
              "      <td>23.965700</td>\n",
              "    </tr>\n",
              "    <tr>\n",
              "      <th>max</th>\n",
              "      <td>10.000000</td>\n",
              "      <td>30.000000</td>\n",
              "    </tr>\n",
              "  </tbody>\n",
              "</table>\n",
              "</div>"
            ],
            "text/plain": [
              "        Compartments  Weight Capacity (kg)\n",
              "count  200000.000000         199923.000000\n",
              "mean        5.442855             17.993033\n",
              "std         2.888740              6.972079\n",
              "min         1.000000              5.000000\n",
              "25%         3.000000             12.068875\n",
              "50%         5.000000             18.054750\n",
              "75%         8.000000             23.965700\n",
              "max        10.000000             30.000000"
            ]
          },
          "execution_count": 11,
          "metadata": {},
          "output_type": "execute_result"
        }
      ],
      "source": [
        "test_df.describe()"
      ]
    },
    {
      "cell_type": "code",
      "execution_count": 12,
      "metadata": {
        "gather": {
          "logged": 1745069618310
        }
      },
      "outputs": [
        {
          "data": {
            "text/html": [
              "<div>\n",
              "<style scoped>\n",
              "    .dataframe tbody tr th:only-of-type {\n",
              "        vertical-align: middle;\n",
              "    }\n",
              "\n",
              "    .dataframe tbody tr th {\n",
              "        vertical-align: top;\n",
              "    }\n",
              "\n",
              "    .dataframe thead th {\n",
              "        text-align: right;\n",
              "    }\n",
              "</style>\n",
              "<table border=\"1\" class=\"dataframe\">\n",
              "  <thead>\n",
              "    <tr style=\"text-align: right;\">\n",
              "      <th></th>\n",
              "      <th>Compartments</th>\n",
              "      <th>Weight Capacity (kg)</th>\n",
              "      <th>Price</th>\n",
              "    </tr>\n",
              "  </thead>\n",
              "  <tbody>\n",
              "    <tr>\n",
              "      <th>count</th>\n",
              "      <td>3.694318e+06</td>\n",
              "      <td>3.692648e+06</td>\n",
              "      <td>3.694318e+06</td>\n",
              "    </tr>\n",
              "    <tr>\n",
              "      <th>mean</th>\n",
              "      <td>5.434022e+00</td>\n",
              "      <td>1.800883e+01</td>\n",
              "      <td>8.135820e+01</td>\n",
              "    </tr>\n",
              "    <tr>\n",
              "      <th>std</th>\n",
              "      <td>2.893227e+00</td>\n",
              "      <td>6.974541e+00</td>\n",
              "      <td>3.893050e+01</td>\n",
              "    </tr>\n",
              "    <tr>\n",
              "      <th>min</th>\n",
              "      <td>1.000000e+00</td>\n",
              "      <td>5.000000e+00</td>\n",
              "      <td>1.500000e+01</td>\n",
              "    </tr>\n",
              "    <tr>\n",
              "      <th>25%</th>\n",
              "      <td>3.000000e+00</td>\n",
              "      <td>1.206854e+01</td>\n",
              "      <td>4.747778e+01</td>\n",
              "    </tr>\n",
              "    <tr>\n",
              "      <th>50%</th>\n",
              "      <td>5.000000e+00</td>\n",
              "      <td>1.805243e+01</td>\n",
              "      <td>8.098592e+01</td>\n",
              "    </tr>\n",
              "    <tr>\n",
              "      <th>75%</th>\n",
              "      <td>8.000000e+00</td>\n",
              "      <td>2.398580e+01</td>\n",
              "      <td>1.148434e+02</td>\n",
              "    </tr>\n",
              "    <tr>\n",
              "      <th>max</th>\n",
              "      <td>1.000000e+01</td>\n",
              "      <td>3.000000e+01</td>\n",
              "      <td>1.500000e+02</td>\n",
              "    </tr>\n",
              "  </tbody>\n",
              "</table>\n",
              "</div>"
            ],
            "text/plain": [
              "       Compartments  Weight Capacity (kg)         Price\n",
              "count  3.694318e+06          3.692648e+06  3.694318e+06\n",
              "mean   5.434022e+00          1.800883e+01  8.135820e+01\n",
              "std    2.893227e+00          6.974541e+00  3.893050e+01\n",
              "min    1.000000e+00          5.000000e+00  1.500000e+01\n",
              "25%    3.000000e+00          1.206854e+01  4.747778e+01\n",
              "50%    5.000000e+00          1.805243e+01  8.098592e+01\n",
              "75%    8.000000e+00          2.398580e+01  1.148434e+02\n",
              "max    1.000000e+01          3.000000e+01  1.500000e+02"
            ]
          },
          "execution_count": 12,
          "metadata": {},
          "output_type": "execute_result"
        }
      ],
      "source": [
        "train_extra_df.describe()"
      ]
    },
    {
      "cell_type": "markdown",
      "metadata": {},
      "source": [
        "Let's see the data types of each column."
      ]
    },
    {
      "cell_type": "code",
      "execution_count": 13,
      "metadata": {
        "gather": {
          "logged": 1745069622312
        }
      },
      "outputs": [
        {
          "name": "stdout",
          "output_type": "stream",
          "text": [
            "Data types of columns in training dataset\n",
            "Brand                    object\n",
            "Material                 object\n",
            "Size                     object\n",
            "Compartments            float64\n",
            "Laptop Compartment       object\n",
            "Waterproof               object\n",
            "Style                    object\n",
            "Color                    object\n",
            "Weight Capacity (kg)    float64\n",
            "Price                   float64\n",
            "dtype: object\n",
            "\n",
            "Data types of columns in training extra dataset\n",
            "Brand                    object\n",
            "Material                 object\n",
            "Size                     object\n",
            "Compartments            float64\n",
            "Laptop Compartment       object\n",
            "Waterproof               object\n",
            "Style                    object\n",
            "Color                    object\n",
            "Weight Capacity (kg)    float64\n",
            "Price                   float64\n",
            "dtype: object\n",
            "\n",
            "Data types of columns in testing dataset\n",
            "Brand                    object\n",
            "Material                 object\n",
            "Size                     object\n",
            "Compartments            float64\n",
            "Laptop Compartment       object\n",
            "Waterproof               object\n",
            "Style                    object\n",
            "Color                    object\n",
            "Weight Capacity (kg)    float64\n",
            "dtype: object\n",
            "\n"
          ]
        }
      ],
      "source": [
        "print(f\"Data types of columns in training dataset\\n{train_df.dtypes}\\n\")\n",
        "print(f\"Data types of columns in training extra dataset\\n{train_extra_df.dtypes}\\n\")\n",
        "print(f\"Data types of columns in testing dataset\\n{test_df.dtypes}\\n\")"
      ]
    },
    {
      "cell_type": "markdown",
      "metadata": {},
      "source": [
        "Let's get the shape of the data."
      ]
    },
    {
      "cell_type": "code",
      "execution_count": 14,
      "metadata": {
        "gather": {
          "logged": 1745069627452
        }
      },
      "outputs": [
        {
          "name": "stdout",
          "output_type": "stream",
          "text": [
            "Shape of training data: (300000, 10)\n",
            "Shape of training extra data: (3694318, 10)\n",
            "Shape of testing data: (200000, 9)\n"
          ]
        }
      ],
      "source": [
        "# Display the shape of the dataset.\n",
        "print(f\"Shape of training data: {train_df.shape}\")\n",
        "print(f\"Shape of training extra data: {train_extra_df.shape}\")\n",
        "print(f\"Shape of testing data: {test_df.shape}\")"
      ]
    },
    {
      "cell_type": "markdown",
      "metadata": {},
      "source": [
        "#### Combine the train and train_extra datasets\n",
        "\n",
        "Now, let's combine the train and train_extra datasets to create a larger training set."
      ]
    },
    {
      "cell_type": "code",
      "execution_count": 15,
      "metadata": {
        "gather": {
          "logged": 1745069643397
        }
      },
      "outputs": [
        {
          "name": "stdout",
          "output_type": "stream",
          "text": [
            "Shape of combined training data: (3994318, 10)\n"
          ]
        },
        {
          "data": {
            "text/html": [
              "<div>\n",
              "<style scoped>\n",
              "    .dataframe tbody tr th:only-of-type {\n",
              "        vertical-align: middle;\n",
              "    }\n",
              "\n",
              "    .dataframe tbody tr th {\n",
              "        vertical-align: top;\n",
              "    }\n",
              "\n",
              "    .dataframe thead th {\n",
              "        text-align: right;\n",
              "    }\n",
              "</style>\n",
              "<table border=\"1\" class=\"dataframe\">\n",
              "  <thead>\n",
              "    <tr style=\"text-align: right;\">\n",
              "      <th></th>\n",
              "      <th>Brand</th>\n",
              "      <th>Material</th>\n",
              "      <th>Size</th>\n",
              "      <th>Compartments</th>\n",
              "      <th>Laptop Compartment</th>\n",
              "      <th>Waterproof</th>\n",
              "      <th>Style</th>\n",
              "      <th>Color</th>\n",
              "      <th>Weight Capacity (kg)</th>\n",
              "      <th>Price</th>\n",
              "    </tr>\n",
              "  </thead>\n",
              "  <tbody>\n",
              "    <tr>\n",
              "      <th>0</th>\n",
              "      <td>Jansport</td>\n",
              "      <td>Leather</td>\n",
              "      <td>Medium</td>\n",
              "      <td>7.0</td>\n",
              "      <td>Yes</td>\n",
              "      <td>No</td>\n",
              "      <td>Tote</td>\n",
              "      <td>Black</td>\n",
              "      <td>11.611723</td>\n",
              "      <td>112.15875</td>\n",
              "    </tr>\n",
              "    <tr>\n",
              "      <th>1</th>\n",
              "      <td>Jansport</td>\n",
              "      <td>Canvas</td>\n",
              "      <td>Small</td>\n",
              "      <td>10.0</td>\n",
              "      <td>Yes</td>\n",
              "      <td>Yes</td>\n",
              "      <td>Messenger</td>\n",
              "      <td>Green</td>\n",
              "      <td>27.078537</td>\n",
              "      <td>68.88056</td>\n",
              "    </tr>\n",
              "    <tr>\n",
              "      <th>2</th>\n",
              "      <td>Under Armour</td>\n",
              "      <td>Leather</td>\n",
              "      <td>Small</td>\n",
              "      <td>2.0</td>\n",
              "      <td>Yes</td>\n",
              "      <td>No</td>\n",
              "      <td>Messenger</td>\n",
              "      <td>Red</td>\n",
              "      <td>16.643760</td>\n",
              "      <td>39.17320</td>\n",
              "    </tr>\n",
              "    <tr>\n",
              "      <th>3</th>\n",
              "      <td>Nike</td>\n",
              "      <td>Nylon</td>\n",
              "      <td>Small</td>\n",
              "      <td>8.0</td>\n",
              "      <td>Yes</td>\n",
              "      <td>No</td>\n",
              "      <td>Messenger</td>\n",
              "      <td>Green</td>\n",
              "      <td>12.937220</td>\n",
              "      <td>80.60793</td>\n",
              "    </tr>\n",
              "    <tr>\n",
              "      <th>4</th>\n",
              "      <td>Adidas</td>\n",
              "      <td>Canvas</td>\n",
              "      <td>Medium</td>\n",
              "      <td>1.0</td>\n",
              "      <td>Yes</td>\n",
              "      <td>Yes</td>\n",
              "      <td>Messenger</td>\n",
              "      <td>Green</td>\n",
              "      <td>17.749338</td>\n",
              "      <td>86.02312</td>\n",
              "    </tr>\n",
              "  </tbody>\n",
              "</table>\n",
              "</div>"
            ],
            "text/plain": [
              "          Brand Material    Size  Compartments Laptop Compartment Waterproof  \\\n",
              "0      Jansport  Leather  Medium           7.0                Yes         No   \n",
              "1      Jansport   Canvas   Small          10.0                Yes        Yes   \n",
              "2  Under Armour  Leather   Small           2.0                Yes         No   \n",
              "3          Nike    Nylon   Small           8.0                Yes         No   \n",
              "4        Adidas   Canvas  Medium           1.0                Yes        Yes   \n",
              "\n",
              "       Style  Color  Weight Capacity (kg)      Price  \n",
              "0       Tote  Black             11.611723  112.15875  \n",
              "1  Messenger  Green             27.078537   68.88056  \n",
              "2  Messenger    Red             16.643760   39.17320  \n",
              "3  Messenger  Green             12.937220   80.60793  \n",
              "4  Messenger  Green             17.749338   86.02312  "
            ]
          },
          "execution_count": 15,
          "metadata": {},
          "output_type": "execute_result"
        }
      ],
      "source": [
        "# Combine train and train_extra datasets\n",
        "train_df = pd.concat([train_df, train_extra_df], axis=0).reset_index(drop=True)\n",
        "\n",
        "# Display the shape of the combined dataset\n",
        "print(f\"Shape of combined training data: {train_df.shape}\")\n",
        "\n",
        "# Display the shape of the combined dataset\n",
        "train_df.shape\n",
        "\n",
        "# Display the first few rows of the combined dataset\n",
        "train_df.head()\n"
      ]
    },
    {
      "cell_type": "markdown",
      "metadata": {},
      "source": [
        "Let's capture the categories of the categorical variables."
      ]
    },
    {
      "cell_type": "code",
      "execution_count": 16,
      "metadata": {
        "gather": {
          "logged": 1745069654250
        }
      },
      "outputs": [
        {
          "name": "stdout",
          "output_type": "stream",
          "text": [
            "There are 8 categorical columns:\n",
            "['Brand', 'Material', 'Size', 'Compartments', 'Laptop Compartment', 'Waterproof', 'Style', 'Color']\n",
            "There are 1 numerical column:\n",
            "['Weight Capacity (kg)']\n"
          ]
        }
      ],
      "source": [
        "cat_columns = train_df.columns[:-2].tolist()  # Dropped the last two columns since we know that these are numerical columns\n",
        "print(f'There are {len(cat_columns)} categorical columns:')\n",
        "print(cat_columns)\n",
        "\n",
        "num_columns = [train_df.columns[-2]]\n",
        "print(f'There are {len(num_columns)} numerical column:')\n",
        "print(num_columns)"
      ]
    },
    {
      "cell_type": "markdown",
      "metadata": {},
      "source": [
        "### 1.3 Data Visualization\n",
        "\n",
        "We created visualizations to better understand the data.\n"
      ]
    },
    {
      "cell_type": "code",
      "execution_count": 17,
      "metadata": {
        "gather": {
          "logged": 1745069657775
        }
      },
      "outputs": [
        {
          "data": {
            "image/png": "[encoded data removed]",
            "text/plain": [
              "<Figure size 640x480 with 1 Axes>"
            ]
          },
          "metadata": {},
          "output_type": "display_data"
        }
      ],
      "source": [
        "# For example, plot a histogram of the price column\n",
        "plt.hist(train_df['Price'], bins=20, edgecolor='black', color='skyblue', rwidth=0.8)\n",
        "plt.xlabel('Price')\n",
        "plt.ylabel('Frequency')\n",
        "plt.title('Histogram of Price (train_df)')\n",
        "plt.grid(axis='y', linestyle='--', alpha=0.9)\n",
        "plt.show()"
      ]
    },
    {
      "cell_type": "markdown",
      "metadata": {},
      "source": [
        "### 1.4 Correlation Matrix\n",
        "\n",
        "Finally, let's create a correlation matrix to see how the features are related to each other.\n"
      ]
    },
    {
      "cell_type": "code",
      "execution_count": 18,
      "metadata": {
        "gather": {
          "logged": 1745069663551
        }
      },
      "outputs": [
        {
          "data": {
            "image/png": "[encoded data removed]",
            "text/plain": [
              "<Figure size 640x480 with 2 Axes>"
            ]
          },
          "metadata": {},
          "output_type": "display_data"
        }
      ],
      "source": [
        "# Select only the numeric columns\n",
        "numeric_cols = train_df.select_dtypes(include=['float64', 'int64'])\n",
        "\n",
        "# Create a correlation matrix\n",
        "corr = numeric_cols.corr()\n",
        "\n",
        "# Display the correlation matrix\n",
        "sns.heatmap(corr, annot=True, cmap='coolwarm')\n",
        "plt.title('Correlation Matrix')\n",
        "plt.show()"
      ]
    },
    {
      "cell_type": "markdown",
      "metadata": {},
      "source": [
        "### Observations so far: \n",
        "\n",
        "- `training_extra` has significantly more records (3.69M) than `training` (300k), which will be useful in improving model training.\n",
        "- Some categorical columns have substantial missing values:\n",
        "    - `Brand`: 9705 missing in `train`, 117,000 missing in `train_extra`\n",
        "    - `Material`, `Style`, `Color`\n",
        "- `train_extra` has a higher proportion of missing values.\n",
        "- Considering:\n",
        "    - Mode imputation for categorical columns\n",
        "    - Mean/median imputation for numerical columns\n"
      ]
    },
    {
      "cell_type": "markdown",
      "metadata": {},
      "source": [
        "### 1.5 Feature Distribution\n",
        "\n",
        "Let's take a look at the distribution of the features."
      ]
    },
    {
      "cell_type": "code",
      "execution_count": 19,
      "metadata": {
        "gather": {
          "logged": 1745069670356
        }
      },
      "outputs": [
        {
          "data": {
            "image/png": "[encoded data removed]",
            "text/plain": [
              "<Figure size 1000x500 with 1 Axes>"
            ]
          },
          "metadata": {},
          "output_type": "display_data"
        }
      ],
      "source": [
        "# outlier boxplots\n",
        "plt.figure(figsize=(10, 5))\n",
        "sns.boxplot(x=train_df[\"Price\"])\n",
        "plt.title(\"Boxplot of Backpack Prices\")\n",
        "plt.show()"
      ]
    },
    {
      "cell_type": "code",
      "execution_count": 20,
      "metadata": {
        "gather": {
          "logged": 1745069715884
        }
      },
      "outputs": [
        {
          "data": {
            "image/png": "[encoded data removed]",
            "text/plain": [
              "<Figure size 1000x400 with 1 Axes>"
            ]
          },
          "metadata": {},
          "output_type": "display_data"
        },
        {
          "data": {
            "image/png": "[encoded data removed]",
            "text/plain": [
              "<Figure size 1000x400 with 1 Axes>"
            ]
          },
          "metadata": {},
          "output_type": "display_data"
        },
        {
          "data": {
            "image/png": "[encoded data removed]",
            "text/plain": [
              "<Figure size 1000x400 with 1 Axes>"
            ]
          },
          "metadata": {},
          "output_type": "display_data"
        },
        {
          "data": {
            "image/png": "[encoded data removed]",
            "text/plain": [
              "<Figure size 1000x400 with 1 Axes>"
            ]
          },
          "metadata": {},
          "output_type": "display_data"
        },
        {
          "data": {
            "image/png": "[encoded data removed]",
            "text/plain": [
              "<Figure size 1000x400 with 1 Axes>"
            ]
          },
          "metadata": {},
          "output_type": "display_data"
        },
        {
          "data": {
            "image/png": "[encoded data removed]",
            "text/plain": [
              "<Figure size 1000x400 with 1 Axes>"
            ]
          },
          "metadata": {},
          "output_type": "display_data"
        },
        {
          "data": {
            "image/png": "[encoded data removed]",
            "text/plain": [
              "<Figure size 1000x400 with 1 Axes>"
            ]
          },
          "metadata": {},
          "output_type": "display_data"
        },
        {
          "data": {
            "image/png": "[encoded data removed]",
            "text/plain": [
              "<Figure size 1000x400 with 1 Axes>"
            ]
          },
          "metadata": {},
          "output_type": "display_data"
        }
      ],
      "source": [
        "# categorical feature distribution\n",
        "for col in cat_columns:\n",
        "    plt.figure(figsize=(10, 4))\n",
        "    sns.countplot(y=train_df[col], order=train_df[col].value_counts().index, hue=train_df[col], palette=\"coolwarm\", legend=False)\n",
        "    plt.title(f\"Count Plot of {col}\")\n",
        "    plt.show()\n"
      ]
    },
    {
      "cell_type": "markdown",
      "metadata": {},
      "source": [
        "## 2. Data Preprocessing\n",
        "\n",
        "In this section, we will preprocess the data to prepare it for modeling."
      ]
    },
    {
      "cell_type": "markdown",
      "metadata": {},
      "source": [
        "### 2.1 Feature Engineering\n",
        "\n",
        "In this section, we will create new features that may help improve the performance of our models.\n"
      ]
    },
    {
      "cell_type": "markdown",
      "metadata": {},
      "source": [
        "#### Creation of Combined (Combined_list) Features\n",
        "\n",
        "For each original categorical column, a new feature is generated by combining it with `Weight Capacity`.\n",
        "\n",
        "This is done to create a new feature that captures the interaction between the original categorical feature and the weight capacity of the backpack. The new feature is created by multiplying the weight capacity by 100 and adding it to the original categorical feature. This allows us to create a new feature that captures the interaction between the original categorical feature and the weight capacity of the backpack."
      ]
    },
    {
      "cell_type": "code",
      "execution_count": 21,
      "metadata": {
        "gather": {
          "logged": 1745069719063
        }
      },
      "outputs": [
        {
          "name": "stdout",
          "output_type": "stream",
          "text": [
            "We now have 8 new columns\n",
            "['Brand_Weight_Capacity_Combined', 'Material_Weight_Capacity_Combined', 'Size_Weight_Capacity_Combined', 'Compartments_Weight_Capacity_Combined', 'Laptop Compartment_Weight_Capacity_Combined', 'Waterproof_Weight_Capacity_Combined', 'Style_Weight_Capacity_Combined', 'Color_Weight_Capacity_Combined']\n"
          ]
        }
      ],
      "source": [
        "combined_list = []\n",
        "label_encoders = {}\n",
        "\n",
        "for c in cat_columns:  # Use 'cat_columns' as defined earlier in the notebook\n",
        "    # Initialize and fit a LabelEncoder for the current column\n",
        "    le = LabelEncoder()\n",
        "    combined = pd.concat([train_df[c], test_df[c]], axis=0)\n",
        "    le.fit(combined)\n",
        "    label_encoders[c] = le  # Store the encoder for potential future use\n",
        "\n",
        "    # Transform the train and test data\n",
        "    train_df[c] = le.transform(train_df[c])\n",
        "    test_df[c] = le.transform(test_df[c])\n",
        "\n",
        "    # Create a new column combining the encoded value and weight capacity\n",
        "    new_col = f\"{c}_Weight_Capacity_Combined\"\n",
        "    train_df[new_col] = train_df[c] * 100 + train_df[\"Weight Capacity (kg)\"]\n",
        "    test_df[new_col] = test_df[c] * 100 + test_df[\"Weight Capacity (kg)\"]\n",
        "\n",
        "    # Append the new column name to the combined_list list\n",
        "    combined_list.append(new_col)\n",
        "\n",
        "print(f\"We now have {len(combined_list)} new columns\")\n",
        "print(combined_list)"
      ]
    },
    {
      "cell_type": "code",
      "execution_count": 22,
      "metadata": {
        "gather": {
          "logged": 1745069719535
        }
      },
      "outputs": [
        {
          "name": "stdout",
          "output_type": "stream",
          "text": [
            "We now have 17 columns:\n",
            "['Brand', 'Material', 'Size', 'Compartments', 'Laptop Compartment', 'Waterproof', 'Style', 'Color', 'Weight Capacity (kg)', 'Brand_Weight_Capacity_Combined', 'Material_Weight_Capacity_Combined', 'Size_Weight_Capacity_Combined', 'Compartments_Weight_Capacity_Combined', 'Laptop Compartment_Weight_Capacity_Combined', 'Waterproof_Weight_Capacity_Combined', 'Style_Weight_Capacity_Combined', 'Color_Weight_Capacity_Combined']\n"
          ]
        }
      ],
      "source": [
        "input_variables_le = cat_columns + num_columns + combined_list\n",
        "print(f\"We now have {len(input_variables_le)} columns:\")\n",
        "print(input_variables_le)"
      ]
    },
    {
      "cell_type": "code",
      "execution_count": 23,
      "metadata": {
        "gather": {
          "logged": 1745069720031
        }
      },
      "outputs": [
        {
          "name": "stdout",
          "output_type": "stream",
          "text": [
            "We now have 9 columns:\n",
            "['Brand', 'Material', 'Size', 'Compartments', 'Laptop Compartment', 'Waterproof', 'Style', 'Color', 'Weight Capacity (kg)']\n"
          ]
        }
      ],
      "source": [
        "input_variables = cat_columns + num_columns\n",
        "print(f\"We now have {len(input_variables)} columns:\")\n",
        "print(input_variables)"
      ]
    },
    {
      "cell_type": "code",
      "execution_count": 32,
      "metadata": {
        "gather": {
          "logged": 1745070935217
        }
      },
      "outputs": [
        {
          "name": "stdout",
          "output_type": "stream",
          "text": [
            "X_train_le shape: (2796022, 17)\n",
            "y_train_le shape: (2796022,)\n",
            "X_valid_le shape: (599148, 17)\n",
            "y_valid_le shape: (599148,)\n",
            "X_test_le shape: (599148, 17)\n",
            "y_test_le shape: (599148,)\n",
            "X_test_final_le shape: (200000, 17)\n"
          ]
        }
      ],
      "source": [
        "# Define the input features and target variable\n",
        "X_le = train_df[input_variables_le]\n",
        "y = train_df['Price']\n",
        "\n",
        "# Split the data into training, validation, and test sets\n",
        "X_train_le, X_temp_le, y_train_le, y_temp_le = train_test_split(X_le, y, test_size=0.3, random_state=42)\n",
        "X_valid_le, X_test_le, y_valid_le, y_test_le = train_test_split(X_temp_le, y_temp_le, test_size=0.5, random_state=42)\n",
        "\n",
        "# For the test dataset (test.csv), ensure it only contains the input features\n",
        "X_test_final_le = test_df[input_variables_le]\n",
        "\n",
        "# Display the shapes of the datasets\n",
        "print(f\"X_train_le shape: {X_train_le.shape}\")\n",
        "print(f\"y_train_le shape: {y_train_le.shape}\")\n",
        "print(f\"X_valid_le shape: {X_valid_le.shape}\")\n",
        "print(f\"y_valid_le shape: {y_valid_le.shape}\")\n",
        "print(f\"X_test_le shape: {X_test_le.shape}\")\n",
        "print(f\"y_test_le shape: {y_test_le.shape}\")\n",
        "print(f\"X_test_final_le shape: {X_test_final_le.shape}\")"
      ]
    },
    {
      "cell_type": "code",
      "execution_count": 33,
      "metadata": {
        "gather": {
          "logged": 1745070940073
        }
      },
      "outputs": [
        {
          "name": "stdout",
          "output_type": "stream",
          "text": [
            "X_train shape: (2796022, 9)\n",
            "y_train shape: (2796022,)\n",
            "X_valid shape: (599148, 9)\n",
            "y_valid shape: (599148,)\n",
            "X_test shape: (599148, 9)\n",
            "y_test shape: (599148,)\n",
            "X_test_final shape: (200000, 9)\n"
          ]
        }
      ],
      "source": [
        "# Define the input features and target variable\n",
        "X = train_df[input_variables]\n",
        "y = train_df['Price']\n",
        "\n",
        "# Split the data into training, validation, and test sets\n",
        "X_train, X_temp, y_train, y_temp = train_test_split(X, y, test_size=0.3, random_state=42)\n",
        "X_valid, X_test, y_valid, y_test = train_test_split(X_temp, y_temp, test_size=0.5, random_state=42)\n",
        "\n",
        "# For the test dataset (test.csv), ensure it only contains the input features\n",
        "X_test_final = test_df[input_variables]\n",
        "\n",
        "# Display the shapes of the datasets\n",
        "print(f\"X_train shape: {X_train.shape}\")\n",
        "print(f\"y_train shape: {y_train.shape}\")\n",
        "print(f\"X_valid shape: {X_valid.shape}\")\n",
        "print(f\"y_valid shape: {y_valid.shape}\")\n",
        "print(f\"X_test shape: {X_test.shape}\")\n",
        "print(f\"y_test shape: {y_test.shape}\")\n",
        "print(f\"X_test_final shape: {X_test_final.shape}\")"
      ]
    },
    {
      "cell_type": "markdown",
      "metadata": {},
      "source": [
        "## 3. Modeling\n",
        "\n",
        "In this section, we will select and train machine learning models to predict the price of the backpack.\n"
      ]
    },
    {
      "cell_type": "code",
      "execution_count": 26,
      "metadata": {
        "gather": {
          "logged": 1745069949809
        }
      },
      "outputs": [
        {
          "name": "stderr",
          "output_type": "stream",
          "text": [
            "2025/04/19 13:37:23 INFO mlflow.utils.autologging_utils: Created MLflow autologging run with ID '4ebc330b-38e7-4b66-9cd5-0407f4676612', which will track hyperparameters, performance metrics, model artifacts, and lineage information for the current xgboost workflow\n"
          ]
        },
        {
          "name": "stdout",
          "output_type": "stream",
          "text": [
            "[0]\ttrain-rmse:38.94985\tvalid-rmse:38.89856\n",
            "[15]\ttrain-rmse:38.93311\tvalid-rmse:38.88332\n",
            "[30]\ttrain-rmse:38.92209\tvalid-rmse:38.87375\n",
            "[45]\ttrain-rmse:38.91371\tvalid-rmse:38.86668\n",
            "[60]\ttrain-rmse:38.90730\tvalid-rmse:38.86153\n",
            "[75]\ttrain-rmse:38.90191\tvalid-rmse:38.85747\n",
            "[90]\ttrain-rmse:38.89737\tvalid-rmse:38.85426\n",
            "[105]\ttrain-rmse:38.89342\tvalid-rmse:38.85187\n",
            "[120]\ttrain-rmse:38.88979\tvalid-rmse:38.84937\n",
            "[135]\ttrain-rmse:38.88646\tvalid-rmse:38.84758\n",
            "[150]\ttrain-rmse:38.88362\tvalid-rmse:38.84612\n",
            "[165]\ttrain-rmse:38.88096\tvalid-rmse:38.84485\n",
            "[180]\ttrain-rmse:38.87863\tvalid-rmse:38.84407\n",
            "[195]\ttrain-rmse:38.87626\tvalid-rmse:38.84296\n",
            "[210]\ttrain-rmse:38.87417\tvalid-rmse:38.84221\n",
            "[225]\ttrain-rmse:38.87220\tvalid-rmse:38.84146\n",
            "[240]\ttrain-rmse:38.87026\tvalid-rmse:38.84086\n",
            "[255]\ttrain-rmse:38.86838\tvalid-rmse:38.84023\n",
            "[270]\ttrain-rmse:38.86672\tvalid-rmse:38.83976\n",
            "[285]\ttrain-rmse:38.86497\tvalid-rmse:38.83927\n",
            "[300]\ttrain-rmse:38.86339\tvalid-rmse:38.83898\n",
            "[315]\ttrain-rmse:38.86179\tvalid-rmse:38.83860\n",
            "[330]\ttrain-rmse:38.86034\tvalid-rmse:38.83824\n",
            "[345]\ttrain-rmse:38.85877\tvalid-rmse:38.83787\n",
            "[360]\ttrain-rmse:38.85729\tvalid-rmse:38.83749\n",
            "[375]\ttrain-rmse:38.85576\tvalid-rmse:38.83721\n",
            "[390]\ttrain-rmse:38.85423\tvalid-rmse:38.83689\n",
            "[405]\ttrain-rmse:38.85280\tvalid-rmse:38.83660\n",
            "[420]\ttrain-rmse:38.85141\tvalid-rmse:38.83635\n",
            "[435]\ttrain-rmse:38.85008\tvalid-rmse:38.83624\n",
            "[450]\ttrain-rmse:38.84877\tvalid-rmse:38.83614\n",
            "[465]\ttrain-rmse:38.84745\tvalid-rmse:38.83601\n",
            "[480]\ttrain-rmse:38.84617\tvalid-rmse:38.83578\n",
            "[495]\ttrain-rmse:38.84481\tvalid-rmse:38.83553\n",
            "[510]\ttrain-rmse:38.84357\tvalid-rmse:38.83537\n",
            "[525]\ttrain-rmse:38.84224\tvalid-rmse:38.83519\n",
            "[540]\ttrain-rmse:38.84096\tvalid-rmse:38.83512\n",
            "[555]\ttrain-rmse:38.83969\tvalid-rmse:38.83497\n",
            "[570]\ttrain-rmse:38.83854\tvalid-rmse:38.83491\n",
            "[585]\ttrain-rmse:38.83726\tvalid-rmse:38.83478\n",
            "[600]\ttrain-rmse:38.83610\tvalid-rmse:38.83468\n",
            "[615]\ttrain-rmse:38.83497\tvalid-rmse:38.83461\n",
            "[630]\ttrain-rmse:38.83384\tvalid-rmse:38.83457\n",
            "[645]\ttrain-rmse:38.83265\tvalid-rmse:38.83452\n",
            "[660]\ttrain-rmse:38.83153\tvalid-rmse:38.83443\n",
            "[675]\ttrain-rmse:38.83032\tvalid-rmse:38.83438\n",
            "[690]\ttrain-rmse:38.82919\tvalid-rmse:38.83423\n",
            "[705]\ttrain-rmse:38.82804\tvalid-rmse:38.83414\n",
            "[720]\ttrain-rmse:38.82688\tvalid-rmse:38.83401\n",
            "[735]\ttrain-rmse:38.82569\tvalid-rmse:38.83398\n",
            "[750]\ttrain-rmse:38.82455\tvalid-rmse:38.83389\n",
            "[765]\ttrain-rmse:38.82344\tvalid-rmse:38.83384\n",
            "[780]\ttrain-rmse:38.82234\tvalid-rmse:38.83387\n",
            "[795]\ttrain-rmse:38.82124\tvalid-rmse:38.83386\n",
            "[810]\ttrain-rmse:38.82005\tvalid-rmse:38.83378\n",
            "[825]\ttrain-rmse:38.81884\tvalid-rmse:38.83376\n",
            "[840]\ttrain-rmse:38.81776\tvalid-rmse:38.83374\n",
            "[855]\ttrain-rmse:38.81660\tvalid-rmse:38.83372\n",
            "[870]\ttrain-rmse:38.81556\tvalid-rmse:38.83365\n",
            "[885]\ttrain-rmse:38.81447\tvalid-rmse:38.83365\n",
            "[900]\ttrain-rmse:38.81340\tvalid-rmse:38.83367\n",
            "[915]\ttrain-rmse:38.81237\tvalid-rmse:38.83365\n",
            "[930]\ttrain-rmse:38.81126\tvalid-rmse:38.83365\n",
            "[945]\ttrain-rmse:38.81018\tvalid-rmse:38.83363\n",
            "[960]\ttrain-rmse:38.80913\tvalid-rmse:38.83367\n",
            "[975]\ttrain-rmse:38.80808\tvalid-rmse:38.83363\n",
            "[990]\ttrain-rmse:38.80697\tvalid-rmse:38.83360\n",
            "[999]\ttrain-rmse:38.80633\tvalid-rmse:38.83358\n",
            "🏃 View run hungry_kitten_5t542544 at: https://eastus.api.azureml.ms/mlflow/v2.0/subscriptions/a4e67b88-5120-438c-876d-dd83e216f0f7/resourceGroups/rg-3_dayML-ws/providers/Microsoft.MachineLearningServices/workspaces/ws-azureml-mlw/#/experiments/ba909f61-b6ac-461d-95d9-8a4ccb0f387f/runs/4ebc330b-38e7-4b66-9cd5-0407f4676612\n",
            "🧪 View experiment at: https://eastus.api.azureml.ms/mlflow/v2.0/subscriptions/a4e67b88-5120-438c-876d-dd83e216f0f7/resourceGroups/rg-3_dayML-ws/providers/Microsoft.MachineLearningServices/workspaces/ws-azureml-mlw/#/experiments/ba909f61-b6ac-461d-95d9-8a4ccb0f387f\n"
          ]
        }
      ],
      "source": [
        "# Convert the data into DMatrix format for XGBoost\n",
        "dtrain = xgb.DMatrix(X_train_le, label=y_train_le)\n",
        "dvalid = xgb.DMatrix(X_valid_le, label=y_valid_le)\n",
        "dtest = xgb.DMatrix(X_test_le)\n",
        "\n",
        "# Define the parameters for the XGBoost model\n",
        "params = {\n",
        "    'objective': 'reg:squarederror',\n",
        "    'eval_metric': 'rmse',\n",
        "    'learning_rate': 0.02,\n",
        "    'max_depth': 6,\n",
        "    'subsample': 0.8,\n",
        "    'colsample_bytree': 0.8,\n",
        "    'seed': 42\n",
        "}\n",
        "\n",
        "# Train the XGBoost model\n",
        "evals = [(dtrain, 'train'), (dvalid, 'valid')]\n",
        "le_xgb_model = xgb.train(params, dtrain, num_boost_round=1_000, evals=evals, early_stopping_rounds=50, verbose_eval=15)\n",
        "\n",
        "# Make predictions on the validation set\n",
        "le_y_pred_valid = le_xgb_model.predict(dvalid)\n",
        "\n",
        "# Make predictions on the test set\n",
        "le_y_pred_test = le_xgb_model.predict(dtest)"
      ]
    },
    {
      "cell_type": "code",
      "execution_count": 29,
      "metadata": {
        "gather": {
          "logged": 1745070403491
        }
      },
      "outputs": [
        {
          "name": "stdout",
          "output_type": "stream",
          "text": [
            "MAE with Median Imputer: 33.637268290644926\n",
            "RMSE with Median Imputer: 38.890545181844836\n",
            "MAE with KNN Imputer: 33.63727166664187\n",
            "RMSE with KNN Imputer: 38.89055704408697\n"
          ]
        }
      ],
      "source": [
        "from sklearn.impute import SimpleImputer, KNNImputer\n",
        "\n",
        "def evaluate_imputation_strategy(imputer, X_train, X_valid, y_train, y_valid):\n",
        "    \"\"\"\n",
        "    Fits imputer on X_train, transforms X_valid,\n",
        "    encodes categoricals, trains a linear regression,\n",
        "    and returns validation MAE and RMSE.\n",
        "    \"\"\"\n",
        "    from sklearn.linear_model import LinearRegression\n",
        "    from sklearn.metrics import mean_absolute_error, root_mean_squared_error\n",
        "    from copy import deepcopy\n",
        "\n",
        "    # deep copy\n",
        "    X_train_copy = deepcopy(X_train)\n",
        "    X_valid_copy = deepcopy(X_valid)\n",
        "\n",
        "    # separate numeric and categorical columns\n",
        "    numeric_cols = X_train_copy.select_dtypes(include=[np.number]).columns\n",
        "    cat_cols = X_train_copy.select_dtypes(exclude=[np.number]).columns\n",
        "\n",
        "    # 1. numeric imputation\n",
        "    X_train_copy[numeric_cols] = imputer.fit_transform(X_train_copy[numeric_cols])\n",
        "    X_valid_copy[numeric_cols] = imputer.transform(X_valid_copy[numeric_cols])\n",
        "\n",
        "    # 2. fill categorical missing values\n",
        "    X_train_copy[cat_cols] = X_train_copy[cat_cols].fillna(\"Missing\")\n",
        "    X_valid_copy[cat_cols] = X_valid_copy[cat_cols].fillna(\"Missing\")\n",
        "\n",
        "    # 3. one-hot encode categorical columns\n",
        "    X_train_copy = pd.get_dummies(X_train_copy, columns=cat_cols)\n",
        "    X_valid_copy = pd.get_dummies(X_valid_copy, columns=cat_cols)\n",
        "\n",
        "    # 4. align columns (to match dummy columns between sets)\n",
        "    X_train_copy, X_valid_copy = X_train_copy.align(X_valid_copy, join='left', axis=1)\n",
        "    X_valid_copy = X_valid_copy.fillna(0)\n",
        "\n",
        "    # 5. train and evaluate\n",
        "    model = LinearRegression()\n",
        "    model.fit(X_train_copy, y_train)\n",
        "    y_pred = model.predict(X_valid_copy)\n",
        "    mae = mean_absolute_error(y_valid, y_pred)\n",
        "    rmse = root_mean_squared_error(y_valid, y_pred)\n",
        "\n",
        "    return mae, rmse\n",
        "\n",
        "# Disable MLflow autologging temporarily to avoid logging the dataset\n",
        "mlflow.autolog(disable=True)\n",
        "\n",
        "simple_median_imputer = SimpleImputer(strategy='median')\n",
        "mae_median, rmse_median = evaluate_imputation_strategy(simple_median_imputer, X_train, X_valid, y_train, y_valid)\n",
        "\n",
        "knn_imputer = KNNImputer(n_neighbors=5)\n",
        "mae_knn, rmse_knn = evaluate_imputation_strategy(knn_imputer, X_train, X_valid, y_train, y_valid)\n",
        "\n",
        "print(\"MAE with Median Imputer:\", mae_median)\n",
        "print(\"RMSE with Median Imputer:\", rmse_median)\n",
        "print(\"MAE with KNN Imputer:\", mae_knn)\n",
        "print(\"RMSE with KNN Imputer:\", rmse_knn)\n",
        "\n",
        "# Re-enable MLflow autologging\n",
        "mlflow.autolog()"
      ]
    },
    {
      "cell_type": "code",
      "execution_count": 30,
      "metadata": {
        "gather": {
          "logged": 1745070577444
        }
      },
      "outputs": [
        {
          "name": "stderr",
          "output_type": "stream",
          "text": [
            "2025/04/19 13:48:45 INFO mlflow.utils.autologging_utils: Created MLflow autologging run with ID '048ca1c9-4af4-4521-ac4f-3b48b0bd715f', which will track hyperparameters, performance metrics, model artifacts, and lineage information for the current sklearn workflow\n",
            "2025/04/19 13:49:30 WARNING mlflow.sklearn: Failed to log evaluation dataset information to MLflow Tracking. Reason: BAD_REQUEST: Response: {'Error': {'Code': 'UserError', 'Severity': None, 'Message': 'Cannot log the same dataset with different context', 'MessageFormat': None, 'MessageParameters': None, 'ReferenceCode': None, 'DetailsUri': None, 'Target': None, 'Details': [], 'InnerError': None, 'DebugInfo': None, 'AdditionalInfo': None}, 'Correlation': {'operation': 'a1e29da46f09a0c8d6641af91219417d', 'request': '72e879348f8bbb8f'}, 'Environment': 'eastus', 'Location': 'eastus', 'Time': '2025-04-19T13:49:30.31068+00:00', 'ComponentName': 'mlflow', 'statusCode': 400, 'error_code': 'BAD_REQUEST'}\n"
          ]
        },
        {
          "name": "stdout",
          "output_type": "stream",
          "text": [
            "🏃 View run nifty_tray_rwsyxksn at: https://eastus.api.azureml.ms/mlflow/v2.0/subscriptions/a4e67b88-5120-438c-876d-dd83e216f0f7/resourceGroups/rg-3_dayML-ws/providers/Microsoft.MachineLearningServices/workspaces/ws-azureml-mlw/#/experiments/ba909f61-b6ac-461d-95d9-8a4ccb0f387f/runs/048ca1c9-4af4-4521-ac4f-3b48b0bd715f\n",
            "🧪 View experiment at: https://eastus.api.azureml.ms/mlflow/v2.0/subscriptions/a4e67b88-5120-438c-876d-dd83e216f0f7/resourceGroups/rg-3_dayML-ws/providers/Microsoft.MachineLearningServices/workspaces/ws-azureml-mlw/#/experiments/ba909f61-b6ac-461d-95d9-8a4ccb0f387f\n",
            "First few predictions on the test set: [81.37837347 80.10693897 81.68864735 81.4905089  83.26703819]\n"
          ]
        }
      ],
      "source": [
        "# Handle missing values by filling them with the median\n",
        "X_train_le = X_train_le.fillna(X_train_le.median())\n",
        "X_valid_le = X_valid_le.fillna(X_valid_le.median())\n",
        "X_test_le = X_test_le.fillna(X_test_le.median())\n",
        "\n",
        "# Train the Linear Regression model\n",
        "le_lr_model = LinearRegression()\n",
        "le_lr_model.fit(X_train_le, y_train_le)\n",
        "\n",
        "# Make predictions on the validation set\n",
        "le_y_pred_lr = le_lr_model.predict(X_valid_le)\n",
        "\n",
        "# Make predictions on the test set\n",
        "le_y_pred_test_lr = le_lr_model.predict(X_test_le)\n",
        "\n",
        "# Display the first few predictions\n",
        "print(\"First few predictions on the test set:\", le_y_pred_test_lr[:5])"
      ]
    },
    {
      "cell_type": "code",
      "execution_count": 31,
      "metadata": {
        "gather": {
          "logged": 1745070732454
        }
      },
      "outputs": [
        {
          "name": "stdout",
          "output_type": "stream",
          "text": [
            "Weight Capacity (kg)    1285\n",
            "dtype: int64\n"
          ]
        }
      ],
      "source": [
        "# Count missing cells in numeric columns\n",
        "missing_counts = X_train.select_dtypes(include=[np.number]).isna().sum()\n",
        "print(missing_counts[missing_counts > 0])"
      ]
    },
    {
      "cell_type": "markdown",
      "metadata": {},
      "source": [
        "They both have the same MAE and RMSE, so we will go ahead with the median approach, as it is simpler and faster at scale."
      ]
    },
    {
      "cell_type": "code",
      "execution_count": 34,
      "metadata": {
        "gather": {
          "logged": 1745070984736
        }
      },
      "outputs": [],
      "source": [
        "# Separate numeric vs. categorical columns\n",
        "numeric_cols = X_train.select_dtypes(include=[np.number]).columns\n",
        "cat_cols = X_train.select_dtypes(exclude=[np.number]).columns\n",
        "\n",
        "# Fill numeric columns with X_train's median\n",
        "numeric_imputer = SimpleImputer(strategy='median')\n",
        "X_train[numeric_cols] = numeric_imputer.fit_transform(X_train[numeric_cols])\n",
        "X_valid[numeric_cols] = numeric_imputer.transform(X_valid[numeric_cols])\n",
        "X_test[numeric_cols] = numeric_imputer.transform(X_test[numeric_cols])\n",
        "\n",
        "# Fill categorical columns with \"Missing\"\n",
        "X_train[cat_cols] = X_train[cat_cols].fillna(\"Missing\")\n",
        "X_valid[cat_cols] = X_valid[cat_cols].fillna(\"Missing\")\n",
        "X_test[cat_cols] = X_test[cat_cols].fillna(\"Missing\")"
      ]
    },
    {
      "cell_type": "markdown",
      "metadata": {},
      "source": [
        "Now we will standardize numeric features."
      ]
    },
    {
      "cell_type": "code",
      "execution_count": null,
      "metadata": {
        "gather": {
          "logged": 1745070993315
        }
      },
      "outputs": [],
      "source": [
        "# numeric standardization\n",
        "from sklearn.preprocessing import StandardScaler\n",
        "\n",
        "scaler = StandardScaler()\n",
        "\n",
        "# fit on X_train numeric features\n",
        "X_train[numeric_cols] = scaler.fit_transform(X_train[numeric_cols])\n",
        "X_valid[numeric_cols] = scaler.transform(X_valid[numeric_cols])\n",
        "X_test[numeric_cols]  = scaler.transform(X_test[numeric_cols])"
      ]
    },
    {
      "cell_type": "markdown",
      "metadata": {},
      "source": [
        "And perform one-hot encoding on the categorical variables."
      ]
    },
    {
      "cell_type": "code",
      "execution_count": null,
      "metadata": {
        "gather": {
          "logged": 1745071001891
        }
      },
      "outputs": [],
      "source": [
        "# One Hot Encoding\n",
        "from sklearn.preprocessing import OneHotEncoder\n",
        "\n",
        "# instantiate the encoder\n",
        "ohe = OneHotEncoder(sparse_output=False, handle_unknown='ignore')\n",
        "\n",
        "# fit on train's categorical columns\n",
        "ohe.fit(X_train[cat_cols])\n",
        "\n",
        "# transform each dataset's categorical columns\n",
        "X_train_ohe = ohe.transform(X_train[cat_cols])\n",
        "X_valid_ohe = ohe.transform(X_valid[cat_cols])\n",
        "X_test_ohe  = ohe.transform(X_test[cat_cols])\n",
        "\n",
        "# convert numeric columns to arrays\n",
        "X_train_numeric = X_train[numeric_cols].values\n",
        "X_valid_numeric = X_valid[numeric_cols].values\n",
        "X_test_numeric  = X_test[numeric_cols].values\n",
        "\n",
        "# concatenate numeric and encoded categorical data\n",
        "X_train_final = np.concatenate([X_train_numeric, X_train_ohe], axis=1)\n",
        "X_valid_final = np.concatenate([X_valid_numeric, X_valid_ohe], axis=1)\n",
        "X_test_final_2 = np.concatenate([X_test_numeric, X_test_ohe], axis=1)"
      ]
    },
    {
      "cell_type": "markdown",
      "metadata": {},
      "source": [
        "**IMPORTANT NOTE TO SELF:**\n",
        "Make the same changes for XGBoost as well, or any other model you train. For example:\n",
        "\n",
        "xgb_regressor.fit(X_train_final, y_train, eval_set=[(X_train_final, y_train), (X_valid_final, y_valid)], verbose=15)\n",
        "...\n",
        "y_pred_test_xgb = xgb_regressor.predict(X_test_final_2)\n",
        "\n",
        "Otherwise, we'll be mixing data that’s not one-hot-encoded for XGBoost."
      ]
    },
    {
      "cell_type": "markdown",
      "metadata": {},
      "source": [
        "Linear Regression Model"
      ]
    },
    {
      "cell_type": "code",
      "execution_count": 37,
      "metadata": {
        "gather": {
          "logged": 1745071136787
        }
      },
      "outputs": [
        {
          "name": "stderr",
          "output_type": "stream",
          "text": [
            "2025/04/19 13:58:46 INFO mlflow.utils.autologging_utils: Created MLflow autologging run with ID '003cc2f1-8bb6-4caf-bb5a-d39690638b2b', which will track hyperparameters, performance metrics, model artifacts, and lineage information for the current sklearn workflow\n",
            "2025/04/19 13:58:46 WARNING mlflow.sklearn: Failed to log training dataset information to MLflow Tracking. Reason: 'Series' object has no attribute 'flatten'\n"
          ]
        },
        {
          "name": "stdout",
          "output_type": "stream",
          "text": [
            "🏃 View run icy_box_cfwbc8d9 at: https://eastus.api.azureml.ms/mlflow/v2.0/subscriptions/a4e67b88-5120-438c-876d-dd83e216f0f7/resourceGroups/rg-3_dayML-ws/providers/Microsoft.MachineLearningServices/workspaces/ws-azureml-mlw/#/experiments/ba909f61-b6ac-461d-95d9-8a4ccb0f387f/runs/003cc2f1-8bb6-4caf-bb5a-d39690638b2b\n",
            "🧪 View experiment at: https://eastus.api.azureml.ms/mlflow/v2.0/subscriptions/a4e67b88-5120-438c-876d-dd83e216f0f7/resourceGroups/rg-3_dayML-ws/providers/Microsoft.MachineLearningServices/workspaces/ws-azureml-mlw/#/experiments/ba909f61-b6ac-461d-95d9-8a4ccb0f387f\n",
            "First few predictions on the test set: [81.37843422 80.09687816 81.69168058 81.47179457 83.24804196]\n"
          ]
        }
      ],
      "source": [
        "# Train the Linear Regression model\n",
        "lr_model = LinearRegression()\n",
        "lr_model.fit(X_train_final, y_train)\n",
        "\n",
        "# Make predictions on the validation set\n",
        "y_pred_lr = lr_model.predict(X_valid_final)\n",
        "\n",
        "# Make predictions on the test set\n",
        "y_pred_test_lr = lr_model.predict(X_test_final_2)\n",
        "\n",
        "# Display the first few predictions\n",
        "print(\"First few predictions on the test set:\", y_pred_test_lr[:5])"
      ]
    },
    {
      "cell_type": "markdown",
      "metadata": {},
      "source": [
        "XGBoost model"
      ]
    },
    {
      "cell_type": "code",
      "execution_count": 38,
      "metadata": {
        "gather": {
          "logged": 1745071227061
        }
      },
      "outputs": [
        {
          "name": "stderr",
          "output_type": "stream",
          "text": [
            "2025/04/19 13:58:56 INFO mlflow.utils.autologging_utils: Created MLflow autologging run with ID '676b0bb8-3c5e-4460-bc09-b946d45a2bdd', which will track hyperparameters, performance metrics, model artifacts, and lineage information for the current xgboost workflow\n"
          ]
        },
        {
          "name": "stdout",
          "output_type": "stream",
          "text": [
            "[0]\ttrain-rmse:38.94987\tvalid-rmse:38.89853\n",
            "[15]\ttrain-rmse:38.93520\tvalid-rmse:38.88501\n",
            "[30]\ttrain-rmse:38.92477\tvalid-rmse:38.87562\n",
            "[45]\ttrain-rmse:38.91752\tvalid-rmse:38.86933\n",
            "[60]\ttrain-rmse:38.91173\tvalid-rmse:38.86457\n",
            "[75]\ttrain-rmse:38.90716\tvalid-rmse:38.86086\n",
            "[90]\ttrain-rmse:38.90300\tvalid-rmse:38.85761\n",
            "[105]\ttrain-rmse:38.89952\tvalid-rmse:38.85515\n",
            "[120]\ttrain-rmse:38.89616\tvalid-rmse:38.85274\n",
            "[135]\ttrain-rmse:38.89329\tvalid-rmse:38.85087\n",
            "[150]\ttrain-rmse:38.89072\tvalid-rmse:38.84933\n",
            "[165]\ttrain-rmse:38.88857\tvalid-rmse:38.84820\n",
            "[180]\ttrain-rmse:38.88651\tvalid-rmse:38.84716\n",
            "[195]\ttrain-rmse:38.88466\tvalid-rmse:38.84619\n",
            "[210]\ttrain-rmse:38.88284\tvalid-rmse:38.84532\n",
            "[225]\ttrain-rmse:38.88116\tvalid-rmse:38.84448\n",
            "[240]\ttrain-rmse:38.87966\tvalid-rmse:38.84389\n",
            "[255]\ttrain-rmse:38.87804\tvalid-rmse:38.84306\n",
            "[270]\ttrain-rmse:38.87663\tvalid-rmse:38.84266\n",
            "[285]\ttrain-rmse:38.87526\tvalid-rmse:38.84219\n",
            "[300]\ttrain-rmse:38.87392\tvalid-rmse:38.84175\n",
            "[315]\ttrain-rmse:38.87268\tvalid-rmse:38.84134\n",
            "[330]\ttrain-rmse:38.87135\tvalid-rmse:38.84085\n",
            "[345]\ttrain-rmse:38.87009\tvalid-rmse:38.84047\n",
            "[360]\ttrain-rmse:38.86882\tvalid-rmse:38.84003\n",
            "[375]\ttrain-rmse:38.86770\tvalid-rmse:38.83975\n",
            "[390]\ttrain-rmse:38.86660\tvalid-rmse:38.83949\n",
            "[405]\ttrain-rmse:38.86553\tvalid-rmse:38.83914\n",
            "[420]\ttrain-rmse:38.86441\tvalid-rmse:38.83891\n",
            "[435]\ttrain-rmse:38.86332\tvalid-rmse:38.83870\n",
            "[450]\ttrain-rmse:38.86224\tvalid-rmse:38.83841\n",
            "[465]\ttrain-rmse:38.86120\tvalid-rmse:38.83823\n",
            "[480]\ttrain-rmse:38.86023\tvalid-rmse:38.83815\n",
            "[495]\ttrain-rmse:38.85920\tvalid-rmse:38.83795\n",
            "[510]\ttrain-rmse:38.85829\tvalid-rmse:38.83777\n",
            "[525]\ttrain-rmse:38.85721\tvalid-rmse:38.83754\n",
            "[540]\ttrain-rmse:38.85629\tvalid-rmse:38.83741\n",
            "[555]\ttrain-rmse:38.85541\tvalid-rmse:38.83730\n",
            "[570]\ttrain-rmse:38.85454\tvalid-rmse:38.83720\n",
            "[585]\ttrain-rmse:38.85361\tvalid-rmse:38.83707\n",
            "[600]\ttrain-rmse:38.85269\tvalid-rmse:38.83696\n",
            "[615]\ttrain-rmse:38.85186\tvalid-rmse:38.83684\n",
            "[630]\ttrain-rmse:38.85097\tvalid-rmse:38.83672\n",
            "[645]\ttrain-rmse:38.85004\tvalid-rmse:38.83659\n",
            "[660]\ttrain-rmse:38.84919\tvalid-rmse:38.83654\n",
            "[675]\ttrain-rmse:38.84837\tvalid-rmse:38.83653\n",
            "[690]\ttrain-rmse:38.84755\tvalid-rmse:38.83647\n",
            "[705]\ttrain-rmse:38.84668\tvalid-rmse:38.83631\n",
            "[720]\ttrain-rmse:38.84584\tvalid-rmse:38.83623\n",
            "[735]\ttrain-rmse:38.84495\tvalid-rmse:38.83608\n",
            "[750]\ttrain-rmse:38.84415\tvalid-rmse:38.83601\n",
            "[765]\ttrain-rmse:38.84333\tvalid-rmse:38.83596\n",
            "[780]\ttrain-rmse:38.84249\tvalid-rmse:38.83595\n",
            "[795]\ttrain-rmse:38.84168\tvalid-rmse:38.83591\n",
            "[810]\ttrain-rmse:38.84088\tvalid-rmse:38.83575\n",
            "[825]\ttrain-rmse:38.84016\tvalid-rmse:38.83569\n",
            "[840]\ttrain-rmse:38.83935\tvalid-rmse:38.83570\n",
            "[855]\ttrain-rmse:38.83855\tvalid-rmse:38.83564\n",
            "[870]\ttrain-rmse:38.83779\tvalid-rmse:38.83560\n",
            "[885]\ttrain-rmse:38.83708\tvalid-rmse:38.83564\n",
            "[900]\ttrain-rmse:38.83632\tvalid-rmse:38.83567\n",
            "[915]\ttrain-rmse:38.83557\tvalid-rmse:38.83565\n",
            "[924]\ttrain-rmse:38.83510\tvalid-rmse:38.83565\n",
            "🏃 View run olive_ring_wh0vxngg at: https://eastus.api.azureml.ms/mlflow/v2.0/subscriptions/a4e67b88-5120-438c-876d-dd83e216f0f7/resourceGroups/rg-3_dayML-ws/providers/Microsoft.MachineLearningServices/workspaces/ws-azureml-mlw/#/experiments/ba909f61-b6ac-461d-95d9-8a4ccb0f387f/runs/676b0bb8-3c5e-4460-bc09-b946d45a2bdd\n",
            "🧪 View experiment at: https://eastus.api.azureml.ms/mlflow/v2.0/subscriptions/a4e67b88-5120-438c-876d-dd83e216f0f7/resourceGroups/rg-3_dayML-ws/providers/Microsoft.MachineLearningServices/workspaces/ws-azureml-mlw/#/experiments/ba909f61-b6ac-461d-95d9-8a4ccb0f387f\n",
            "First few predictions on the test set: [81.40641 81.06726 81.75151 84.67097 83.45742]\n"
          ]
        }
      ],
      "source": [
        "# Convert the one-hot encoded data into DMatrix format\n",
        "dtrain = xgb.DMatrix(X_train_final, label=y_train)\n",
        "dvalid = xgb.DMatrix(X_valid_final, label=y_valid)\n",
        "dtest = xgb.DMatrix(X_test_final_2)\n",
        "\n",
        "# Define the parameters for the XGBoost model\n",
        "params = {\n",
        "    'objective': 'reg:squarederror',\n",
        "    'eval_metric': 'rmse',\n",
        "    'learning_rate': 0.02,\n",
        "    'max_depth': 6,\n",
        "    'subsample': 0.8,\n",
        "    'colsample_bytree': 0.8,\n",
        "    'seed': 42\n",
        "}\n",
        "\n",
        "# Train the XGBoost model\n",
        "evals = [(dtrain, 'train'), (dvalid, 'valid')]\n",
        "xgb_model = xgb.train(\n",
        "    params,\n",
        "    dtrain,\n",
        "    num_boost_round=1000,\n",
        "    evals=evals,\n",
        "    early_stopping_rounds=50,\n",
        "    verbose_eval=15\n",
        ")\n",
        "\n",
        "# Make predictions\n",
        "y_pred_valid = xgb_model.predict(dvalid)\n",
        "y_pred_test = xgb_model.predict(dtest)\n",
        "\n",
        "print(\"First few predictions on the test set:\", y_pred_test[:5])"
      ]
    },
    {
      "cell_type": "markdown",
      "metadata": {},
      "source": [
        "XGBRegressor model"
      ]
    },
    {
      "cell_type": "code",
      "execution_count": 39,
      "metadata": {
        "gather": {
          "logged": 1745071244723
        }
      },
      "outputs": [
        {
          "name": "stderr",
          "output_type": "stream",
          "text": [
            "2025/04/19 14:00:27 INFO mlflow.utils.autologging_utils: Created MLflow autologging run with ID 'e7ee4c32-7b00-4279-9231-9b575db5373c', which will track hyperparameters, performance metrics, model artifacts, and lineage information for the current xgboost workflow\n",
            "2025/04/19 14:00:41 WARNING mlflow.utils.environment: Encountered an unexpected error while inferring pip requirements (model URI: /tmp/tmpfjf7qwjz/model, flavor: xgboost). Fall back to return ['xgboost==2.1.1']. Set logging level to DEBUG to see the full traceback. \n",
            "2025/04/19 14:00:44 WARNING mlflow.sklearn: Failed to log evaluation dataset information to MLflow Tracking. Reason: BAD_REQUEST: Response: {'Error': {'Code': 'UserError', 'Severity': None, 'Message': 'Cannot log the same dataset with different context', 'MessageFormat': None, 'MessageParameters': None, 'ReferenceCode': None, 'DetailsUri': None, 'Target': None, 'Details': [], 'InnerError': None, 'DebugInfo': None, 'AdditionalInfo': None}, 'Correlation': {'operation': '519a3408a97891f99f25d9b1b7c60689', 'request': 'b49ac07ee939285a'}, 'Environment': 'eastus', 'Location': 'eastus', 'Time': '2025-04-19T14:00:44.4324049+00:00', 'ComponentName': 'mlflow', 'statusCode': 400, 'error_code': 'BAD_REQUEST'}\n"
          ]
        },
        {
          "name": "stdout",
          "output_type": "stream",
          "text": [
            "[0]\tvalidation_0-rmse:38.94987\tvalidation_1-rmse:38.89853\n",
            "[15]\tvalidation_0-rmse:38.93520\tvalidation_1-rmse:38.88501\n",
            "[30]\tvalidation_0-rmse:38.92477\tvalidation_1-rmse:38.87562\n",
            "[45]\tvalidation_0-rmse:38.91752\tvalidation_1-rmse:38.86933\n",
            "[60]\tvalidation_0-rmse:38.91173\tvalidation_1-rmse:38.86457\n",
            "[75]\tvalidation_0-rmse:38.90716\tvalidation_1-rmse:38.86086\n",
            "[90]\tvalidation_0-rmse:38.90300\tvalidation_1-rmse:38.85761\n",
            "[99]\tvalidation_0-rmse:38.90086\tvalidation_1-rmse:38.85607\n",
            "🏃 View run dreamy_thread_vgwsqg65 at: https://eastus.api.azureml.ms/mlflow/v2.0/subscriptions/a4e67b88-5120-438c-876d-dd83e216f0f7/resourceGroups/rg-3_dayML-ws/providers/Microsoft.MachineLearningServices/workspaces/ws-azureml-mlw/#/experiments/ba909f61-b6ac-461d-95d9-8a4ccb0f387f/runs/e7ee4c32-7b00-4279-9231-9b575db5373c\n",
            "🧪 View experiment at: https://eastus.api.azureml.ms/mlflow/v2.0/subscriptions/a4e67b88-5120-438c-876d-dd83e216f0f7/resourceGroups/rg-3_dayML-ws/providers/Microsoft.MachineLearningServices/workspaces/ws-azureml-mlw/#/experiments/ba909f61-b6ac-461d-95d9-8a4ccb0f387f\n",
            "First few predictions on the test set: [81.55319  79.818016 81.38143  82.94316  82.87939 ]\n"
          ]
        }
      ],
      "source": [
        "# Initialize the XGBRegressor model\n",
        "xgb_regressor = XGBRegressor(\n",
        "    objective='reg:squarederror',\n",
        "    eval_metric='rmse',\n",
        "    learning_rate=0.02,\n",
        "    max_depth=6,\n",
        "    subsample=0.8,\n",
        "    colsample_bytree=0.8,\n",
        "    early_stopping_rounds=50,\n",
        "    random_state=42\n",
        ")\n",
        "\n",
        "# Train the model on the training dataset\n",
        "xgb_regressor.fit(\n",
        "    X_train_final,\n",
        "    y_train,\n",
        "    eval_set=[(X_train_final, y_train), (X_valid_final, y_valid)],\n",
        "    verbose=15\n",
        ")\n",
        "\n",
        "# Make predictions on the validation set\n",
        "y_pred_valid_xgb = xgb_regressor.predict(X_valid_final)\n",
        "\n",
        "# Make predictions on the test set\n",
        "y_pred_test_xgb = xgb_regressor.predict(X_test_final_2)\n",
        "\n",
        "# Display the first few predictions\n",
        "print(\"First few predictions on the test set:\", y_pred_test_xgb[:5])"
      ]
    },
    {
      "cell_type": "markdown",
      "metadata": {},
      "source": [
        "Random Forest Regressor model"
      ]
    },
    {
      "cell_type": "code",
      "execution_count": 40,
      "metadata": {
        "gather": {
          "logged": 1745071258266
        }
      },
      "outputs": [
        {
          "name": "stderr",
          "output_type": "stream",
          "text": [
            "2025/04/19 14:00:44 INFO mlflow.utils.autologging_utils: Created MLflow autologging run with ID '10ddc9cb-8815-4ba9-827d-b42518dbba74', which will track hyperparameters, performance metrics, model artifacts, and lineage information for the current sklearn workflow\n",
            "2025/04/19 14:00:44 WARNING mlflow.sklearn: Failed to log training dataset information to MLflow Tracking. Reason: 'Series' object has no attribute 'flatten'\n",
            "2025/04/19 14:00:57 WARNING mlflow.sklearn: Failed to log evaluation dataset information to MLflow Tracking. Reason: INVALID_PARAMETER_VALUE: Response: {'Error': {'Code': 'ValidationError', 'Severity': None, 'Message': 'A given key of Inputs can not modify its value after it is set', 'MessageFormat': None, 'MessageParameters': None, 'ReferenceCode': None, 'DetailsUri': None, 'Target': None, 'Details': [], 'InnerError': None, 'DebugInfo': None, 'AdditionalInfo': None}, 'Correlation': {'operation': '0fe9334e0ed06d458ed5075b7d2e26e7', 'request': 'abea03263eb65c53'}, 'Environment': 'eastus', 'Location': 'eastus', 'Time': '2025-04-19T14:00:57.823089+00:00', 'ComponentName': 'mlflow', 'statusCode': 400, 'error_code': 'INVALID_PARAMETER_VALUE'}\n"
          ]
        },
        {
          "name": "stdout",
          "output_type": "stream",
          "text": [
            "🏃 View run lemon_stamp_12ntqtrg at: https://eastus.api.azureml.ms/mlflow/v2.0/subscriptions/a4e67b88-5120-438c-876d-dd83e216f0f7/resourceGroups/rg-3_dayML-ws/providers/Microsoft.MachineLearningServices/workspaces/ws-azureml-mlw/#/experiments/ba909f61-b6ac-461d-95d9-8a4ccb0f387f/runs/10ddc9cb-8815-4ba9-827d-b42518dbba74\n",
            "🧪 View experiment at: https://eastus.api.azureml.ms/mlflow/v2.0/subscriptions/a4e67b88-5120-438c-876d-dd83e216f0f7/resourceGroups/rg-3_dayML-ws/providers/Microsoft.MachineLearningServices/workspaces/ws-azureml-mlw/#/experiments/ba909f61-b6ac-461d-95d9-8a4ccb0f387f\n",
            "Random Forest Validation RMSE: 38.848\n"
          ]
        }
      ],
      "source": [
        "from sklearn.ensemble import RandomForestRegressor\n",
        "from sklearn.metrics import mean_squared_error\n",
        "import numpy as np\n",
        "\n",
        "\n",
        "rf_model = RandomForestRegressor(\n",
        "    n_estimators=30,\n",
        "    max_depth=10,\n",
        "    min_samples_split=20,\n",
        "    min_samples_leaf=10,\n",
        "    max_features='log2',\n",
        "    bootstrap=True,\n",
        "    random_state=42,\n",
        "    n_jobs=-1\n",
        ")\n",
        "\n",
        "rf_model.fit(X_train_final, y_train)\n",
        "\n",
        "#predictions\n",
        "y_pred_valid_rf = rf_model.predict(X_valid_final)\n",
        "y_pred_test_rf  = rf_model.predict(X_test_final_2)\n",
        "\n",
        "# evaluate\n",
        "rf_rmse_valid = np.sqrt(mean_squared_error(y_valid, y_pred_valid_rf))\n",
        "print(f\"Random Forest Validation RMSE: {rf_rmse_valid:.3f}\")\n"
      ]
    },
    {
      "cell_type": "code",
      "execution_count": 41,
      "metadata": {
        "gather": {
          "logged": 1745071289913
        }
      },
      "outputs": [
        {
          "name": "stderr",
          "output_type": "stream",
          "text": [
            "2025/04/19 14:00:58 INFO mlflow.utils.autologging_utils: Created MLflow autologging run with ID '0b45fd8f-e736-402e-ac30-92740d64b1a7', which will track hyperparameters, performance metrics, model artifacts, and lineage information for the current sklearn workflow\n",
            "2025/04/19 14:00:58 WARNING mlflow.sklearn: Failed to log training dataset information to MLflow Tracking. Reason: 'Series' object has no attribute 'flatten'\n",
            "2025/04/19 14:01:29 WARNING mlflow.sklearn: Failed to log evaluation dataset information to MLflow Tracking. Reason: INVALID_PARAMETER_VALUE: Response: {'Error': {'Code': 'ValidationError', 'Severity': None, 'Message': 'A given key of Inputs can not modify its value after it is set', 'MessageFormat': None, 'MessageParameters': None, 'ReferenceCode': None, 'DetailsUri': None, 'Target': None, 'Details': [], 'InnerError': None, 'DebugInfo': None, 'AdditionalInfo': None}, 'Correlation': {'operation': 'e3b3620e45be700688043a9626ef5915', 'request': 'f77d8fd1bfb9667e'}, 'Environment': 'eastus', 'Location': 'eastus', 'Time': '2025-04-19T14:01:29.2201562+00:00', 'ComponentName': 'mlflow', 'statusCode': 400, 'error_code': 'INVALID_PARAMETER_VALUE'}\n"
          ]
        },
        {
          "name": "stdout",
          "output_type": "stream",
          "text": [
            "🏃 View run brave_evening_6nkspgmx at: https://eastus.api.azureml.ms/mlflow/v2.0/subscriptions/a4e67b88-5120-438c-876d-dd83e216f0f7/resourceGroups/rg-3_dayML-ws/providers/Microsoft.MachineLearningServices/workspaces/ws-azureml-mlw/#/experiments/ba909f61-b6ac-461d-95d9-8a4ccb0f387f/runs/0b45fd8f-e736-402e-ac30-92740d64b1a7\n",
            "🧪 View experiment at: https://eastus.api.azureml.ms/mlflow/v2.0/subscriptions/a4e67b88-5120-438c-876d-dd83e216f0f7/resourceGroups/rg-3_dayML-ws/providers/Microsoft.MachineLearningServices/workspaces/ws-azureml-mlw/#/experiments/ba909f61-b6ac-461d-95d9-8a4ccb0f387f\n",
            "Random Forest Validation RMSE: 38.843\n"
          ]
        }
      ],
      "source": [
        "# increase n estimators and depth\n",
        "rf_model2 = RandomForestRegressor(\n",
        "    n_estimators=100,\n",
        "    max_depth=14,\n",
        "    min_samples_split=20,\n",
        "    min_samples_leaf=10,\n",
        "    max_features='log2',\n",
        "    bootstrap=True,\n",
        "    random_state=42,\n",
        "    n_jobs=-1\n",
        ")\n",
        "\n",
        "rf_model2.fit(X_train_final, y_train)\n",
        "\n",
        "#predictions\n",
        "y_pred_valid_rf = rf_model2.predict(X_valid_final)\n",
        "y_pred_test_rf  = rf_model2.predict(X_test_final_2)\n",
        "\n",
        "# evaluate\n",
        "rf_rmse_valid = np.sqrt(mean_squared_error(y_valid, y_pred_valid_rf))\n",
        "print(f\"Random Forest Validation RMSE: {rf_rmse_valid:.3f}\")"
      ]
    },
    {
      "cell_type": "markdown",
      "metadata": {},
      "source": [
        "Marginal improvement in RMSE with more estimators and higher depth. There is no meaningful gain."
      ]
    },
    {
      "cell_type": "code",
      "execution_count": 42,
      "metadata": {
        "gather": {
          "logged": 1745071549450
        }
      },
      "outputs": [
        {
          "name": "stderr",
          "output_type": "stream",
          "text": [
            "2025-04-19 14:01:30.207655: I tensorflow/core/util/port.cc:153] oneDNN custom operations are on. You may see slightly different numerical results due to floating-point round-off errors from different computation orders. To turn them off, set the environment variable `TF_ENABLE_ONEDNN_OPTS=0`.\n",
            "2025-04-19 14:01:30.220028: E external/local_xla/xla/stream_executor/cuda/cuda_fft.cc:467] Unable to register cuFFT factory: Attempting to register factory for plugin cuFFT when one has already been registered\n",
            "WARNING: All log messages before absl::InitializeLog() is called are written to STDERR\n",
            "E0000 00:00:1745071290.232754   89547 cuda_dnn.cc:8579] Unable to register cuDNN factory: Attempting to register factory for plugin cuDNN when one has already been registered\n",
            "E0000 00:00:1745071290.236565   89547 cuda_blas.cc:1407] Unable to register cuBLAS factory: Attempting to register factory for plugin cuBLAS when one has already been registered\n",
            "W0000 00:00:1745071290.246678   89547 computation_placer.cc:177] computation placer already registered. Please check linkage and avoid linking the same target more than once.\n",
            "W0000 00:00:1745071290.246689   89547 computation_placer.cc:177] computation placer already registered. Please check linkage and avoid linking the same target more than once.\n",
            "W0000 00:00:1745071290.246690   89547 computation_placer.cc:177] computation placer already registered. Please check linkage and avoid linking the same target more than once.\n",
            "W0000 00:00:1745071290.246691   89547 computation_placer.cc:177] computation placer already registered. Please check linkage and avoid linking the same target more than once.\n",
            "2025-04-19 14:01:30.249692: I tensorflow/core/platform/cpu_feature_guard.cc:210] This TensorFlow binary is optimized to use available CPU instructions in performance-critical operations.\n",
            "To enable the following instructions: AVX2 AVX512F AVX512_VNNI FMA, in other operations, rebuild TensorFlow with the appropriate compiler flags.\n",
            "2025/04/19 14:01:31 WARNING mlflow.utils.autologging_utils: MLflow keras autologging is known to be compatible with 3.0.2 <= keras <= 3.8.0, but the installed version is 3.9.2. If you encounter errors during autologging, try upgrading / downgrading keras to a compatible version, or try upgrading MLflow.\n",
            "2025/04/19 14:01:31 INFO mlflow.tracking.fluent: Autologging successfully enabled for keras.\n",
            "2025/04/19 14:01:31 WARNING mlflow.utils.autologging_utils: MLflow tensorflow autologging is known to be compatible with 2.7.4 <= tensorflow <= 2.18.0, but the installed version is 2.19.0. If you encounter errors during autologging, try upgrading / downgrading tensorflow to a compatible version, or try upgrading MLflow.\n",
            "2025/04/19 14:01:31 INFO mlflow.tracking.fluent: Autologging successfully enabled for tensorflow.\n",
            "2025/04/19 14:01:32 WARNING mlflow.tensorflow: Failed to log training dataset information to MLflow Tracking. Reason: 'Series' object has no attribute 'flatten'\n"
          ]
        },
        {
          "name": "stdout",
          "output_type": "stream",
          "text": [
            "TensorFlow version: 2.19.0\n",
            "GPU available: []\n"
          ]
        },
        {
          "data": {
            "text/html": [
              "<pre style=\"white-space:pre;overflow-x:auto;line-height:normal;font-family:Menlo,'DejaVu Sans Mono',consolas,'Courier New',monospace\"></pre>\n"
            ],
            "text/plain": []
          },
          "metadata": {},
          "output_type": "display_data"
        },
        {
          "name": "stdout",
          "output_type": "stream",
          "text": [
            "Epoch 1/20\n",
            "2731/2731 - 16s - 6ms/step - loss: 2256.9326 - rmse: 47.5072 - val_loss: 1513.6719 - val_rmse: 38.9059\n",
            "Epoch 2/20\n",
            "2731/2731 - 14s - 5ms/step - loss: 1534.1191 - rmse: 39.1678 - val_loss: 1512.2179 - val_rmse: 38.8872\n",
            "Epoch 3/20\n",
            "2731/2731 - 14s - 5ms/step - loss: 1530.1445 - rmse: 39.1171 - val_loss: 1511.7683 - val_rmse: 38.8815\n",
            "Epoch 4/20\n",
            "2731/2731 - 14s - 5ms/step - loss: 1528.5215 - rmse: 39.0963 - val_loss: 1511.4230 - val_rmse: 38.8770\n",
            "Epoch 5/20\n",
            "2731/2731 - 14s - 5ms/step - loss: 1528.2085 - rmse: 39.0923 - val_loss: 1511.2738 - val_rmse: 38.8751\n",
            "Epoch 6/20\n",
            "2731/2731 - 14s - 5ms/step - loss: 1527.9214 - rmse: 39.0886 - val_loss: 1511.2567 - val_rmse: 38.8749\n",
            "Epoch 7/20\n",
            "2731/2731 - 14s - 5ms/step - loss: 1527.5795 - rmse: 39.0843 - val_loss: 1511.3381 - val_rmse: 38.8759\n",
            "Epoch 8/20\n",
            "2731/2731 - 14s - 5ms/step - loss: 1527.3098 - rmse: 39.0808 - val_loss: 1511.2518 - val_rmse: 38.8748\n",
            "Epoch 9/20\n",
            "2731/2731 - 14s - 5ms/step - loss: 1527.1309 - rmse: 39.0785 - val_loss: 1510.9962 - val_rmse: 38.8715\n",
            "Epoch 10/20\n",
            "2731/2731 - 14s - 5ms/step - loss: 1526.8767 - rmse: 39.0753 - val_loss: 1510.9863 - val_rmse: 38.8714\n",
            "Epoch 11/20\n",
            "2731/2731 - 14s - 5ms/step - loss: 1526.7677 - rmse: 39.0739 - val_loss: 1511.8159 - val_rmse: 38.8821\n",
            "Epoch 12/20\n",
            "2731/2731 - 14s - 5ms/step - loss: 1526.6653 - rmse: 39.0726 - val_loss: 1510.9795 - val_rmse: 38.8713\n",
            "Epoch 13/20\n",
            "2731/2731 - 14s - 5ms/step - loss: 1526.2390 - rmse: 39.0671 - val_loss: 1511.0271 - val_rmse: 38.8719\n",
            "Epoch 14/20\n",
            "2731/2731 - 17s - 6ms/step - loss: 1526.4641 - rmse: 39.0700 - val_loss: 1510.6765 - val_rmse: 38.8674\n",
            "Epoch 15/20\n",
            "2731/2731 - 14s - 5ms/step - loss: 1526.3491 - rmse: 39.0685 - val_loss: 1511.0989 - val_rmse: 38.8729\n",
            "Epoch 16/20\n",
            "2731/2731 - 14s - 5ms/step - loss: 1526.3817 - rmse: 39.0689 - val_loss: 1511.0615 - val_rmse: 38.8724\n",
            "Epoch 17/20\n",
            "2731/2731 - 14s - 5ms/step - loss: 1525.9432 - rmse: 39.0633 - val_loss: 1511.3315 - val_rmse: 38.8758\n",
            "\u001b[1m1/1\u001b[0m \u001b[32m━━━━━━━━━━━━━━━━━━━━\u001b[0m\u001b[37m\u001b[0m \u001b[1m0s\u001b[0m 69ms/step\b\b\b\b\b\b\b\b\b\b\b\b\b\b\b\b\b\b\b\b\b\b\b\b\b\b\b\b\b\b\b\b\b\b\b\b\b\n",
            "🏃 View run magenta_nest_kwmd3dtw at: https://eastus.api.azureml.ms/mlflow/v2.0/subscriptions/a4e67b88-5120-438c-876d-dd83e216f0f7/resourceGroups/rg-3_dayML-ws/providers/Microsoft.MachineLearningServices/workspaces/ws-azureml-mlw/#/experiments/ba909f61-b6ac-461d-95d9-8a4ccb0f387f/runs/0f358f23-dbbf-498a-92bc-10e8389f077a\n",
            "🧪 View experiment at: https://eastus.api.azureml.ms/mlflow/v2.0/subscriptions/a4e67b88-5120-438c-876d-dd83e216f0f7/resourceGroups/rg-3_dayML-ws/providers/Microsoft.MachineLearningServices/workspaces/ws-azureml-mlw/#/experiments/ba909f61-b6ac-461d-95d9-8a4ccb0f387f\n",
            "\u001b[1m147/147\u001b[0m \u001b[32m━━━━━━━━━━━━━━━━━━━━\u001b[0m\u001b[37m\u001b[0m \u001b[1m0s\u001b[0m 2ms/step\b\b\b\b\b\b\b\b\b\b\b\b\b\b\b\b\b\b\b\b\b\b\b\b\b\b\b\b\b\b\b\b\b\b\b\b\b\b\b\b\b\n",
            "Neural‑Net Validation RMSE: 38.867\n",
            "\u001b[1m147/147\u001b[0m \u001b[32m━━━━━━━━━━━━━━━━━━━━\u001b[0m\u001b[37m\u001b[0m \u001b[1m0s\u001b[0m 2ms/step\b\b\b\b\b\b\b\b\b\b\b\b\b\b\b\b\b\b\b\b\b\b\b\b\b\b\b\b\b\b\b\b\b\b\b\b\b\b\b\b\b\n"
          ]
        }
      ],
      "source": [
        "import tensorflow as tf\n",
        "from tensorflow import keras\n",
        "\n",
        "# Ensure a GPU is available (Runtime ▸ Change runtime type ▸ GPU)\n",
        "print(\"TensorFlow version:\", tf.__version__)\n",
        "print(\"GPU available:\", tf.config.list_physical_devices('GPU'))\n",
        "\n",
        "INPUT_DIM = X_train_final.shape[1]\n",
        "\n",
        "# ── Build the network ─────────────────────────────────────────\n",
        "def make_model(input_dim):\n",
        "    return keras.Sequential([\n",
        "        keras.layers.InputLayer(input_shape=(input_dim,)),\n",
        "        keras.layers.Dense(256, activation='relu'),\n",
        "        keras.layers.BatchNormalization(),\n",
        "        keras.layers.Dropout(0.2),\n",
        "\n",
        "        keras.layers.Dense(128, activation='relu'),\n",
        "        keras.layers.BatchNormalization(),\n",
        "        keras.layers.Dropout(0.2),\n",
        "\n",
        "        keras.layers.Dense(1)   # linear output for regression\n",
        "    ])\n",
        "\n",
        "model = make_model(INPUT_DIM)\n",
        "model.compile(\n",
        "    optimizer=keras.optimizers.Adam(learning_rate=1e-3),\n",
        "    loss='mse',\n",
        "    metrics=[keras.metrics.RootMeanSquaredError(name='rmse')]\n",
        ")\n",
        "\n",
        "# ── Train ─────────────────────────────────────────────────────\n",
        "EPOCHS      = 20\n",
        "BATCH_SIZE  = 1024   # fits easily in GPU memory\n",
        "early_stop  = keras.callbacks.EarlyStopping(\n",
        "    patience=3, restore_best_weights=True, monitor='val_rmse'\n",
        ")\n",
        "\n",
        "history = model.fit(\n",
        "    X_train_final, y_train,\n",
        "    validation_data=(X_valid_final, y_valid),\n",
        "    epochs=EPOCHS,\n",
        "    batch_size=BATCH_SIZE,\n",
        "    callbacks=[early_stop],\n",
        "    verbose=2\n",
        ")\n",
        "\n",
        "# ── Evaluate ──────────────────────────────────────────────────\n",
        "y_pred_nn = model.predict(X_valid_final, batch_size=4096).squeeze()\n",
        "nn_rmse   = np.sqrt(mean_squared_error(y_valid, y_pred_nn))\n",
        "print(f\"Neural‑Net Validation RMSE: {nn_rmse:.3f}\")\n",
        "\n",
        "# ── Predict test if desired ──────────────────────────────────\n",
        "y_pred_test_nn = model.predict(X_test_final_2, batch_size=4096).squeeze()\n"
      ]
    },
    {
      "cell_type": "code",
      "execution_count": 43,
      "metadata": {
        "gather": {
          "logged": 1745071575226
        }
      },
      "outputs": [
        {
          "name": "stderr",
          "output_type": "stream",
          "text": [
            "2025/04/19 14:05:49 INFO mlflow.utils.autologging_utils: Created MLflow autologging run with ID 'dedd6766-356d-472a-87ad-7bbc8e87d64c', which will track hyperparameters, performance metrics, model artifacts, and lineage information for the current xgboost workflow\n",
            "2025/04/19 14:06:08 WARNING mlflow.utils.environment: Encountered an unexpected error while inferring pip requirements (model URI: /tmp/tmpvlv9hfv_/model, flavor: xgboost). Fall back to return ['xgboost==2.1.1']. Set logging level to DEBUG to see the full traceback. \n",
            "2025/04/19 14:06:12 WARNING mlflow.sklearn: Failed to log evaluation dataset information to MLflow Tracking. Reason: BAD_REQUEST: Response: {'Error': {'Code': 'UserError', 'Severity': None, 'Message': 'Cannot log the same dataset with different context', 'MessageFormat': None, 'MessageParameters': None, 'ReferenceCode': None, 'DetailsUri': None, 'Target': None, 'Details': [], 'InnerError': None, 'DebugInfo': None, 'AdditionalInfo': None}, 'Correlation': {'operation': '636431dd480cf2c66f66b1921bb99092', 'request': '0061154ddd85f3f5'}, 'Environment': 'eastus', 'Location': 'eastus', 'Time': '2025-04-19T14:06:12.738906+00:00', 'ComponentName': 'mlflow', 'statusCode': 400, 'error_code': 'BAD_REQUEST'}\n"
          ]
        },
        {
          "name": "stdout",
          "output_type": "stream",
          "text": [
            "[0]\tvalidation_0-rmse:38.94985\tvalidation_1-rmse:38.89856\n",
            "[15]\tvalidation_0-rmse:38.93311\tvalidation_1-rmse:38.88332\n",
            "[30]\tvalidation_0-rmse:38.92209\tvalidation_1-rmse:38.87375\n",
            "[45]\tvalidation_0-rmse:38.91371\tvalidation_1-rmse:38.86668\n",
            "[60]\tvalidation_0-rmse:38.90730\tvalidation_1-rmse:38.86153\n",
            "[75]\tvalidation_0-rmse:38.90191\tvalidation_1-rmse:38.85747\n",
            "[90]\tvalidation_0-rmse:38.89737\tvalidation_1-rmse:38.85426\n",
            "[99]\tvalidation_0-rmse:38.89497\tvalidation_1-rmse:38.85272\n",
            "🏃 View run elated_date_1tdhdvnb at: https://eastus.api.azureml.ms/mlflow/v2.0/subscriptions/a4e67b88-5120-438c-876d-dd83e216f0f7/resourceGroups/rg-3_dayML-ws/providers/Microsoft.MachineLearningServices/workspaces/ws-azureml-mlw/#/experiments/ba909f61-b6ac-461d-95d9-8a4ccb0f387f/runs/dedd6766-356d-472a-87ad-7bbc8e87d64c\n",
            "🧪 View experiment at: https://eastus.api.azureml.ms/mlflow/v2.0/subscriptions/a4e67b88-5120-438c-876d-dd83e216f0f7/resourceGroups/rg-3_dayML-ws/providers/Microsoft.MachineLearningServices/workspaces/ws-azureml-mlw/#/experiments/ba909f61-b6ac-461d-95d9-8a4ccb0f387f\n",
            "First few predictions on the test set: [81.45183 79.54919 81.49575 83.11311 83.20895]\n"
          ]
        }
      ],
      "source": [
        "# Initialize the XGBRegressor model\n",
        "le_xgb_regressor = XGBRegressor(\n",
        "    objective='reg:squarederror',\n",
        "    eval_metric='rmse',\n",
        "    learning_rate=0.02,\n",
        "    max_depth=6,\n",
        "    subsample=0.8,\n",
        "    colsample_bytree=0.8,\n",
        "    early_stopping_rounds=50, \n",
        "    random_state=42\n",
        ")\n",
        "\n",
        "# Train the model on the training dataset\n",
        "le_xgb_regressor.fit(\n",
        "    X_train_le, \n",
        "    y_train_le, \n",
        "    eval_set=[(X_train_le, y_train_le), (X_valid_le, y_valid_le)], \n",
        "    verbose=15\n",
        ")\n",
        "\n",
        "# Make predictions on the validation set\n",
        "le_y_pred_valid_xgb = le_xgb_regressor.predict(X_valid_le)\n",
        "\n",
        "# Make predictions on the test set\n",
        "le_y_pred_test_xgb = le_xgb_regressor.predict(X_test_le)\n",
        "\n",
        "# Display the first few predictions\n",
        "print(\"First few predictions on the test set:\", le_y_pred_test_xgb[:5])"
      ]
    },
    {
      "cell_type": "markdown",
      "metadata": {},
      "source": [
        "## 4. Evaluation\n",
        "\n",
        "In this section, we will evaluate the performance of our models using various metrics.\n"
      ]
    },
    {
      "cell_type": "code",
      "execution_count": 44,
      "metadata": {
        "gather": {
          "logged": 1745071878863
        }
      },
      "outputs": [
        {
          "name": "stdout",
          "output_type": "stream",
          "text": [
            "Baseline - XGBoost Validation RMSE: 38.83565164966077\n",
            "Baseline - XGBoost Regressor Validation RMSE: 38.856067148720605\n",
            "Baseline - Linear Regression Validation RMSE: 38.890545181844836\n",
            "Baseline - Random Forest Validation RMSE: 38.8431194593009\n",
            "Baseline - Neural Network Validation RMSE: 38.86741939840839\n",
            "Baseline - LE XGBoost Validation RMSE: 38.83358212137811\n",
            "Baseline - LE XGBoost Regressor Validation RMSE: 38.85272280530174\n",
            "Baseline - LE Linear Regression Validation RMSE: 38.88934990411435\n"
          ]
        }
      ],
      "source": [
        "# Evaluate the xgb model using RMSE\n",
        "xgb_rmse_valid = np.sqrt(mean_squared_error(y_valid, y_pred_valid))\n",
        "print(f\"Baseline - XGBoost Validation RMSE: {xgb_rmse_valid}\")\n",
        "\n",
        "# Calculate RMSE for the validation set\n",
        "xgbreg_rmse_valid = np.sqrt(mean_squared_error(y_valid, y_pred_valid_xgb))\n",
        "print(f\"Baseline - XGBoost Regressor Validation RMSE: {xgbreg_rmse_valid}\")\n",
        "\n",
        "# Evaluate the linear regression model using RMSE\n",
        "rmse_lr = np.sqrt(mean_squared_error(y_valid, y_pred_lr))\n",
        "print(f\"Baseline - Linear Regression Validation RMSE: {rmse_lr}\")\n",
        "\n",
        "# Evaluate the random forest model using RMSE\n",
        "rf_rmse_valid = np.sqrt(mean_squared_error(y_valid, y_pred_valid_rf))\n",
        "print(f\"Baseline - Random Forest Validation RMSE: {rf_rmse_valid}\")\n",
        "\n",
        "# Evaluate the neural network model using RMSE\n",
        "nn_rmse_valid = np.sqrt(mean_squared_error(y_valid, y_pred_nn))\n",
        "print(f\"Baseline - Neural Network Validation RMSE: {nn_rmse_valid}\")\n",
        "\n",
        "# Evaluate the LE xgb model using RMSE\n",
        "le_xgb_rmse_valid = np.sqrt(mean_squared_error(y_valid_le, le_y_pred_valid))\n",
        "print(f\"Baseline - LE XGBoost Validation RMSE: {le_xgb_rmse_valid}\")\n",
        "\n",
        "# Calculate RMSE for the LE xgb regressor validation set\n",
        "le_xgbreg_rmse_valid = np.sqrt(mean_squared_error(y_valid_le, le_y_pred_valid_xgb))\n",
        "print(f\"Baseline - LE XGBoost Regressor Validation RMSE: {le_xgbreg_rmse_valid}\")\n",
        "\n",
        "# Evaluate the LE linear regression model using RMSE\n",
        "le_rmse_lr = np.sqrt(mean_squared_error(y_valid_le, le_y_pred_lr))\n",
        "print(f\"Baseline - LE Linear Regression Validation RMSE: {le_rmse_lr}\")"
      ]
    },
    {
      "cell_type": "code",
      "execution_count": 86,
      "metadata": {
        "gather": {
          "logged": 1745080739048
        }
      },
      "outputs": [
        {
          "data": {
            "image/png": "[encoded data removed]",
            "text/plain": [
              "<Figure size 1200x600 with 1 Axes>"
            ]
          },
          "metadata": {},
          "output_type": "display_data"
        }
      ],
      "source": [
        "# Create a dictionary of model names and their RMSE scores\n",
        "baseline_rmse_scores = {\n",
        "    \"LE XGBoost Booster\": le_xgb_rmse_valid,\n",
        "    \"LE XGBoost Regressor\": le_xgbreg_rmse_valid,\n",
        "    \"LE Linear Regression\": le_rmse_lr,\n",
        "    \"XGBoost Booster\": xgb_rmse_valid,\n",
        "    \"XGBoost Regressor\": xgbreg_rmse_valid,\n",
        "    \"Linear Regression\": rmse_lr,\n",
        "    \"Random Forest Regressor\": rf_rmse_valid,\n",
        "    \"Neural Network\": nn_rmse_valid\n",
        "}\n",
        "\n",
        "# Sort the models by RMSE scores\n",
        "sorted_baseline_rmse = dict(sorted(baseline_rmse_scores.items(), key=lambda item: item[1]))\n",
        "\n",
        "# Convert the sorted dictionary to a DataFrame for Seaborn\n",
        "baseline_rmse_df = pd.DataFrame(list(sorted_baseline_rmse.items()), columns=['Model', 'RMSE'])\n",
        "\n",
        "# Plot the RMSE scores with a line chart\n",
        "plt.figure(figsize=(12, 6))\n",
        "sns.lineplot(data=baseline_rmse_df, x='RMSE', y='Model', marker='o', palette='viridis')\n",
        "\n",
        "# Add annotations for each RMSE value\n",
        "for index, row in baseline_rmse_df.iterrows():\n",
        "    plt.text(row['RMSE'] + 0.01, row['Model'], f\"{row['RMSE']:.3f}\", va='center', ha='left', fontsize=10, color='black')\n",
        "\n",
        "plt.xlabel('RMSE Score')\n",
        "plt.ylabel('Model')\n",
        "plt.title('Baseline Model RMSE Scores')\n",
        "\n",
        "# Zoom in on the RMSE range\n",
        "plt.xlim(baseline_rmse_df['RMSE'].min() - 0.1, baseline_rmse_df['RMSE'].max() + 0.1)\n",
        "plt.grid(axis='x', linestyle='--', alpha=0.7)\n",
        "plt.tight_layout()\n",
        "plt.show()"
      ]
    },
    {
      "cell_type": "code",
      "execution_count": 45,
      "metadata": {
        "gather": {
          "logged": 1745071944139
        }
      },
      "outputs": [
        {
          "name": "stderr",
          "output_type": "stream",
          "text": [
            "WARNING:urllib3.connectionpool:Retrying (Retry(total=6, connect=7, read=6, redirect=7, status=7)) after connection broken by 'RemoteDisconnected('Remote end closed connection without response')': /mlflow/v2.0/subscriptions/a4e67b88-5120-438c-876d-dd83e216f0f7/resourceGroups/rg-3_dayML-ws/providers/Microsoft.MachineLearningServices/workspaces/ws-azureml-mlw/api/2.0/mlflow/runs/create\n",
            "\u001b[31m2025/04/19 14:11:23 WARNING mlflow.models.model: Model logged without a signature and input example. Please set `input_example` parameter when logging the model to auto infer the model signature.\u001b[0m\n",
            "Successfully registered model 'le_xgb_booster_model'.\n",
            "2025/04/19 14:11:26 INFO mlflow.store.model_registry.abstract_store: Waiting up to 300 seconds for model version to finish creation. Model name: le_xgb_booster_model, version 1\n",
            "Created version '1' of model 'le_xgb_booster_model'.\n",
            "\u001b[31m2025/04/19 14:11:30 WARNING mlflow.models.model: Model logged without a signature and input example. Please set `input_example` parameter when logging the model to auto infer the model signature.\u001b[0m\n",
            "Successfully registered model 'le_xgb_regressor_model'.\n",
            "2025/04/19 14:11:33 INFO mlflow.store.model_registry.abstract_store: Waiting up to 300 seconds for model version to finish creation. Model name: le_xgb_regressor_model, version 1\n",
            "Created version '1' of model 'le_xgb_regressor_model'.\n",
            "\u001b[31m2025/04/19 14:11:37 WARNING mlflow.models.model: Model logged without a signature and input example. Please set `input_example` parameter when logging the model to auto infer the model signature.\u001b[0m\n",
            "Successfully registered model 'le_linear_regression_model'.\n",
            "2025/04/19 14:11:40 INFO mlflow.store.model_registry.abstract_store: Waiting up to 300 seconds for model version to finish creation. Model name: le_linear_regression_model, version 1\n",
            "Created version '1' of model 'le_linear_regression_model'.\n",
            "\u001b[31m2025/04/19 14:11:44 WARNING mlflow.models.model: Model logged without a signature and input example. Please set `input_example` parameter when logging the model to auto infer the model signature.\u001b[0m\n",
            "Registered model 'xgb_booster_model' already exists. Creating a new version of this model...\n",
            "2025/04/19 14:11:47 INFO mlflow.store.model_registry.abstract_store: Waiting up to 300 seconds for model version to finish creation. Model name: xgb_booster_model, version 3\n",
            "Created version '3' of model 'xgb_booster_model'.\n",
            "\u001b[31m2025/04/19 14:11:51 WARNING mlflow.models.model: Model logged without a signature and input example. Please set `input_example` parameter when logging the model to auto infer the model signature.\u001b[0m\n",
            "Registered model 'xgb_regressor_model' already exists. Creating a new version of this model...\n",
            "2025/04/19 14:11:53 INFO mlflow.store.model_registry.abstract_store: Waiting up to 300 seconds for model version to finish creation. Model name: xgb_regressor_model, version 3\n",
            "Created version '3' of model 'xgb_regressor_model'.\n",
            "\u001b[31m2025/04/19 14:11:57 WARNING mlflow.models.model: Model logged without a signature and input example. Please set `input_example` parameter when logging the model to auto infer the model signature.\u001b[0m\n",
            "Registered model 'linear_regression_model' already exists. Creating a new version of this model...\n",
            "2025/04/19 14:11:59 INFO mlflow.store.model_registry.abstract_store: Waiting up to 300 seconds for model version to finish creation. Model name: linear_regression_model, version 3\n",
            "Created version '3' of model 'linear_regression_model'.\n",
            "\u001b[31m2025/04/19 14:12:03 WARNING mlflow.models.model: Model logged without a signature and input example. Please set `input_example` parameter when logging the model to auto infer the model signature.\u001b[0m\n",
            "Successfully registered model 'random_forest_model'.\n",
            "2025/04/19 14:12:06 INFO mlflow.store.model_registry.abstract_store: Waiting up to 300 seconds for model version to finish creation. Model name: random_forest_model, version 1\n",
            "Created version '1' of model 'random_forest_model'.\n",
            "\u001b[31m2025/04/19 14:12:11 WARNING mlflow.models.model: Model logged without a signature and input example. Please set `input_example` parameter when logging the model to auto infer the model signature.\u001b[0m\n",
            "Successfully registered model 'random_forest_model_v2'.\n",
            "2025/04/19 14:12:14 INFO mlflow.store.model_registry.abstract_store: Waiting up to 300 seconds for model version to finish creation. Model name: random_forest_model_v2, version 1\n",
            "Created version '1' of model 'random_forest_model_v2'.\n",
            "2025/04/19 14:12:14 WARNING mlflow.tensorflow: You are saving a TensorFlow Core model or Keras model without a signature. Inference with mlflow.pyfunc.spark_udf() will not work unless the model's pyfunc representation accepts pandas DataFrames as inference inputs.\n",
            "\u001b[31m2025/04/19 14:12:21 WARNING mlflow.models.model: Model logged without a signature and input example. Please set `input_example` parameter when logging the model to auto infer the model signature.\u001b[0m\n",
            "Successfully registered model 'neural_network_model'.\n",
            "Created version '1' of model 'neural_network_model'.\n"
          ]
        }
      ],
      "source": [
        "import mlflow.sklearn\n",
        "import mlflow.xgboost\n",
        "import mlflow.tensorflow\n",
        "\n",
        "# Log the XGBoost Booster model\n",
        "mlflow.xgboost.log_model(le_xgb_model, artifact_path=\"le_xgb_booster_model\", registered_model_name=\"le_xgb_booster_model\")\n",
        "\n",
        "# Log the XGBoost Regressor model\n",
        "mlflow.sklearn.log_model(le_xgb_regressor, artifact_path=\"le_xgb_regressor_model\", registered_model_name=\"le_xgb_regressor_model\")\n",
        "\n",
        "# Log the Linear Regression model (Label Encoded)\n",
        "mlflow.sklearn.log_model(le_lr_model, artifact_path=\"le_linear_regression_model\", registered_model_name=\"le_linear_regression_model\")\n",
        "\n",
        "# Log the XGBoost Booster model (One-Hot Encoded)\n",
        "mlflow.xgboost.log_model(xgb_model, artifact_path=\"xgb_booster_model\", registered_model_name=\"xgb_booster_model\")\n",
        "\n",
        "# Log the XGBoost Regressor model (One-Hot Encoded)\n",
        "mlflow.sklearn.log_model(xgb_regressor, artifact_path=\"xgb_regressor_model\", registered_model_name=\"xgb_regressor_model\")\n",
        "\n",
        "# Log the Linear Regression model (One-Hot Encoded)\n",
        "mlflow.sklearn.log_model(lr_model, artifact_path=\"linear_regression_model\", registered_model_name=\"linear_regression_model\")\n",
        "\n",
        "# Log the Random Forest model\n",
        "mlflow.sklearn.log_model(rf_model, artifact_path=\"random_forest_model\", registered_model_name=\"random_forest_model\")\n",
        "\n",
        "# Log the Random Forest model with increased depth and estimators\n",
        "mlflow.sklearn.log_model(rf_model2, artifact_path=\"random_forest_model_v2\", registered_model_name=\"random_forest_model_v2\")\n",
        "\n",
        "# Log the Neural Network model\n",
        "mlflow.tensorflow.log_model(model, artifact_path=\"neural_network_model\", registered_model_name=\"neural_network_model\")\n",
        "\n",
        "print(\"All models logged successfully as MLflow models.\")\n"
      ]
    },
    {
      "cell_type": "code",
      "execution_count": 49,
      "metadata": {
        "gather": {
          "logged": 1745071994028
        }
      },
      "outputs": [
        {
          "name": "stdout",
          "output_type": "stream",
          "text": [
            "🏃 View run amiable_hat_j3vvc7m9 at: https://eastus.api.azureml.ms/mlflow/v2.0/subscriptions/a4e67b88-5120-438c-876d-dd83e216f0f7/resourceGroups/rg-3_dayML-ws/providers/Microsoft.MachineLearningServices/workspaces/ws-azureml-mlw/#/experiments/ba909f61-b6ac-461d-95d9-8a4ccb0f387f/runs/2f3d0f54-d123-4fe0-bb0c-0ad735d67327\n",
            "🧪 View experiment at: https://eastus.api.azureml.ms/mlflow/v2.0/subscriptions/a4e67b88-5120-438c-876d-dd83e216f0f7/resourceGroups/rg-3_dayML-ws/providers/Microsoft.MachineLearningServices/workspaces/ws-azureml-mlw/#/experiments/ba909f61-b6ac-461d-95d9-8a4ccb0f387f\n"
          ]
        }
      ],
      "source": [
        "mlflow.end_run()"
      ]
    },
    {
      "cell_type": "markdown",
      "metadata": {},
      "source": [
        "\n",
        "\n",
        "## 5. Model Optimization\n",
        "\n",
        "In this section, we will optimize the hyperparameters of our models to improve their performance.\n"
      ]
    },
    {
      "cell_type": "markdown",
      "metadata": {},
      "source": [
        "The next cell performs hyperparameter tuning for an ElasticNet regression model using `GridSearchCV`. It defines a parameter grid for `alpha` and `l1_ratio`, trains the model on the training dataset (`X_train_le` and `y_train_le`), and evaluates it on the validation dataset (`X_valid_le` and `y_valid_le`). The best parameters and validation RMSE are logged using MLflow, and the trained model is saved. Finally, predictions are made on the test dataset (`X_test_le`)."
      ]
    },
    {
      "cell_type": "code",
      "execution_count": 51,
      "metadata": {
        "gather": {
          "logged": 1745072578964
        }
      },
      "outputs": [
        {
          "name": "stdout",
          "output_type": "stream",
          "text": [
            "Fitting 3 folds for each of 25 candidates, totalling 75 fits\n",
            "🏃 View run affable_queen_fb3s3ck6 at: https://eastus.api.azureml.ms/mlflow/v2.0/subscriptions/a4e67b88-5120-438c-876d-dd83e216f0f7/resourceGroups/rg-3_dayML-ws/providers/Microsoft.MachineLearningServices/workspaces/ws-azureml-mlw/#/experiments/ba909f61-b6ac-461d-95d9-8a4ccb0f387f/runs/a18bf3c0-89b2-47ec-a449-e35e4ae06cdb\n",
            "🧪 View experiment at: https://eastus.api.azureml.ms/mlflow/v2.0/subscriptions/a4e67b88-5120-438c-876d-dd83e216f0f7/resourceGroups/rg-3_dayML-ws/providers/Microsoft.MachineLearningServices/workspaces/ws-azureml-mlw/#/experiments/ba909f61-b6ac-461d-95d9-8a4ccb0f387f\n",
            "🏃 View run sweet_rice_8v98kd25 at: https://eastus.api.azureml.ms/mlflow/v2.0/subscriptions/a4e67b88-5120-438c-876d-dd83e216f0f7/resourceGroups/rg-3_dayML-ws/providers/Microsoft.MachineLearningServices/workspaces/ws-azureml-mlw/#/experiments/ba909f61-b6ac-461d-95d9-8a4ccb0f387f/runs/ff45b4ed-74f2-4927-ad8e-15086560b340\n",
            "🧪 View experiment at: https://eastus.api.azureml.ms/mlflow/v2.0/subscriptions/a4e67b88-5120-438c-876d-dd83e216f0f7/resourceGroups/rg-3_dayML-ws/providers/Microsoft.MachineLearningServices/workspaces/ws-azureml-mlw/#/experiments/ba909f61-b6ac-461d-95d9-8a4ccb0f387f\n",
            "🏃 View run affable_window_d3y31xm3 at: https://eastus.api.azureml.ms/mlflow/v2.0/subscriptions/a4e67b88-5120-438c-876d-dd83e216f0f7/resourceGroups/rg-3_dayML-ws/providers/Microsoft.MachineLearningServices/workspaces/ws-azureml-mlw/#/experiments/ba909f61-b6ac-461d-95d9-8a4ccb0f387f/runs/96cedb48-a797-4d1f-b60a-195bb989daf2\n",
            "🧪 View experiment at: https://eastus.api.azureml.ms/mlflow/v2.0/subscriptions/a4e67b88-5120-438c-876d-dd83e216f0f7/resourceGroups/rg-3_dayML-ws/providers/Microsoft.MachineLearningServices/workspaces/ws-azureml-mlw/#/experiments/ba909f61-b6ac-461d-95d9-8a4ccb0f387f\n",
            "🏃 View run plucky_cassava_6wpqhxz9 at: https://eastus.api.azureml.ms/mlflow/v2.0/subscriptions/a4e67b88-5120-438c-876d-dd83e216f0f7/resourceGroups/rg-3_dayML-ws/providers/Microsoft.MachineLearningServices/workspaces/ws-azureml-mlw/#/experiments/ba909f61-b6ac-461d-95d9-8a4ccb0f387f/runs/5a95843e-814f-4fc9-8a9c-35e1c83bbbfe\n",
            "🧪 View experiment at: https://eastus.api.azureml.ms/mlflow/v2.0/subscriptions/a4e67b88-5120-438c-876d-dd83e216f0f7/resourceGroups/rg-3_dayML-ws/providers/Microsoft.MachineLearningServices/workspaces/ws-azureml-mlw/#/experiments/ba909f61-b6ac-461d-95d9-8a4ccb0f387f\n",
            "[CV] END ...........................alpha=0.05, l1_ratio=0.7; total time=   1.4s\n",
            "[CV] END ............................alpha=1.0, l1_ratio=0.5; total time=   0.8s\n",
            "[CV] END ............................alpha=0.1, l1_ratio=0.9; total time=   7.5s\n",
            "[CV] END ............................alpha=0.5, l1_ratio=0.3; total time=   5.9s\n",
            "[CV] END ...........................alpha=0.05, l1_ratio=0.3; total time=   1.5s\n",
            "[CV] END ............................alpha=1.0, l1_ratio=0.7; total time=   0.9s\n",
            "[CV] END ............................alpha=0.5, l1_ratio=0.1; total time=   8.0s\n",
            "[CV] END ............................alpha=0.5, l1_ratio=0.5; total time=   5.6s\n",
            "[CV] END ............................alpha=0.1, l1_ratio=0.9; total time=   1.5s\n",
            "[CV] END ...........................alpha=0.05, l1_ratio=0.9; total time=   8.6s\n",
            "[CV] END ............................alpha=0.5, l1_ratio=0.7; total time=   5.8s\n",
            "[CV] END ............................alpha=0.1, l1_ratio=0.7; total time=   1.5s\n",
            "[CV] END ...........................alpha=0.05, l1_ratio=0.3; total time=  14.8s\n",
            "[CV] END ...........................alpha=0.05, l1_ratio=0.3; total time=   1.5s\n",
            "[CV] END ............................alpha=1.0, l1_ratio=0.9; total time=   0.8s\n",
            "[CV] END ............................alpha=0.5, l1_ratio=0.1; total time=   8.0s\n",
            "[CV] END ............................alpha=0.5, l1_ratio=0.7; total time=   6.2s\n",
            "[CV] END ...........................alpha=0.05, l1_ratio=0.9; total time=   1.4s\n",
            "[CV] END ............................alpha=1.0, l1_ratio=0.9; total time=   0.7s\n",
            "[CV] END ............................alpha=0.1, l1_ratio=0.7; total time=   8.2s\n",
            "[CV] END ............................alpha=0.5, l1_ratio=0.5; total time=   6.6s\n",
            "[CV] END ...........................alpha=0.05, l1_ratio=0.7; total time=   1.5s\n",
            "[CV] END ............................alpha=1.0, l1_ratio=0.9; total time=   0.8s\n",
            "[CV] END ............................alpha=0.5, l1_ratio=0.1; total time=   8.1s\n",
            "[CV] END ............................alpha=0.5, l1_ratio=0.9; total time=   6.4s\n",
            "[CV] END ...........................alpha=0.05, l1_ratio=0.5; total time=   1.4s\n",
            "[CV] END ............................alpha=1.0, l1_ratio=0.7; total time=   0.8s\n",
            "[CV] END ............................alpha=0.1, l1_ratio=0.9; total time=   7.8s\n",
            "[CV] END ............................alpha=0.5, l1_ratio=0.5; total time=   7.0s\n",
            "[CV] END ...........................alpha=0.01, l1_ratio=0.7; total time=   1.1s\n",
            "[CV] END ............................alpha=0.5, l1_ratio=0.9; total time=   1.3s\n",
            "[CV] END ...........................alpha=0.05, l1_ratio=0.9; total time=   9.2s\n",
            "[CV] END ............................alpha=0.5, l1_ratio=0.9; total time=   6.0s\n",
            "[CV] END ...........................alpha=0.01, l1_ratio=0.3; total time=   0.9s\n",
            "[CV] END ............................alpha=0.5, l1_ratio=0.3; total time=   1.5s\n",
            "[CV] END ...........................alpha=0.05, l1_ratio=0.3; total time=  15.5s\n",
            "[CV] END ...........................alpha=0.05, l1_ratio=0.7; total time=   1.5s\n",
            "[CV] END ............................alpha=1.0, l1_ratio=0.7; total time=   0.9s\n",
            "[CV] END ............................alpha=0.1, l1_ratio=0.9; total time=   7.5s\n",
            "[CV] END ............................alpha=0.5, l1_ratio=0.3; total time=   7.6s\n",
            "[CV] END ...........................alpha=0.01, l1_ratio=0.5; total time=   1.1s\n",
            "[CV] END ............................alpha=0.5, l1_ratio=0.5; total time=   1.4s\n",
            "[CV] END ...........................alpha=0.05, l1_ratio=0.9; total time=   9.5s\n",
            "[CV] END ............................alpha=1.0, l1_ratio=0.1; total time=   6.0s\n",
            "[CV] END ...........................alpha=0.01, l1_ratio=0.7; total time=   1.2s\n",
            "[CV] END ............................alpha=1.0, l1_ratio=0.1; total time=   1.2s\n",
            "[CV] END ............................alpha=0.1, l1_ratio=0.7; total time=   8.4s\n",
            "[CV] END ............................alpha=0.5, l1_ratio=0.7; total time=   7.0s\n",
            "[CV] END ...........................alpha=0.01, l1_ratio=0.3; total time=   1.0s\n",
            "[CV] END ............................alpha=0.5, l1_ratio=0.5; total time=   1.3s\n",
            "[CV] END ...........................alpha=0.05, l1_ratio=0.5; total time=  11.5s\n",
            "[CV] END ............................alpha=1.0, l1_ratio=0.7; total time=   4.4s\n",
            "[CV] END ...........................alpha=0.01, l1_ratio=0.1; total time=   1.1s\n",
            "[CV] END ............................alpha=0.5, l1_ratio=0.7; total time=   1.3s\n",
            "[CV] END ...........................alpha=0.05, l1_ratio=0.7; total time=  10.2s\n",
            "[CV] END ............................alpha=1.0, l1_ratio=0.3; total time=   5.6s\n",
            "[CV] END ............................alpha=0.5, l1_ratio=0.1; total time=   1.5s\n",
            "[CV] END ...........................alpha=0.05, l1_ratio=0.7; total time=  10.5s\n",
            "[CV] END ............................alpha=1.0, l1_ratio=0.3; total time=   5.3s\n",
            "[CV] END ...........................alpha=0.01, l1_ratio=0.7; total time=   1.2s\n",
            "[CV] END ............................alpha=0.5, l1_ratio=0.9; total time=   1.2s\n",
            "[CV] END ............................alpha=0.1, l1_ratio=0.3; total time=  10.4s\n",
            "[CV] END ............................alpha=1.0, l1_ratio=0.5; total time=   5.4s\n",
            "[CV] END ...........................alpha=0.05, l1_ratio=0.1; total time=   1.3s\n",
            "[CV] END ............................alpha=1.0, l1_ratio=0.3; total time=   1.0s\n",
            "[CV] END ............................alpha=0.1, l1_ratio=0.3; total time=  10.8s\n",
            "[CV] END ............................alpha=1.0, l1_ratio=0.5; total time=   5.0s\n",
            "[CV] END ...........................alpha=0.01, l1_ratio=0.5; total time=   1.1s\n",
            "[CV] END ............................alpha=0.5, l1_ratio=0.7; total time=   1.3s\n",
            "[CV] END ...........................alpha=0.05, l1_ratio=0.5; total time=  10.5s\n",
            "[CV] END ............................alpha=1.0, l1_ratio=0.3; total time=   6.2s\n",
            "[CV] END ...........................alpha=0.05, l1_ratio=0.5; total time=   1.4s\n",
            "[CV] END ............................alpha=1.0, l1_ratio=0.5; total time=   0.9s\n",
            "[CV] END ............................alpha=0.1, l1_ratio=0.7; total time=   7.3s\n",
            "[CV] END ............................alpha=0.5, l1_ratio=0.3; total time=   5.8s\n",
            "[CV] END ............................alpha=1.0, l1_ratio=0.9; total time=   3.2s\n",
            "[CV] END ...........................alpha=0.01, l1_ratio=0.9; total time=   1.3s\n",
            "[CV] END ............................alpha=1.0, l1_ratio=0.1; total time=   1.1s\n",
            "[CV] END ............................alpha=0.1, l1_ratio=0.5; total time=   9.7s\n",
            "[CV] END ............................alpha=1.0, l1_ratio=0.1; total time=   6.8s\n",
            "[CV] END ...........................alpha=0.05, l1_ratio=0.1; total time=   1.3s\n",
            "[CV] END ............................alpha=1.0, l1_ratio=0.3; total time=   1.0s\n",
            "[CV] END ............................alpha=0.1, l1_ratio=0.3; total time=  10.8s\n",
            "[CV] END ............................alpha=1.0, l1_ratio=0.5; total time=   5.8s\n",
            "[CV] END ...........................alpha=0.05, l1_ratio=0.3; total time=   1.2s\n",
            "[CV] END ............................alpha=1.0, l1_ratio=0.1; total time=   1.1s\n",
            "[CV] END ............................alpha=0.1, l1_ratio=0.5; total time=   9.5s\n",
            "[CV] END ............................alpha=1.0, l1_ratio=0.1; total time=   7.3s\n",
            "[CV] END ...........................alpha=0.01, l1_ratio=0.9; total time=   1.3s\n",
            "[CV] END ............................alpha=1.0, l1_ratio=0.5; total time=   1.0s\n",
            "[CV] END ............................alpha=0.1, l1_ratio=0.5; total time=   9.1s\n",
            "[CV] END ............................alpha=0.5, l1_ratio=0.9; total time=   4.1s\n",
            "[CV] END ............................alpha=1.0, l1_ratio=0.9; total time=   3.5s\n",
            "[CV] END ............................alpha=0.5, l1_ratio=0.1; total time=   1.4s\n",
            "[CV] END ...........................alpha=0.05, l1_ratio=0.7; total time=  11.3s\n",
            "[CV] END ............................alpha=1.0, l1_ratio=0.7; total time=   6.2s\n",
            "[CV] END ............................alpha=0.1, l1_ratio=0.9; total time=   1.5s\n",
            "[CV] END ...........................alpha=0.05, l1_ratio=0.5; total time=  11.8s\n",
            "[CV] END ............................alpha=1.0, l1_ratio=0.7; total time=   5.9s\n",
            "[CV] END ............................alpha=0.5, l1_ratio=0.1; total time=   1.5s\n",
            "[CV] END ...........................alpha=0.05, l1_ratio=0.3; total time=  12.8s\n",
            "[CV] END ............................alpha=1.0, l1_ratio=0.9; total time=   5.1s\n",
            "🏃 View run purple_map_gc7c3s6q at: https://eastus.api.azureml.ms/mlflow/v2.0/subscriptions/a4e67b88-5120-438c-876d-dd83e216f0f7/resourceGroups/rg-3_dayML-ws/providers/Microsoft.MachineLearningServices/workspaces/ws-azureml-mlw/#/experiments/ba909f61-b6ac-461d-95d9-8a4ccb0f387f/runs/54641e94-9db7-41d3-9e41-d4bb7e96b5b8\n",
            "🧪 View experiment at: https://eastus.api.azureml.ms/mlflow/v2.0/subscriptions/a4e67b88-5120-438c-876d-dd83e216f0f7/resourceGroups/rg-3_dayML-ws/providers/Microsoft.MachineLearningServices/workspaces/ws-azureml-mlw/#/experiments/ba909f61-b6ac-461d-95d9-8a4ccb0f387f\n",
            "ElasticNet Validation RMSE: 38.890260792060005\n",
            "[CV] END ...........................alpha=0.05, l1_ratio=0.1; total time=   1.1s\n",
            "[CV] END ............................alpha=0.5, l1_ratio=0.7; total time=   1.3s\n",
            "[CV] END ............................alpha=0.1, l1_ratio=0.1; total time= 1.3min\n",
            "First few predictions on the test set: [81.37216747 80.10767696 81.68871701 81.48416178 83.26335875]\n",
            "🏃 View run ElasticNet Hyperparameter Tuning at: https://eastus.api.azureml.ms/mlflow/v2.0/subscriptions/a4e67b88-5120-438c-876d-dd83e216f0f7/resourceGroups/rg-3_dayML-ws/providers/Microsoft.MachineLearningServices/workspaces/ws-azureml-mlw/#/experiments/ba909f61-b6ac-461d-95d9-8a4ccb0f387f/runs/9509ca55-1a44-4a17-92d6-0ba481b1ca6f\n",
            "🧪 View experiment at: https://eastus.api.azureml.ms/mlflow/v2.0/subscriptions/a4e67b88-5120-438c-876d-dd83e216f0f7/resourceGroups/rg-3_dayML-ws/providers/Microsoft.MachineLearningServices/workspaces/ws-azureml-mlw/#/experiments/ba909f61-b6ac-461d-95d9-8a4ccb0f387f\n",
            "ElasticNet model training and tracking completed.\n",
            "[CV] END ...........................alpha=0.01, l1_ratio=0.5; total time=   1.2s\n",
            "[CV] END ............................alpha=0.5, l1_ratio=0.9; total time=   1.2s\n",
            "[CV] END ............................alpha=0.1, l1_ratio=0.1; total time= 1.4min\n",
            "🏃 View run great_net_hx2hd7q7 at: https://eastus.api.azureml.ms/mlflow/v2.0/subscriptions/a4e67b88-5120-438c-876d-dd83e216f0f7/resourceGroups/rg-3_dayML-ws/providers/Microsoft.MachineLearningServices/workspaces/ws-azureml-mlw/#/experiments/ba909f61-b6ac-461d-95d9-8a4ccb0f387f/runs/ed0a1533-e90a-4e69-af38-04a484cd058d\n",
            "🧪 View experiment at: https://eastus.api.azureml.ms/mlflow/v2.0/subscriptions/a4e67b88-5120-438c-876d-dd83e216f0f7/resourceGroups/rg-3_dayML-ws/providers/Microsoft.MachineLearningServices/workspaces/ws-azureml-mlw/#/experiments/ba909f61-b6ac-461d-95d9-8a4ccb0f387f\n",
            "🏃 View run blue_kiwi_v4fld7xt at: https://eastus.api.azureml.ms/mlflow/v2.0/subscriptions/a4e67b88-5120-438c-876d-dd83e216f0f7/resourceGroups/rg-3_dayML-ws/providers/Microsoft.MachineLearningServices/workspaces/ws-azureml-mlw/#/experiments/ba909f61-b6ac-461d-95d9-8a4ccb0f387f/runs/c542b97f-3d6c-438d-b760-c7047503f68d\n",
            "🧪 View experiment at: https://eastus.api.azureml.ms/mlflow/v2.0/subscriptions/a4e67b88-5120-438c-876d-dd83e216f0f7/resourceGroups/rg-3_dayML-ws/providers/Microsoft.MachineLearningServices/workspaces/ws-azureml-mlw/#/experiments/ba909f61-b6ac-461d-95d9-8a4ccb0f387f\n"
          ]
        },
        {
          "name": "stderr",
          "output_type": "stream",
          "text": [
            "/anaconda/envs/azureml_py310_sdkv2/lib/python3.10/site-packages/sklearn/linear_model/_coordinate_descent.py:695: ConvergenceWarning: Objective did not converge. You might want to increase the number of iterations, check the scale of the features or consider increasing regularisation. Duality gap: 4.119e+07, tolerance: 2.827e+05\n",
            "  model = cd_fast.enet_coordinate_descent(\n",
            "/anaconda/envs/azureml_py310_sdkv2/lib/python3.10/site-packages/sklearn/linear_model/_coordinate_descent.py:695: ConvergenceWarning: Objective did not converge. You might want to increase the number of iterations, check the scale of the features or consider increasing regularisation. Duality gap: 8.132e+07, tolerance: 2.828e+05\n",
            "  model = cd_fast.enet_coordinate_descent(\n",
            "/anaconda/envs/azureml_py310_sdkv2/lib/python3.10/site-packages/sklearn/linear_model/_coordinate_descent.py:695: ConvergenceWarning: Objective did not converge. You might want to increase the number of iterations, check the scale of the features or consider increasing regularisation. Duality gap: 1.541e+08, tolerance: 2.827e+05\n",
            "  model = cd_fast.enet_coordinate_descent(\n",
            "/anaconda/envs/azureml_py310_sdkv2/lib/python3.10/site-packages/sklearn/linear_model/_coordinate_descent.py:695: ConvergenceWarning: Objective did not converge. You might want to increase the number of iterations, check the scale of the features or consider increasing regularisation. Duality gap: 1.311e+08, tolerance: 2.828e+05\n",
            "  model = cd_fast.enet_coordinate_descent(\n",
            "/anaconda/envs/azureml_py310_sdkv2/lib/python3.10/site-packages/sklearn/linear_model/_coordinate_descent.py:695: ConvergenceWarning: Objective did not converge. You might want to increase the number of iterations, check the scale of the features or consider increasing regularisation. Duality gap: 2.033e+08, tolerance: 2.829e+05\n",
            "  model = cd_fast.enet_coordinate_descent(\n",
            "/anaconda/envs/azureml_py310_sdkv2/lib/python3.10/site-packages/sklearn/linear_model/_coordinate_descent.py:695: ConvergenceWarning: Objective did not converge. You might want to increase the number of iterations, check the scale of the features or consider increasing regularisation. Duality gap: 1.301e+08, tolerance: 2.829e+05\n",
            "  model = cd_fast.enet_coordinate_descent(\n",
            "/anaconda/envs/azureml_py310_sdkv2/lib/python3.10/site-packages/sklearn/linear_model/_coordinate_descent.py:695: ConvergenceWarning: Objective did not converge. You might want to increase the number of iterations, check the scale of the features or consider increasing regularisation. Duality gap: 8.059e+07, tolerance: 2.829e+05\n",
            "  model = cd_fast.enet_coordinate_descent(\n",
            "/anaconda/envs/azureml_py310_sdkv2/lib/python3.10/site-packages/sklearn/linear_model/_coordinate_descent.py:695: ConvergenceWarning: Objective did not converge. You might want to increase the number of iterations, check the scale of the features or consider increasing regularisation. Duality gap: 8.596e+07, tolerance: 2.827e+05\n",
            "  model = cd_fast.enet_coordinate_descent(\n",
            "/anaconda/envs/azureml_py310_sdkv2/lib/python3.10/site-packages/sklearn/linear_model/_coordinate_descent.py:695: ConvergenceWarning: Objective did not converge. You might want to increase the number of iterations, check the scale of the features or consider increasing regularisation. Duality gap: 2.046e+08, tolerance: 2.828e+05\n",
            "  model = cd_fast.enet_coordinate_descent(\n",
            "/anaconda/envs/azureml_py310_sdkv2/lib/python3.10/site-packages/sklearn/linear_model/_coordinate_descent.py:695: ConvergenceWarning: Objective did not converge. You might want to increase the number of iterations, check the scale of the features or consider increasing regularisation. Duality gap: 7.535e+08, tolerance: 2.828e+05\n",
            "  model = cd_fast.enet_coordinate_descent(\n",
            "/anaconda/envs/azureml_py310_sdkv2/lib/python3.10/site-packages/sklearn/linear_model/_coordinate_descent.py:695: ConvergenceWarning: Objective did not converge. You might want to increase the number of iterations, check the scale of the features or consider increasing regularisation. Duality gap: 3.452e+08, tolerance: 2.828e+05\n",
            "  model = cd_fast.enet_coordinate_descent(\n",
            "/anaconda/envs/azureml_py310_sdkv2/lib/python3.10/site-packages/sklearn/linear_model/_coordinate_descent.py:695: ConvergenceWarning: Objective did not converge. You might want to increase the number of iterations, check the scale of the features or consider increasing regularisation. Duality gap: 2.867e+08, tolerance: 2.827e+05\n",
            "  model = cd_fast.enet_coordinate_descent(\n",
            "/anaconda/envs/azureml_py310_sdkv2/lib/python3.10/site-packages/sklearn/linear_model/_coordinate_descent.py:695: ConvergenceWarning: Objective did not converge. You might want to increase the number of iterations, check the scale of the features or consider increasing regularisation. Duality gap: 3.441e+08, tolerance: 2.829e+05\n",
            "  model = cd_fast.enet_coordinate_descent(\n",
            "/anaconda/envs/azureml_py310_sdkv2/lib/python3.10/site-packages/sklearn/linear_model/_coordinate_descent.py:695: ConvergenceWarning: Objective did not converge. You might want to increase the number of iterations, check the scale of the features or consider increasing regularisation. Duality gap: 6.933e+08, tolerance: 2.827e+05\n",
            "  model = cd_fast.enet_coordinate_descent(\n",
            "/anaconda/envs/azureml_py310_sdkv2/lib/python3.10/site-packages/sklearn/linear_model/_coordinate_descent.py:695: ConvergenceWarning: Objective did not converge. You might want to increase the number of iterations, check the scale of the features or consider increasing regularisation. Duality gap: 7.534e+08, tolerance: 2.829e+05\n",
            "  model = cd_fast.enet_coordinate_descent(\n",
            "2025/04/19 14:20:38 INFO mlflow.sklearn.utils: Logging the 5 best runs, 20 runs will be omitted.\n",
            "WARNING:urllib3.connectionpool:Retrying (Retry(total=6, connect=7, read=6, redirect=7, status=7)) after connection broken by 'ReadTimeoutError(\"HTTPSConnectionPool(host='eastus.api.azureml.ms', port=443): Read timed out. (read timeout=120)\")': /mlflow/v2.0/subscriptions/a4e67b88-5120-438c-876d-dd83e216f0f7/resourceGroups/rg-3_dayML-ws/providers/Microsoft.MachineLearningServices/workspaces/ws-azureml-mlw/api/2.0/mlflow/runs/create\n",
            "2025/04/19 14:22:39 WARNING mlflow.sklearn: Failed to log training dataset information to MLflow Tracking. Reason: 'Series' object has no attribute 'flatten'\n",
            "Successfully registered model 'le_elasticnet_model'.\n",
            "WARNING:urllib3.connectionpool:Retrying (Retry(total=6, connect=7, read=6, redirect=7, status=7)) after connection broken by 'ReadTimeoutError(\"HTTPSConnectionPool(host='eastus.api.azureml.ms', port=443): Read timed out. (read timeout=120)\")': /mlflow/v2.0/subscriptions/a4e67b88-5120-438c-876d-dd83e216f0f7/resourceGroups/rg-3_dayML-ws/providers/Microsoft.MachineLearningServices/workspaces/ws-azureml-mlw/api/2.0/mlflow/runs/create\n"
          ]
        }
      ],
      "source": [
        "from sklearn.linear_model import ElasticNet\n",
        "from sklearn.model_selection import GridSearchCV\n",
        "import mlflow.sklearn\n",
        "\n",
        "# Start an MLflow run\n",
        "with mlflow.start_run(run_name=\"ElasticNet Hyperparameter Tuning\"):\n",
        "    # Handle missing values by filling them with the median\n",
        "    from sklearn.impute import SimpleImputer\n",
        "    imputer = SimpleImputer(strategy='median')\n",
        "    X_train_le = imputer.fit_transform(X_train_le)\n",
        "    X_valid_le = imputer.transform(X_valid_le)\n",
        "    X_test_le = imputer.transform(X_test_le)\n",
        "\n",
        "    # Define the parameter grid for ElasticNet\n",
        "    elasticnet_param_grid = {\n",
        "        'alpha': [0.01, 0.05, 0.1, 0.5, 1.0],\n",
        "        'l1_ratio': [0.1, 0.3, 0.5, 0.7, 0.9]\n",
        "    }\n",
        "\n",
        "    # Initialize the ElasticNet model\n",
        "    elasticnet_model = ElasticNet()\n",
        "\n",
        "    # Perform GridSearchCV to find the best hyperparameters\n",
        "    grid_search_en = GridSearchCV(estimator=elasticnet_model, param_grid=elasticnet_param_grid, scoring='neg_mean_squared_error', cv=3, verbose=2, n_jobs=-1)\n",
        "    grid_search_en.fit(X_train_le, y_train_le)\n",
        "\n",
        "    # Get the best model and parameters\n",
        "    elasticnet_model = grid_search_en.best_estimator_\n",
        "    best_params_en = grid_search_en.best_params_\n",
        "    print(f\"Best Parameters for ElasticNet: {best_params_en}\")\n",
        "\n",
        "    # Log the best parameters\n",
        "    mlflow.log_params(best_params_en)\n",
        "\n",
        "    # Train the model on the training dataset\n",
        "    elasticnet_model.fit(X_train_le, y_train_le)\n",
        "\n",
        "    # Make predictions on the validation set\n",
        "    y_pred_valid_en = elasticnet_model.predict(X_valid_le)\n",
        "\n",
        "    # Evaluate the model using RMSE\n",
        "    en_rmse_valid = np.sqrt(mean_squared_error(y_valid_le, y_pred_valid_en))\n",
        "    print(f\"ElasticNet Validation RMSE: {en_rmse_valid}\")\n",
        "\n",
        "    # Log the RMSE metric\n",
        "    mlflow.log_metric(\"Validation RMSE\", en_rmse_valid)\n",
        "\n",
        "    # Make predictions on the test set\n",
        "    y_pred_test_en = elasticnet_model.predict(X_test_le)\n",
        "\n",
        "    # Log the ElasticNet model\n",
        "    mlflow.sklearn.log_model(elasticnet_model, artifact_path=\"le_elasticnet_model\", registered_model_name=\"le_elasticnet_model\")\n",
        "\n",
        "    # Display the first few predictions\n",
        "    print(\"First few predictions on the test set:\", y_pred_test_en[:5])\n",
        "\n",
        "print(\"ElasticNet model training and tracking completed.\")"
      ]
    },
    {
      "cell_type": "markdown",
      "metadata": {},
      "source": [
        "The next cell performs hyperparameter tuning for a `GradientBoostingRegressor` model using `GridSearchCV`.\n"
      ]
    },
    {
      "cell_type": "code",
      "execution_count": 53,
      "metadata": {
        "gather": {
          "logged": 1745073972470
        }
      },
      "outputs": [
        {
          "name": "stderr",
          "output_type": "stream",
          "text": [
            "WARNING:urllib3.connectionpool:Retrying (Retry(total=6, connect=7, read=6, redirect=7, status=7)) after connection broken by 'RemoteDisconnected('Remote end closed connection without response')': /mlflow/v2.0/subscriptions/a4e67b88-5120-438c-876d-dd83e216f0f7/resourceGroups/rg-3_dayML-ws/providers/Microsoft.MachineLearningServices/workspaces/ws-azureml-mlw/api/2.0/mlflow/runs/create\n",
            "2025/04/19 14:44:02 INFO mlflow.sklearn.utils: Logging the 5 best runs, no runs will be omitted.\n",
            "\u001b[31m2025/04/19 14:46:09 WARNING mlflow.models.model: Model logged without a signature and input example. Please set `input_example` parameter when logging the model to auto infer the model signature.\u001b[0m\n",
            "Registered model 'le_gradient_boosting_model' already exists. Creating a new version of this model...\n",
            "2025/04/19 14:46:11 INFO mlflow.store.model_registry.abstract_store: Waiting up to 300 seconds for model version to finish creation. Model name: le_gradient_boosting_model, version 2\n"
          ]
        },
        {
          "name": "stdout",
          "output_type": "stream",
          "text": [
            "Fitting 3 folds for each of 2 candidates, totalling 6 fits\n",
            "Best Parameters for GradientBoostingRegressor: {'criterion': 'squared_error', 'learning_rate': 0.045, 'loss': 'huber', 'max_depth': 6, 'max_features': 0.15, 'min_samples_leaf': 0.0074, 'min_samples_split': 0.00075, 'n_estimators': 50, 'subsample': 0.6}\n",
            "GradientBoostingRegressor Validation RMSE: 38.87197004704999\n",
            "🏃 View run GradientBoostingRegressor Hyperparameter Tuning at: https://eastus.api.azureml.ms/mlflow/v2.0/subscriptions/a4e67b88-5120-438c-876d-dd83e216f0f7/resourceGroups/rg-3_dayML-ws/providers/Microsoft.MachineLearningServices/workspaces/ws-azureml-mlw/#/experiments/ba909f61-b6ac-461d-95d9-8a4ccb0f387f/runs/b94859ca-702a-4e5b-8f28-bcbc1466120b\n",
            "🧪 View experiment at: https://eastus.api.azureml.ms/mlflow/v2.0/subscriptions/a4e67b88-5120-438c-876d-dd83e216f0f7/resourceGroups/rg-3_dayML-ws/providers/Microsoft.MachineLearningServices/workspaces/ws-azureml-mlw/#/experiments/ba909f61-b6ac-461d-95d9-8a4ccb0f387f\n",
            "GradientBoostingRegressor model training and tracking completed.\n"
          ]
        }
      ],
      "source": [
        "import mlflow.sklearn\n",
        "from sklearn.ensemble import GradientBoostingRegressor\n",
        "from sklearn.model_selection import GridSearchCV\n",
        "\n",
        "# Define the parameter grid for GradientBoostingRegressor\n",
        "param_grid = {\n",
        "    'learning_rate': [0.04, 0.045],\n",
        "    'n_estimators': [50],\n",
        "    'max_depth': [6],\n",
        "    'min_samples_split': [0.00075],\n",
        "    'min_samples_leaf': [0.0074],\n",
        "    'subsample': [0.6],\n",
        "    'max_features': [0.15],\n",
        "    'loss': ['huber'],\n",
        "    'criterion': ['squared_error']\n",
        "}\n",
        "\n",
        "# Initialize the GradientBoostingRegressor\n",
        "gbr = GradientBoostingRegressor()\n",
        "\n",
        "# Start an MLflow run\n",
        "with mlflow.start_run(run_name=\"GradientBoostingRegressor Hyperparameter Tuning\"):\n",
        "    # Perform GridSearchCV to find the best hyperparameters\n",
        "    grid_search_gbr = GridSearchCV(estimator=gbr, param_grid=param_grid, scoring='neg_mean_squared_error', cv=3, verbose=2, n_jobs=-1)\n",
        "    grid_search_gbr.fit(X_train_le, y_train_le)\n",
        "\n",
        "    # Get the best model and parameters\n",
        "    gbr_model = grid_search_gbr.best_estimator_\n",
        "    best_params_gbr = grid_search_gbr.best_params_\n",
        "    print(f\"Best Parameters for GradientBoostingRegressor: {best_params_gbr}\")\n",
        "\n",
        "    # Log the best parameters\n",
        "    mlflow.log_params(best_params_gbr)\n",
        "\n",
        "    # Make predictions on the validation set\n",
        "    y_pred_valid_gbr = gbr_model.predict(X_valid_le)\n",
        "\n",
        "    # Evaluate the model using RMSE\n",
        "    gbr_rmse_valid = np.sqrt(mean_squared_error(y_valid_le, y_pred_valid_gbr))\n",
        "    print(f\"GradientBoostingRegressor Validation RMSE: {gbr_rmse_valid}\")\n",
        "\n",
        "    # Log the RMSE metric\n",
        "    mlflow.log_metric(\"Validation RMSE\", gbr_rmse_valid)\n",
        "\n",
        "    # Log the GradientBoostingRegressor model\n",
        "    mlflow.sklearn.log_model(gbr_model, artifact_path=\"le_gradient_boosting_model\", registered_model_name=\"le_gradient_boosting_model\")\n",
        "\n",
        "    # Make predictions on the test set\n",
        "    y_pred_test_gbr = gbr_model.predict(X_test_le)\n",
        "\n",
        "print(\"GradientBoostingRegressor model training and tracking completed.\")"
      ]
    },
    {
      "cell_type": "markdown",
      "metadata": {},
      "source": [
        "The next cell performs hyperparameter tuning for a `LightGBM` model using `GridSearchCV`."
      ]
    },
    {
      "cell_type": "code",
      "execution_count": 55,
      "metadata": {
        "gather": {
          "logged": 1745074693306
        }
      },
      "outputs": [
        {
          "name": "stderr",
          "output_type": "stream",
          "text": [
            "WARNING:urllib3.connectionpool:Retrying (Retry(total=6, connect=7, read=6, redirect=7, status=7)) after connection broken by 'ReadTimeoutError(\"HTTPSConnectionPool(host='eastus.api.azureml.ms', port=443): Read timed out. (read timeout=120)\")': /mlflow/v2.0/subscriptions/a4e67b88-5120-438c-876d-dd83e216f0f7/resourceGroups/rg-3_dayML-ws/providers/Microsoft.MachineLearningServices/workspaces/ws-azureml-mlw/api/2.0/mlflow/runs/create\n",
            "2025/04/19 14:54:46 INFO mlflow.utils.autologging_utils: Created MLflow autologging run with ID '06a20fa8-1792-4fdf-82a9-5f84f203efc8', which will track hyperparameters, performance metrics, model artifacts, and lineage information for the current sklearn workflow\n",
            "/anaconda/envs/azureml_py310_sdkv2/lib/python3.10/site-packages/sklearn/utils/validation.py:2739: UserWarning: X does not have valid feature names, but LGBMRegressor was fitted with feature names\n",
            "  warnings.warn(\n",
            "2025/04/19 14:55:59 INFO mlflow.sklearn.utils: Logging the 5 best runs, no runs will be omitted.\n"
          ]
        },
        {
          "name": "stdout",
          "output_type": "stream",
          "text": [
            "Fitting 3 folds for each of 2 candidates, totalling 6 fits\n",
            "[LightGBM] [Info] Auto-choosing row-wise multi-threading, the overhead of testing was 0.016538 seconds.\n",
            "You can set `force_row_wise=true` to remove the overhead.\n",
            "And if memory is not enough, you can set `force_col_wise=true`.\n",
            "[LightGBM] [Info] Total Bins 2337\n",
            "[LightGBM] [Info] Number of data points in the train set: 2796022, number of used features: 17\n",
            "[LightGBM] [Info] Start training from score 81.362346\n",
            "🏃 View run neat_tongue_vcfjp3ll at: https://eastus.api.azureml.ms/mlflow/v2.0/subscriptions/a4e67b88-5120-438c-876d-dd83e216f0f7/resourceGroups/rg-3_dayML-ws/providers/Microsoft.MachineLearningServices/workspaces/ws-azureml-mlw/#/experiments/ba909f61-b6ac-461d-95d9-8a4ccb0f387f/runs/06a20fa8-1792-4fdf-82a9-5f84f203efc8\n",
            "🧪 View experiment at: https://eastus.api.azureml.ms/mlflow/v2.0/subscriptions/a4e67b88-5120-438c-876d-dd83e216f0f7/resourceGroups/rg-3_dayML-ws/providers/Microsoft.MachineLearningServices/workspaces/ws-azureml-mlw/#/experiments/ba909f61-b6ac-461d-95d9-8a4ccb0f387f\n",
            "Best Parameters: {'colsample_bytree': 1.0, 'learning_rate': 0.08, 'max_depth': 5, 'n_estimators': 200, 'num_leaves': 3, 'subsample': 0.65}\n",
            "LightGBM Validation RMSE: 38.85920345779875\n",
            "🏃 View run LightGBM Hyperparameter Tuning at: https://eastus.api.azureml.ms/mlflow/v2.0/subscriptions/a4e67b88-5120-438c-876d-dd83e216f0f7/resourceGroups/rg-3_dayML-ws/providers/Microsoft.MachineLearningServices/workspaces/ws-azureml-mlw/#/experiments/ba909f61-b6ac-461d-95d9-8a4ccb0f387f/runs/7dff0351-28f4-44cc-8ecf-2f3bec5f1b2a\n",
            "🧪 View experiment at: https://eastus.api.azureml.ms/mlflow/v2.0/subscriptions/a4e67b88-5120-438c-876d-dd83e216f0f7/resourceGroups/rg-3_dayML-ws/providers/Microsoft.MachineLearningServices/workspaces/ws-azureml-mlw/#/experiments/ba909f61-b6ac-461d-95d9-8a4ccb0f387f\n",
            "LightGBM model training and tracking completed.\n"
          ]
        }
      ],
      "source": [
        "import lightgbm as lgb\n",
        "import mlflow.lightgbm\n",
        "\n",
        "# Define the parameter grid for LightGBM\n",
        "param_grid = {\n",
        "    'num_leaves': [3],\n",
        "    'max_depth': [5, 10],\n",
        "    'learning_rate': [0.08],\n",
        "    'n_estimators': [200],\n",
        "    'subsample': [0.65],\n",
        "    'colsample_bytree': [1.0]\n",
        "}\n",
        "\n",
        "# Initialize the LightGBM model\n",
        "lgb_model = lgb.LGBMRegressor(random_state=42)\n",
        "\n",
        "# Perform GridSearchCV to find the best hyperparameters\n",
        "grid_search = GridSearchCV(estimator=lgb_model, param_grid=param_grid, scoring='neg_mean_squared_error', cv=3, verbose=2, n_jobs=-1)\n",
        "grid_search.fit(X_train_le, y_train_le)\n",
        "\n",
        "# Get the best model and parameters\n",
        "best_lgb_model = grid_search.best_estimator_\n",
        "best_params = grid_search.best_params_\n",
        "print(f\"Best Parameters: {best_params}\")\n",
        "\n",
        "# Start an MLflow run\n",
        "with mlflow.start_run(run_name=\"LightGBM Hyperparameter Tuning\"):\n",
        "    # Log the best parameters\n",
        "    mlflow.log_params(best_params)\n",
        "\n",
        "    # Make predictions on the validation set\n",
        "    y_pred_valid_lgb = best_lgb_model.predict(X_valid_le)\n",
        "\n",
        "    # Evaluate the model using RMSE\n",
        "    lgb_rmse_valid = np.sqrt(mean_squared_error(y_valid_le, y_pred_valid_lgb))\n",
        "    print(f\"LightGBM Validation RMSE: {lgb_rmse_valid}\")\n",
        "\n",
        "    # Log the RMSE metric\n",
        "    mlflow.log_metric(\"Validation RMSE\", lgb_rmse_valid)\n",
        "\n",
        "    # Log the LightGBM model\n",
        "    mlflow.lightgbm.log_model(best_lgb_model, artifact_path=\"le_lightgbm_model\", registered_model_name=\"le_lightgbm_model\")\n",
        "\n",
        "    # Make predictions on the test set\n",
        "    y_pred_test_lgb = best_lgb_model.predict(X_test_le)\n",
        "\n",
        "print(\"LightGBM model training and tracking completed.\")"
      ]
    },
    {
      "cell_type": "markdown",
      "metadata": {},
      "source": [
        "The next cell performs hyperparameter tuning for a `GradientBoostingRegressor` model using `GridSearchCV`.\n"
      ]
    },
    {
      "cell_type": "code",
      "execution_count": 56,
      "metadata": {
        "gather": {
          "logged": 1745075082936
        }
      },
      "outputs": [
        {
          "name": "stdout",
          "output_type": "stream",
          "text": [
            "Fitting 3 folds for each of 2 candidates, totalling 6 fits\n",
            "[LightGBM] [Info] Auto-choosing row-wise multi-threading, the overhead of testing was 0.020834 seconds.\n",
            "You can set `force_row_wise=true` to remove the overhead.\n",
            "And if memory is not enough, you can set `force_col_wise=true`.\n",
            "[LightGBM] [Info] Total Bins 2337\n",
            "[LightGBM] [Info] Number of data points in the train set: 1864014, number of used features: 17\n",
            "[LightGBM] [Info] Start training from score 81.376589\n",
            "[CV] END colsample_bytree=1.0, learning_rate=0.08, max_depth=5, n_estimators=200, num_leaves=3, subsample=0.65; total time=  36.0s\n",
            "[LightGBM] [Info] Auto-choosing col-wise multi-threading, the overhead of testing was 0.149484 seconds.\n",
            "You can set `force_col_wise=true` to remove the overhead.\n",
            "[LightGBM] [Info] Total Bins 2337\n",
            "[LightGBM] [Info] Number of data points in the train set: 1864015, number of used features: 17\n",
            "[LightGBM] [Info] Start training from score 81.351506\n",
            "[CV] END colsample_bytree=1.0, learning_rate=0.08, max_depth=5, n_estimators=200, num_leaves=3, subsample=0.65; total time=  54.6s\n",
            "[LightGBM] [Info] Auto-choosing col-wise multi-threading, the overhead of testing was 0.099365 seconds.\n",
            "You can set `force_col_wise=true` to remove the overhead.\n",
            "[LightGBM] [Info] Total Bins 2337\n",
            "[LightGBM] [Info] Number of data points in the train set: 1864015, number of used features: 17\n",
            "[LightGBM] [Info] Start training from score 81.358943\n",
            "[CV] END colsample_bytree=1.0, learning_rate=0.08, max_depth=5, n_estimators=200, num_leaves=3, subsample=0.65; total time=  54.8s\n",
            "[LightGBM] [Info] Auto-choosing col-wise multi-threading, the overhead of testing was 0.159102 seconds.\n",
            "You can set `force_col_wise=true` to remove the overhead.\n",
            "[LightGBM] [Info] Total Bins 2337\n",
            "[LightGBM] [Info] Number of data points in the train set: 1864015, number of used features: 17\n",
            "[LightGBM] [Info] Start training from score 81.358943\n",
            "[CV] END colsample_bytree=1.0, learning_rate=0.08, max_depth=10, n_estimators=200, num_leaves=3, subsample=0.65; total time=  54.7s\n",
            "[LightGBM] [Info] Auto-choosing col-wise multi-threading, the overhead of testing was 0.178450 seconds.\n",
            "You can set `force_col_wise=true` to remove the overhead.\n",
            "[LightGBM] [Info] Total Bins 2337\n",
            "[LightGBM] [Info] Number of data points in the train set: 1864015, number of used features: 17\n",
            "[LightGBM] [Info] Start training from score 81.351506\n",
            "[CV] END colsample_bytree=1.0, learning_rate=0.08, max_depth=10, n_estimators=200, num_leaves=3, subsample=0.65; total time=  54.9s\n",
            "[LightGBM] [Info] Auto-choosing col-wise multi-threading, the overhead of testing was 0.152119 seconds.\n",
            "You can set `force_col_wise=true` to remove the overhead.\n",
            "[LightGBM] [Info] Total Bins 2337\n",
            "[LightGBM] [Info] Number of data points in the train set: 1864014, number of used features: 17\n",
            "[LightGBM] [Info] Start training from score 81.376589\n",
            "[CV] END colsample_bytree=1.0, learning_rate=0.08, max_depth=10, n_estimators=200, num_leaves=3, subsample=0.65; total time=  55.2s\n",
            "[CV] END criterion=squared_error, learning_rate=0.04, loss=huber, max_depth=6, max_features=0.1, min_samples_leaf=0.0074, min_samples_split=0.00075, n_estimators=50, subsample=0.6; total time= 1.1min\n",
            "[CV] END criterion=squared_error, learning_rate=0.04, loss=huber, max_depth=6, max_features=0.1, min_samples_leaf=0.0074, min_samples_split=0.00075, n_estimators=50, subsample=0.6; total time= 1.1min\n",
            "[CV] END criterion=squared_error, learning_rate=0.045, loss=huber, max_depth=6, max_features=0.1, min_samples_leaf=0.0074, min_samples_split=0.00075, n_estimators=50, subsample=0.6; total time= 1.1min\n",
            "[CV] END criterion=squared_error, learning_rate=0.045, loss=huber, max_depth=6, max_features=0.1, min_samples_leaf=0.0074, min_samples_split=0.00075, n_estimators=50, subsample=0.6; total time= 1.1min\n",
            "[CV] END criterion=squared_error, learning_rate=0.045, loss=huber, max_depth=6, max_features=0.1, min_samples_leaf=0.0074, min_samples_split=0.00075, n_estimators=50, subsample=0.6; total time= 1.1min\n",
            "[CV] END criterion=squared_error, learning_rate=0.04, loss=huber, max_depth=6, max_features=0.1, min_samples_leaf=0.0074, min_samples_split=0.00075, n_estimators=50, subsample=0.6; total time= 1.1min\n",
            "🏃 View run coral_knot_g2bq6858 at: https://eastus.api.azureml.ms/mlflow/v2.0/subscriptions/a4e67b88-5120-438c-876d-dd83e216f0f7/resourceGroups/rg-3_dayML-ws/providers/Microsoft.MachineLearningServices/workspaces/ws-azureml-mlw/#/experiments/ba909f61-b6ac-461d-95d9-8a4ccb0f387f/runs/8da5b135-2859-4010-9f1c-c58a6b7f6172\n",
            "🧪 View experiment at: https://eastus.api.azureml.ms/mlflow/v2.0/subscriptions/a4e67b88-5120-438c-876d-dd83e216f0f7/resourceGroups/rg-3_dayML-ws/providers/Microsoft.MachineLearningServices/workspaces/ws-azureml-mlw/#/experiments/ba909f61-b6ac-461d-95d9-8a4ccb0f387f\n",
            "GradientBoostingRegressor Validation RMSE: 38.876055418738915\n",
            "🏃 View run hungry_needle_0gzlpyz3 at: https://eastus.api.azureml.ms/mlflow/v2.0/subscriptions/a4e67b88-5120-438c-876d-dd83e216f0f7/resourceGroups/rg-3_dayML-ws/providers/Microsoft.MachineLearningServices/workspaces/ws-azureml-mlw/#/experiments/ba909f61-b6ac-461d-95d9-8a4ccb0f387f/runs/fd2f0ad9-49f5-4860-b07a-2de74f108d2b\n",
            "🧪 View experiment at: https://eastus.api.azureml.ms/mlflow/v2.0/subscriptions/a4e67b88-5120-438c-876d-dd83e216f0f7/resourceGroups/rg-3_dayML-ws/providers/Microsoft.MachineLearningServices/workspaces/ws-azureml-mlw/#/experiments/ba909f61-b6ac-461d-95d9-8a4ccb0f387f\n",
            "Gradient Boosting Regressor model training and tracking completed.\n"
          ]
        },
        {
          "name": "stderr",
          "output_type": "stream",
          "text": [
            "2025/04/19 15:00:58 INFO mlflow.sklearn.utils: Logging the 5 best runs, no runs will be omitted.\n",
            "2025/04/19 15:03:00 WARNING mlflow.sklearn: Failed to log training dataset information to MLflow Tracking. Reason: 'Series' object has no attribute 'flatten'\n",
            "\u001b[31m2025/04/19 15:04:39 WARNING mlflow.models.model: Model logged without a signature and input example. Please set `input_example` parameter when logging the model to auto infer the model signature.\u001b[0m\n"
          ]
        }
      ],
      "source": [
        "from sklearn.ensemble import GradientBoostingRegressor\n",
        "from sklearn.metrics import mean_squared_error\n",
        "import numpy as np\n",
        "import mlflow.sklearn\n",
        "\n",
        "# Define the parameter grid for GradientBoostingRegressor\n",
        "param_grid = {\n",
        "    'learning_rate': [0.04, 0.045],\n",
        "    'n_estimators': [50],\n",
        "    'max_depth': [6],\n",
        "    'min_samples_split': [0.00075],\n",
        "    'min_samples_leaf': [0.0074],\n",
        "    'subsample': [0.6],\n",
        "    'max_features': [0.1],\n",
        "    'loss': ['huber'],\n",
        "    'criterion': ['squared_error']\n",
        "}\n",
        "\n",
        "# Perform GridSearchCV to find the best hyperparameters\n",
        "grid_search_gbr = GridSearchCV(\n",
        "    estimator=GradientBoostingRegressor(),\n",
        "    param_grid=param_grid,\n",
        "    scoring='neg_root_mean_squared_log_error',\n",
        "    cv=3,\n",
        "    verbose=2,\n",
        "    n_jobs=-1\n",
        ")\n",
        "\n",
        "# Fit the GridSearchCV on the training data\n",
        "grid_search_gbr.fit(X_train_le, y_train_le)\n",
        "\n",
        "# Get the best model and parameters\n",
        "gbr_model = grid_search_gbr.best_estimator_\n",
        "best_params_gbr = grid_search_gbr.best_params_\n",
        "print(f\"Best Parameters for GradientBoostingRegressor: {best_params_gbr}\")\n",
        "\n",
        "# Train the model on the training dataset\n",
        "gbr_model.fit(X_train_le, y_train_le)\n",
        "\n",
        "# Make predictions on the validation set\n",
        "y_pred_valid_gbr = gbr_model.predict(X_valid_le)\n",
        "\n",
        "# Evaluate the model using RMSE\n",
        "gbr_rmse_valid = np.sqrt(mean_squared_error(y_valid_le, y_pred_valid_gbr))\n",
        "print(f\"GradientBoostingRegressor Validation RMSE: {gbr_rmse_valid}\")\n",
        "\n",
        "# Log the model and metrics with MLflow\n",
        "mlflow.start_run()\n",
        "mlflow.log_params(gbr_model.get_params())\n",
        "mlflow.log_metric(\"Validation RMSE\", gbr_rmse_valid)\n",
        "mlflow.sklearn.log_model(gbr_model, artifact_path=\"le_gradient_boosting_model\")\n",
        "mlflow.end_run()\n",
        "\n",
        "print(\"Gradient Boosting Regressor model training and tracking completed.\")"
      ]
    },
    {
      "cell_type": "markdown",
      "metadata": {
        "nteract": {
          "transient": {
            "deleting": false
          }
        }
      },
      "source": [
        "The next cell performs hyperparameter tuning for a `ExtraTreesRegressor` model using `GridSearchCV`."
      ]
    },
    {
      "cell_type": "code",
      "execution_count": 58,
      "metadata": {
        "gather": {
          "logged": 1745076042471
        }
      },
      "outputs": [
        {
          "name": "stdout",
          "output_type": "stream",
          "text": [
            "Fitting 3 folds for each of 4 candidates, totalling 12 fits\n",
            "[CV] END bootstrap=False, max_features=0.6, min_samples_leaf=0.005, min_samples_split=0.005, n_estimators=10; total time=  31.7s\n",
            "[CV] END bootstrap=False, max_features=0.6, min_samples_leaf=0.005, min_samples_split=0.005, n_estimators=10; total time=  33.4s\n",
            "[CV] END bootstrap=False, max_features=0.6, min_samples_leaf=0.005, min_samples_split=0.005, n_estimators=10; total time=  33.9s\n",
            "🏃 View run patient_okra_h5hc1fhv at: https://eastus.api.azureml.ms/mlflow/v2.0/subscriptions/a4e67b88-5120-438c-876d-dd83e216f0f7/resourceGroups/rg-3_dayML-ws/providers/Microsoft.MachineLearningServices/workspaces/ws-azureml-mlw/#/experiments/ba909f61-b6ac-461d-95d9-8a4ccb0f387f/runs/cb0a13fc-4df7-4423-8534-e7dd4c79de88\n",
            "🧪 View experiment at: https://eastus.api.azureml.ms/mlflow/v2.0/subscriptions/a4e67b88-5120-438c-876d-dd83e216f0f7/resourceGroups/rg-3_dayML-ws/providers/Microsoft.MachineLearningServices/workspaces/ws-azureml-mlw/#/experiments/ba909f61-b6ac-461d-95d9-8a4ccb0f387f\n",
            "ExtraTreesRegressor Validation RMSE: 38.872700555897225\n",
            "[CV] END bootstrap=False, max_features=0.8, min_samples_leaf=0.005, min_samples_split=0.005, n_estimators=10; total time=  40.0s\n",
            "First few predictions on the test set: [81.76871163 78.8319184  81.14971073 83.57169371 83.34260837]\n",
            "[CV] END bootstrap=False, max_features=0.8, min_samples_leaf=0.005, min_samples_split=0.005, n_estimators=10; total time=  41.4s\n",
            "[CV] END bootstrap=False, max_features=0.8, min_samples_leaf=0.005, min_samples_split=0.005, n_estimators=10; total time=  41.8s\n",
            "[CV] END bootstrap=False, max_features=0.6, min_samples_leaf=0.005, min_samples_split=0.005, n_estimators=15; total time=  48.9s\n",
            "ExtraTreesRegressor model training and tracking completed.\n"
          ]
        },
        {
          "name": "stderr",
          "output_type": "stream",
          "text": [
            "2025/04/19 15:17:11 INFO mlflow.sklearn.utils: Logging the 5 best runs, no runs will be omitted.\n",
            "2025/04/19 15:19:18 WARNING mlflow.sklearn: Failed to log training dataset information to MLflow Tracking. Reason: 'Series' object has no attribute 'flatten'\n",
            "\u001b[31m2025/04/19 15:20:38 WARNING mlflow.models.model: Model logged without a signature and input example. Please set `input_example` parameter when logging the model to auto infer the model signature.\u001b[0m\n",
            "Successfully registered model 'le_extra_trees_model'.\n",
            "Created version '1' of model 'le_extra_trees_model'.\n"
          ]
        }
      ],
      "source": [
        "from sklearn.ensemble import ExtraTreesRegressor\n",
        "from sklearn.metrics import mean_squared_error\n",
        "import numpy as np\n",
        "from sklearn.model_selection import GridSearchCV\n",
        "\n",
        "# Define the parameter grid for ExtraTreesRegressor\n",
        "param_grid_et = {\n",
        "    'n_estimators': [10, 15],\n",
        "    'max_features': [0.6, 0.8],\n",
        "    'min_samples_split': [0.005],\n",
        "    'min_samples_leaf': [0.005],\n",
        "    'bootstrap': [False]\n",
        "}\n",
        "\n",
        "# Initialize the ExtraTreesRegressor\n",
        "extra_trees_model = ExtraTreesRegressor()\n",
        "\n",
        "# Perform GridSearchCV to find the best hyperparameters\n",
        "grid_search_et = GridSearchCV(\n",
        "    estimator=extra_trees_model,\n",
        "    param_grid=param_grid_et,\n",
        "    scoring='neg_mean_squared_error',\n",
        "    cv=3,\n",
        "    verbose=2,\n",
        "    n_jobs=-1\n",
        ")\n",
        "\n",
        "# Fit the GridSearchCV on the training data\n",
        "grid_search_et.fit(X_train_le, y_train_le)\n",
        "\n",
        "# Get the best model and parameters\n",
        "extra_trees_model = grid_search_et.best_estimator_\n",
        "best_params_et = grid_search_et.best_params_\n",
        "print(f\"Best Parameters for ExtraTreesRegressor: {best_params_et}\")\n",
        "\n",
        "# Train the model on the training dataset\n",
        "extra_trees_model.fit(X_train_le, y_train_le)\n",
        "\n",
        "# Make predictions on the validation set\n",
        "y_pred_valid_et = extra_trees_model.predict(X_valid_le)\n",
        "\n",
        "# Evaluate the model using RMSE\n",
        "et_rmse_valid = np.sqrt(mean_squared_error(y_valid_le, y_pred_valid_et))\n",
        "print(f\"ExtraTreesRegressor Validation RMSE: {et_rmse_valid}\")\n",
        "\n",
        "# Make predictions on the test set\n",
        "y_pred_test_et = extra_trees_model.predict(X_test_le)\n",
        "\n",
        "# Display the first few predictions\n",
        "print(\"First few predictions on the test set:\", y_pred_test_et[:5])\n",
        "\n",
        "\n",
        "# Log the model and metrics with MLflow\n",
        "mlflow.start_run(run_name=\"ExtraTreesRegressor Hyperparameter Tuning\")\n",
        "mlflow.log_params(best_params_et)\n",
        "mlflow.log_metric(\"Validation RMSE\", et_rmse_valid)\n",
        "mlflow.sklearn.log_model(extra_trees_model, artifact_path=\"le_extra_trees_model\", registered_model_name=\"le_extra_trees_model\")\n",
        "mlflow.end_run()\n",
        "\n",
        "print(\"ExtraTreesRegressor model training and tracking completed.\")"
      ]
    },
    {
      "cell_type": "markdown",
      "metadata": {},
      "source": [
        "\n",
        "\n",
        "## 6. Final Submission\n",
        "\n",
        "In this section, we will select the best model and make final predictions on the test set.\n"
      ]
    },
    {
      "cell_type": "code",
      "execution_count": null,
      "metadata": {
        "gather": {
          "logged": 1745077192883
        }
      },
      "outputs": [
        {
          "name": "stdout",
          "output_type": "stream",
          "text": [
            "LE XGBoost Regressor Validation RMSE: 38.85272280530174\n",
            "LE Linear Regression Validation RMSE: 38.88934990411435\n",
            "LE ElasticNet Validation RMSE: 38.890260792060005\n",
            "[CV] END bootstrap=False, max_features=0.8, min_samples_leaf=0.005, min_samples_split=0.005, n_estimators=15; total time=  57.0s\n",
            "[CV] END bootstrap=False, max_features=0.8, min_samples_leaf=0.005, min_samples_split=0.005, n_estimators=15; total time=  57.1s\n",
            "[CV] END bootstrap=False, max_features=0.8, min_samples_leaf=0.005, min_samples_split=0.005, n_estimators=15; total time=  58.6s\n",
            "LE Gradient Boosting Regressor Validation RMSE: 38.876055418738915\n",
            "LE LightGBM Validation RMSE: 38.85920345779875\n",
            "LE Extra Trees Regressor Validation RMSE: 38.872700555897225\n",
            "XGBoost Booster Validation RMSE: 38.83565164966077\n",
            "XGBoost Regressor Validation RMSE: 38.856067148720605\n",
            "Random Forest Regressor v2 Validation RMSE: 38.8431194593009\n",
            "Neural Network Validation RMSE: 38.86741939840839\n",
            "\n",
            "Best Model: LE XGBoost Booster with RMSE: 38.83358212137811\n"
          ]
        },
        {
          "name": "stderr",
          "output_type": "stream",
          "text": [
            "2025/04/19 15:20:43 WARNING mlflow.utils.autologging_utils: Encountered unexpected error during lightgbm autologging: UserError: Resource Conflict: ArtifactId ExperimentRun/dcid.048ca1c9-4af4-4521-ac4f-3b48b0bd715f/metric_info.json already exists.\n",
            "WARNING:urllib3.connectionpool:Retrying (Retry(total=6, connect=7, read=6, redirect=7, status=7)) after connection broken by 'ReadTimeoutError(\"HTTPSConnectionPool(host='eastus.api.azureml.ms', port=443): Read timed out. (read timeout=120)\")': /mlflow/v2.0/subscriptions/a4e67b88-5120-438c-876d-dd83e216f0f7/resourceGroups/rg-3_dayML-ws/providers/Microsoft.MachineLearningServices/workspaces/ws-azureml-mlw/api/2.0/mlflow/runs/log-metric\n",
            "WARNING:urllib3.connectionpool:Retrying (Retry(total=6, connect=7, read=6, redirect=7, status=7)) after connection broken by 'ReadTimeoutError(\"HTTPSConnectionPool(host='eastus.api.azureml.ms', port=443): Read timed out. (read timeout=120)\")': /mlflow/v2.0/subscriptions/a4e67b88-5120-438c-876d-dd83e216f0f7/resourceGroups/rg-3_dayML-ws/providers/Microsoft.MachineLearningServices/workspaces/ws-azureml-mlw/api/2.0/mlflow/runs/log-metric\n"
          ]
        }
      ],
      "source": [
        "def get_best_model(models, validation_predictions, y_valid, y_valid_le=None):\n",
        "    \n",
        "    best_model_name = None\n",
        "    best_model = None\n",
        "    best_rmse = float('inf')\n",
        "\n",
        "    for model_name, model in models.items():\n",
        "        predictions = validation_predictions[model_name]\n",
        "        target = y_valid_le if \"LE\" in model_name else y_valid\n",
        "        rmse = np.sqrt(mean_squared_error(target, predictions))\n",
        "        print(f\"{model_name} Validation RMSE: {rmse}\")\n",
        "\n",
        "        if rmse < best_rmse:\n",
        "            best_rmse = rmse\n",
        "            best_model_name = model_name\n",
        "            best_model = model\n",
        "\n",
        "    print(f\"\\nBest Model: {best_model_name} with RMSE: {best_rmse}\")\n",
        "    return best_model_name, best_model, best_rmse\n",
        "\n",
        "# Example usage:\n",
        "models = {\n",
        "    \"LE XGBoost Booster\": le_xgb_model,\n",
        "    \"LE XGBoost Regressor\": le_xgb_regressor,\n",
        "    \"LE Linear Regression\": le_lr_model,\n",
        "    \"LE ElasticNet\": elasticnet_model,\n",
        "    \"LE Gradient Boosting Regressor\": gbr_model,\n",
        "    \"LE LightGBM\": best_lgb_model,\n",
        "    \"LE Extra Trees Regressor\": extra_trees_model,\n",
        "    \"XGBoost Booster\": xgb_model,\n",
        "    \"XGBoost Regressor\": xgb_regressor,\n",
        "    \"Linear Regression\": lr_model,\n",
        "    \"Random Forest Regressor\": rf_model,\n",
        "    \"Random Forest Regressor v2\": rf_model2,\n",
        "    \"Neural Network\": model\n",
        "}\n",
        "validation_predictions = {\n",
        "    \"LE XGBoost Booster\": le_y_pred_valid,\n",
        "    \"LE XGBoost Regressor\": le_y_pred_valid_xgb,\n",
        "    \"LE Linear Regression\": le_y_pred_lr,\n",
        "    \"LE ElasticNet\": y_pred_valid_en,\n",
        "    \"LE Gradient Boosting Regressor\": y_pred_valid_gbr,\n",
        "    \"LE LightGBM\": y_pred_valid_lgb,\n",
        "    \"LE Extra Trees Regressor\": y_pred_valid_et,\n",
        "    \"XGBoost Booster\": y_pred_valid,\n",
        "    \"XGBoost Regressor\": y_pred_valid_xgb,\n",
        "    \"Linear Regression\": y_pred_lr,\n",
        "    \"Random Forest Regressor\": y_pred_valid_rf,\n",
        "    \"Random Forest Regressor v2\": y_pred_valid_rf,\n",
        "    \"Neural Network\": y_pred_nn\n",
        "}\n",
        "\n",
        "best_model_name, best_model, best_rmse = get_best_model(models, validation_predictions, y_valid, y_valid_le)"
      ]
    },
    {
      "cell_type": "markdown",
      "metadata": {},
      "source": [
        "\n",
        "\n",
        "## 7. Conclusion\n",
        "\n",
        "In this section, we will summarize our findings and discuss the implications of our results."
      ]
    },
    {
      "cell_type": "code",
      "execution_count": null,
      "metadata": {
        "gather": {
          "logged": 1745077927749
        }
      },
      "outputs": [
        {
          "name": "stderr",
          "output_type": "stream",
          "text": [
            "/tmp/ipykernel_89547/4174354731.py:29: FutureWarning: \n",
            "\n",
            "Passing `palette` without assigning `hue` is deprecated and will be removed in v0.14.0. Assign the `y` variable to `hue` and set `legend=False` for the same effect.\n",
            "\n",
            "  sns.barplot(data=rmse_df, x='RMSE', y='Model', palette='coolwarm', orient='h')\n"
          ]
        },
        {
          "data": {
            "text/plain": [
              "<function __main__.<lambda>(sel)>"
            ]
          },
          "execution_count": 73,
          "metadata": {},
          "output_type": "execute_result"
        },
        {
          "data": {
            "image/png": "[encoded data removed]",
            "text/plain": [
              "<Figure size 1200x600 with 1 Axes>"
            ]
          },
          "metadata": {},
          "output_type": "display_data"
        }
      ],
      "source": [
        "import seaborn as sns\n",
        "import mplcursors\n",
        "\n",
        "# Create a dictionary of model names and their RMSE scores\n",
        "model_rmse_scores = {\n",
        "    \"LE XGBoost Booster\": le_xgb_rmse_valid,\n",
        "    \"LE XGBoost Regressor\": le_xgbreg_rmse_valid,\n",
        "    \"LE Linear Regression\": le_rmse_lr,\n",
        "    \"LE ElasticNet\": en_rmse_valid,\n",
        "    \"LE Gradient Boosting Regressor\": gbr_rmse_valid,\n",
        "    \"LE LightGBM\": lgb_rmse_valid,\n",
        "    \"LE Extra Trees Regressor\": et_rmse_valid,\n",
        "    \"XGBoost Booster\": xgb_rmse_valid,\n",
        "    \"XGBoost Regressor\": xgbreg_rmse_valid,\n",
        "    \"Linear Regression\": rmse_lr,\n",
        "    \"Random Forest Regressor\": rf_rmse_valid,\n",
        "    \"Neural Network\": nn_rmse_valid\n",
        "}\n",
        "\n",
        "# Sort the models by RMSE scores\n",
        "sorted_model_rmse = dict(sorted(model_rmse_scores.items(), key=lambda item: item[1]))\n",
        "\n",
        "# Convert the sorted dictionary to a DataFrame for Seaborn\n",
        "rmse_df = pd.DataFrame(list(sorted_model_rmse.items()), columns=['Model', 'RMSE'])\n",
        "\n",
        "# Plot the RMSE scores with Seaborn\n",
        "plt.figure(figsize=(12, 6))\n",
        "sns.barplot(data=rmse_df, x='RMSE', y='Model', palette='coolwarm', orient='h')\n",
        "plt.xlabel('RMSE Score')\n",
        "plt.ylabel('Model')\n",
        "plt.title('Model RMSE Scores (Zoomed In)')\n",
        "plt.xlim(38, 39)  # Set the x-axis limits to zoom in\n",
        "plt.xticks(np.linspace(38, 39, 20), rotation=45)  # Add 20 bins between 38 and 39\n",
        "plt.grid(axis='x', linestyle='--', alpha=0.7)\n",
        "plt.tight_layout()\n",
        "\n",
        "# Add tooltips for the bars\n",
        "cursor = mplcursors.cursor(hover=True)\n",
        "cursor.connect(\"add\", lambda sel: sel.annotation.set_text(f\"{sel.artist.get_label()}\"))"
      ]
    },
    {
      "cell_type": "code",
      "execution_count": 81,
      "metadata": {
        "gather": {
          "logged": 1745078289456
        }
      },
      "outputs": [
        {
          "name": "stdout",
          "output_type": "stream",
          "text": [
            "The best model is 'LE XGBoost Booster' with a validation RMSE of 38.834.\n"
          ]
        }
      ],
      "source": [
        "# Print the best model and its RMSE score\n",
        "print(f\"The best model is '{best_model_name}' with a validation RMSE of {best_rmse:.3f}.\")"
      ]
    },
    {
      "cell_type": "markdown",
      "metadata": {
        "nteract": {
          "transient": {
            "deleting": false
          }
        }
      },
      "source": [
        "## Conclusion\n",
        "\n",
        "This notebook explored various machine learning models and techniques to predict the price of backpacks based on their features. The key findings and steps are summarized below:\n",
        "\n",
        "1. **Exploratory Data Analysis (EDA)**:\n",
        "    - The dataset contained a mix of categorical and numerical features, with some missing values.\n",
        "    - Significant correlations were observed between certain features and the target variable (`Price`).\n",
        "    - The `training_extra` dataset provided additional data, which improved model training.\n",
        "\n",
        "2. **Data Preprocessing**:\n",
        "    - Missing values in numerical columns were imputed using the median, while categorical columns were filled with \"Missing\".\n",
        "    - Numerical features were standardized, and categorical features were one-hot encoded for most models.\n",
        "    - Feature engineering was performed by combining categorical features with `Weight Capacity`.\n",
        "\n",
        "3. **Modeling**:\n",
        "    - Multiple models were trained, including Linear Regression, Random Forest, XGBoost, LightGBM, Gradient Boosting, Neural Networks, and Extra Trees.\n",
        "    - Hyperparameter tuning was performed for several models using `GridSearchCV` to optimize their performance.\n",
        "    - Validation RMSE was used as the primary evaluation metric to compare models.\n",
        "\n",
        "4. **Findings**:\n",
        "    - XGBoost and LightGBM consistently outperformed other models in terms of validation RMSE.\n",
        "    - Neural Networks showed competitive performance but required careful tuning and longer training times.\n",
        "    - Random Forest and Extra Trees provided reasonable performance but were slightly less accurate than boosting models.\n",
        "    - Median imputation for numerical features was as effective as KNN imputation, while being computationally simpler.\n",
        "\n",
        "5. **Best Model**:\n",
        "    - The best-performing model was identified as `XGBoost` with label encoded features, achieving the lowest validation RMSE.\n",
        "\n",
        "6. **Future Work**:\n",
        "    - Further optimization of hyperparameters using advanced techniques like Bayesian Optimization.\n",
        "    - Exploration of other ensemble methods to combine predictions from multiple models.\n",
        "    - Incorporation of domain-specific knowledge to improve feature engineering.\n",
        "\n",
        "In conclusion, this notebook demonstrated a comprehensive approach to solving a regression problem using various machine learning models and preprocessing techniques. The findings highlight the importance of data preprocessing, feature engineering, and model selection in achieving accurate predictions. The best model can now be used to make final predictions on the test dataset for submission to the competition.\n"
      ]
    },
    {
      "cell_type": "code",
      "execution_count": 87,
      "metadata": {
        "gather": {
          "logged": 1745081017953
        }
      },
      "outputs": [
        {
          "name": "stdout",
          "output_type": "stream",
          "text": [
            "🏃 View run frank_house_395trww4 at: https://eastus.api.azureml.ms/mlflow/v2.0/subscriptions/a4e67b88-5120-438c-876d-dd83e216f0f7/resourceGroups/rg-3_dayML-ws/providers/Microsoft.MachineLearningServices/workspaces/ws-azureml-mlw/#/experiments/ba909f61-b6ac-461d-95d9-8a4ccb0f387f/runs/345009a4-7239-4194-90cf-713b87d5a36b\n",
            "🧪 View experiment at: https://eastus.api.azureml.ms/mlflow/v2.0/subscriptions/a4e67b88-5120-438c-876d-dd83e216f0f7/resourceGroups/rg-3_dayML-ws/providers/Microsoft.MachineLearningServices/workspaces/ws-azureml-mlw/#/experiments/ba909f61-b6ac-461d-95d9-8a4ccb0f387f\n"
          ]
        }
      ],
      "source": [
        "mlflow.end_run()"
      ]
    },
    {
      "cell_type": "markdown",
      "metadata": {},
      "source": [
        "New Shuri Baseline Edits\n",
        "\n",
        "**DONE**:\n",
        "- one hot encoding categorcal\n",
        "- median impute for numerical and missing for categorical\n",
        "  - compared knnimpute vs median impute for numerical (same MAE on a simple linear model)\n",
        "- verify/removed \"multiplying weight capacity by 100\" feature\n",
        "- Center = 0 in Heatmap to highlight negative vs. positive correlation more clearly.\n",
        "- check missing values meaning -> don't have domain-specific knowledge (confirm this?)\n",
        "- standardized numeric features (inserted standardscaler step after imputing numeric cols, before ohe)\n",
        "\n",
        "note: i moved your xgboost after the OHE for cohesion + updated the variable names accordingly\n",
        "\n",
        "**TO DO**:\n",
        "\n",
        "- Do Hyperparameter Tuning: - thought you could edit your code for this @perry\n",
        "  - Instead of a single set of XGBoost parameters, do a small grid search or RandomizedSearchCV on learning_rate, max_depth, n_estimators, etc. Evaluate on validation set.\n",
        "- Try even more models (Neural Networks, Random Forest)\n",
        "- create final comparison table\n",
        "\n",
        "\n"
      ]
    }
  ],
  "metadata": {
    "kernelspec": {
      "display_name": "kaggle_env",
      "language": "python",
      "name": "python3"
    },
    "language_info": {
      "codemirror_mode": {
        "name": "ipython",
        "version": 3
      },
      "file_extension": ".py",
      "mimetype": "text/x-python",
      "name": "python",
      "nbconvert_exporter": "python",
      "pygments_lexer": "ipython3",
      "version": "3.10.16"
    },
    "microsoft": {
      "host": {
        "AzureML": {
          "notebookHasBeenCompleted": true
        }
      },
      "ms_spell_check": {
        "ms_spell_check_language": "en"
      }
    },
    "nteract": {
      "version": "nteract-front-end@1.0.0"
    }
  },
  "nbformat": 4,
  "nbformat_minor": 2
}
